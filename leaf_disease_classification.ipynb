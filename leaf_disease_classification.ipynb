{
 "cells": [
  {
   "cell_type": "code",
   "execution_count": 1,
   "id": "dv0DgfUiRFVT",
   "metadata": {
    "colab": {
     "base_uri": "https://localhost:8080/"
    },
    "id": "dv0DgfUiRFVT",
    "outputId": "c31f54c2-bdc2-4003-fc41-3a8f2bb73c2a"
   },
   "outputs": [
    {
     "name": "stdout",
     "output_type": "stream",
     "text": [
      "Collecting fsspec\n",
      "\u001b[?25l  Downloading https://files.pythonhosted.org/packages/ec/80/72ac0982cc833945fada4b76c52f0f65435ba4d53bc9317d1c70b5f7e7d5/fsspec-0.8.5-py3-none-any.whl (98kB)\n",
      "\u001b[K     |████████████████████████████████| 102kB 3.1MB/s \n",
      "\u001b[?25hCollecting gcsfs\n",
      "  Downloading https://files.pythonhosted.org/packages/ef/7a/c847e1a170be1836d8df2d3e0449b349b06c90a627914196e084b75b0284/gcsfs-0.7.2-py2.py3-none-any.whl\n",
      "Collecting aiohttp\n",
      "\u001b[?25l  Downloading https://files.pythonhosted.org/packages/ad/e6/d4b6235d776c9b33f853e603efede5aac5a34f71ca9d3877adb30492eb4e/aiohttp-3.7.3-cp36-cp36m-manylinux2014_x86_64.whl (1.3MB)\n",
      "\u001b[K     |████████████████████████████████| 1.3MB 27.9MB/s \n",
      "\u001b[?25hRequirement already satisfied: google-auth>=1.2 in /usr/local/lib/python3.6/dist-packages (from gcsfs) (1.25.0)\n",
      "Requirement already satisfied: decorator in /usr/local/lib/python3.6/dist-packages (from gcsfs) (4.4.2)\n",
      "Requirement already satisfied: requests in /usr/local/lib/python3.6/dist-packages (from gcsfs) (2.23.0)\n",
      "Requirement already satisfied: google-auth-oauthlib in /usr/local/lib/python3.6/dist-packages (from gcsfs) (0.4.2)\n",
      "Requirement already satisfied: chardet<4.0,>=2.0 in /usr/local/lib/python3.6/dist-packages (from aiohttp->gcsfs) (3.0.4)\n",
      "Collecting idna-ssl>=1.0; python_version < \"3.7\"\n",
      "  Downloading https://files.pythonhosted.org/packages/46/03/07c4894aae38b0de52b52586b24bf189bb83e4ddabfe2e2c8f2419eec6f4/idna-ssl-1.1.0.tar.gz\n",
      "Requirement already satisfied: attrs>=17.3.0 in /usr/local/lib/python3.6/dist-packages (from aiohttp->gcsfs) (20.3.0)\n",
      "Collecting async-timeout<4.0,>=3.0\n",
      "  Downloading https://files.pythonhosted.org/packages/e1/1e/5a4441be21b0726c4464f3f23c8b19628372f606755a9d2e46c187e65ec4/async_timeout-3.0.1-py3-none-any.whl\n",
      "Collecting multidict<7.0,>=4.5\n",
      "\u001b[?25l  Downloading https://files.pythonhosted.org/packages/a1/35/b22524d6b9cacfb4c5eff413a069bbc17c6ea628e54da5c6c989998ced5f/multidict-5.1.0-cp36-cp36m-manylinux2014_x86_64.whl (141kB)\n",
      "\u001b[K     |████████████████████████████████| 143kB 50.3MB/s \n",
      "\u001b[?25hRequirement already satisfied: typing-extensions>=3.6.5 in /usr/local/lib/python3.6/dist-packages (from aiohttp->gcsfs) (3.7.4.3)\n",
      "Collecting yarl<2.0,>=1.0\n",
      "\u001b[?25l  Downloading https://files.pythonhosted.org/packages/da/08/52b26b44bce7b818b410aee37c5e424c9ea420c557bca97dc2adac29b151/yarl-1.6.3-cp36-cp36m-manylinux2014_x86_64.whl (293kB)\n",
      "\u001b[K     |████████████████████████████████| 296kB 49.2MB/s \n",
      "\u001b[?25hRequirement already satisfied: six>=1.9.0 in /usr/local/lib/python3.6/dist-packages (from google-auth>=1.2->gcsfs) (1.15.0)\n",
      "Requirement already satisfied: setuptools>=40.3.0 in /usr/local/lib/python3.6/dist-packages (from google-auth>=1.2->gcsfs) (53.0.0)\n",
      "Requirement already satisfied: rsa<5,>=3.1.4; python_version >= \"3.6\" in /usr/local/lib/python3.6/dist-packages (from google-auth>=1.2->gcsfs) (4.7)\n",
      "Requirement already satisfied: pyasn1-modules>=0.2.1 in /usr/local/lib/python3.6/dist-packages (from google-auth>=1.2->gcsfs) (0.2.8)\n",
      "Requirement already satisfied: cachetools<5.0,>=2.0.0 in /usr/local/lib/python3.6/dist-packages (from google-auth>=1.2->gcsfs) (4.2.1)\n",
      "Requirement already satisfied: idna<3,>=2.5 in /usr/local/lib/python3.6/dist-packages (from requests->gcsfs) (2.10)\n",
      "Requirement already satisfied: urllib3!=1.25.0,!=1.25.1,<1.26,>=1.21.1 in /usr/local/lib/python3.6/dist-packages (from requests->gcsfs) (1.24.3)\n",
      "Requirement already satisfied: certifi>=2017.4.17 in /usr/local/lib/python3.6/dist-packages (from requests->gcsfs) (2020.12.5)\n",
      "Requirement already satisfied: requests-oauthlib>=0.7.0 in /usr/local/lib/python3.6/dist-packages (from google-auth-oauthlib->gcsfs) (1.3.0)\n",
      "Requirement already satisfied: pyasn1>=0.1.3 in /usr/local/lib/python3.6/dist-packages (from rsa<5,>=3.1.4; python_version >= \"3.6\"->google-auth>=1.2->gcsfs) (0.4.8)\n",
      "Requirement already satisfied: oauthlib>=3.0.0 in /usr/local/lib/python3.6/dist-packages (from requests-oauthlib>=0.7.0->google-auth-oauthlib->gcsfs) (3.1.0)\n",
      "Building wheels for collected packages: idna-ssl\n",
      "  Building wheel for idna-ssl (setup.py) ... \u001b[?25l\u001b[?25hdone\n",
      "  Created wheel for idna-ssl: filename=idna_ssl-1.1.0-cp36-none-any.whl size=3163 sha256=834c48ed0c0175a17a353ad99d77556f58c3648017ffad5dc2d61c1b3f2520ac\n",
      "  Stored in directory: /root/.cache/pip/wheels/d3/00/b3/32d613e19e08a739751dd6bf998cfed277728f8b2127ad4eb7\n",
      "Successfully built idna-ssl\n",
      "Installing collected packages: fsspec, idna-ssl, async-timeout, multidict, yarl, aiohttp, gcsfs\n",
      "Successfully installed aiohttp-3.7.3 async-timeout-3.0.1 fsspec-0.8.5 gcsfs-0.7.2 idna-ssl-1.1.0 multidict-5.1.0 yarl-1.6.3\n"
     ]
    }
   ],
   "source": [
    "!pip install fsspec gcsfs"
   ]
  },
  {
   "cell_type": "code",
   "execution_count": 2,
   "id": "south-carrier",
   "metadata": {
    "id": "south-carrier"
   },
   "outputs": [],
   "source": [
    "import numpy as np \n",
    "import pandas as pd \n",
    "\n",
    "\n",
    "import tensorflow as tf\n",
    "from tensorflow.keras import layers \n",
    "from tensorflow import keras\n",
    "from tensorflow.keras import applications as tl #transfer learning\n",
    "\n",
    "from sklearn.model_selection import train_test_split\n",
    "from matplotlib import pyplot as plt\n",
    "\n",
    "try:\n",
    "    from kaggle_datasets import KaggleDatasets\n",
    "    dataset_gcs = KaggleDatasets().get_gcs_path('cassava-leaf-disease-classification')\n",
    "    print('got GCS path via KaggleDatasets .get_gcs_path method')\n",
    "except ModuleNotFoundError:\n",
    "    #hardcode path while testing locally\n",
    "    dataset_gcs = 'gs://kds-9254a9aba4b37289f07bbbbe4e2af5c952dd2d811a2c823340ca8091'"
   ]
  },
  {
   "cell_type": "code",
   "execution_count": 3,
   "id": "provincial-grade",
   "metadata": {
    "colab": {
     "base_uri": "https://localhost:8080/",
     "height": 37
    },
    "id": "provincial-grade",
    "outputId": "89a226a2-19bd-4c8d-f2c0-37a58a9cda22"
   },
   "outputs": [
    {
     "data": {
      "application/vnd.google.colaboratory.intrinsic+json": {
       "type": "string"
      },
      "text/plain": [
       "'2.4.1'"
      ]
     },
     "execution_count": 3,
     "metadata": {
      "tags": []
     },
     "output_type": "execute_result"
    }
   ],
   "source": [
    "tf.__version__"
   ]
  },
  {
   "cell_type": "code",
   "execution_count": 4,
   "id": "together-artist",
   "metadata": {
    "id": "together-artist"
   },
   "outputs": [],
   "source": [
    "params = {\n",
    "    'batch_size' : 128,\n",
    "    'img_size' : [512, 512], #length and width will be equal\n",
    "    'epochs': 100\n",
    "}"
   ]
  },
  {
   "cell_type": "code",
   "execution_count": 5,
   "id": "standing-capability",
   "metadata": {
    "colab": {
     "base_uri": "https://localhost:8080/"
    },
    "id": "standing-capability",
    "outputId": "1ea1e325-db6d-43fb-a88c-a7c2ac2ebb51"
   },
   "outputs": [
    {
     "name": "stdout",
     "output_type": "stream",
     "text": [
      "Running on TPU  grpc://10.20.62.250:8470\n",
      "INFO:tensorflow:Initializing the TPU system: grpc://10.20.62.250:8470\n"
     ]
    },
    {
     "name": "stderr",
     "output_type": "stream",
     "text": [
      "INFO:tensorflow:Initializing the TPU system: grpc://10.20.62.250:8470\n"
     ]
    },
    {
     "name": "stdout",
     "output_type": "stream",
     "text": [
      "INFO:tensorflow:Clearing out eager caches\n"
     ]
    },
    {
     "name": "stderr",
     "output_type": "stream",
     "text": [
      "INFO:tensorflow:Clearing out eager caches\n"
     ]
    },
    {
     "name": "stdout",
     "output_type": "stream",
     "text": [
      "INFO:tensorflow:Finished initializing TPU system.\n"
     ]
    },
    {
     "name": "stderr",
     "output_type": "stream",
     "text": [
      "INFO:tensorflow:Finished initializing TPU system.\n",
      "WARNING:absl:`tf.distribute.experimental.TPUStrategy` is deprecated, please use  the non experimental symbol `tf.distribute.TPUStrategy` instead.\n"
     ]
    },
    {
     "name": "stdout",
     "output_type": "stream",
     "text": [
      "INFO:tensorflow:Found TPU system:\n"
     ]
    },
    {
     "name": "stderr",
     "output_type": "stream",
     "text": [
      "INFO:tensorflow:Found TPU system:\n"
     ]
    },
    {
     "name": "stdout",
     "output_type": "stream",
     "text": [
      "INFO:tensorflow:*** Num TPU Cores: 8\n"
     ]
    },
    {
     "name": "stderr",
     "output_type": "stream",
     "text": [
      "INFO:tensorflow:*** Num TPU Cores: 8\n"
     ]
    },
    {
     "name": "stdout",
     "output_type": "stream",
     "text": [
      "INFO:tensorflow:*** Num TPU Workers: 1\n"
     ]
    },
    {
     "name": "stderr",
     "output_type": "stream",
     "text": [
      "INFO:tensorflow:*** Num TPU Workers: 1\n"
     ]
    },
    {
     "name": "stdout",
     "output_type": "stream",
     "text": [
      "INFO:tensorflow:*** Num TPU Cores Per Worker: 8\n"
     ]
    },
    {
     "name": "stderr",
     "output_type": "stream",
     "text": [
      "INFO:tensorflow:*** Num TPU Cores Per Worker: 8\n"
     ]
    },
    {
     "name": "stdout",
     "output_type": "stream",
     "text": [
      "INFO:tensorflow:*** Available Device: _DeviceAttributes(/job:localhost/replica:0/task:0/device:CPU:0, CPU, 0, 0)\n"
     ]
    },
    {
     "name": "stderr",
     "output_type": "stream",
     "text": [
      "INFO:tensorflow:*** Available Device: _DeviceAttributes(/job:localhost/replica:0/task:0/device:CPU:0, CPU, 0, 0)\n"
     ]
    },
    {
     "name": "stdout",
     "output_type": "stream",
     "text": [
      "INFO:tensorflow:*** Available Device: _DeviceAttributes(/job:worker/replica:0/task:0/device:CPU:0, CPU, 0, 0)\n"
     ]
    },
    {
     "name": "stderr",
     "output_type": "stream",
     "text": [
      "INFO:tensorflow:*** Available Device: _DeviceAttributes(/job:worker/replica:0/task:0/device:CPU:0, CPU, 0, 0)\n"
     ]
    },
    {
     "name": "stdout",
     "output_type": "stream",
     "text": [
      "INFO:tensorflow:*** Available Device: _DeviceAttributes(/job:worker/replica:0/task:0/device:TPU:0, TPU, 0, 0)\n"
     ]
    },
    {
     "name": "stderr",
     "output_type": "stream",
     "text": [
      "INFO:tensorflow:*** Available Device: _DeviceAttributes(/job:worker/replica:0/task:0/device:TPU:0, TPU, 0, 0)\n"
     ]
    },
    {
     "name": "stdout",
     "output_type": "stream",
     "text": [
      "INFO:tensorflow:*** Available Device: _DeviceAttributes(/job:worker/replica:0/task:0/device:TPU:1, TPU, 0, 0)\n"
     ]
    },
    {
     "name": "stderr",
     "output_type": "stream",
     "text": [
      "INFO:tensorflow:*** Available Device: _DeviceAttributes(/job:worker/replica:0/task:0/device:TPU:1, TPU, 0, 0)\n"
     ]
    },
    {
     "name": "stdout",
     "output_type": "stream",
     "text": [
      "INFO:tensorflow:*** Available Device: _DeviceAttributes(/job:worker/replica:0/task:0/device:TPU:2, TPU, 0, 0)\n"
     ]
    },
    {
     "name": "stderr",
     "output_type": "stream",
     "text": [
      "INFO:tensorflow:*** Available Device: _DeviceAttributes(/job:worker/replica:0/task:0/device:TPU:2, TPU, 0, 0)\n"
     ]
    },
    {
     "name": "stdout",
     "output_type": "stream",
     "text": [
      "INFO:tensorflow:*** Available Device: _DeviceAttributes(/job:worker/replica:0/task:0/device:TPU:3, TPU, 0, 0)\n"
     ]
    },
    {
     "name": "stderr",
     "output_type": "stream",
     "text": [
      "INFO:tensorflow:*** Available Device: _DeviceAttributes(/job:worker/replica:0/task:0/device:TPU:3, TPU, 0, 0)\n"
     ]
    },
    {
     "name": "stdout",
     "output_type": "stream",
     "text": [
      "INFO:tensorflow:*** Available Device: _DeviceAttributes(/job:worker/replica:0/task:0/device:TPU:4, TPU, 0, 0)\n"
     ]
    },
    {
     "name": "stderr",
     "output_type": "stream",
     "text": [
      "INFO:tensorflow:*** Available Device: _DeviceAttributes(/job:worker/replica:0/task:0/device:TPU:4, TPU, 0, 0)\n"
     ]
    },
    {
     "name": "stdout",
     "output_type": "stream",
     "text": [
      "INFO:tensorflow:*** Available Device: _DeviceAttributes(/job:worker/replica:0/task:0/device:TPU:5, TPU, 0, 0)\n"
     ]
    },
    {
     "name": "stderr",
     "output_type": "stream",
     "text": [
      "INFO:tensorflow:*** Available Device: _DeviceAttributes(/job:worker/replica:0/task:0/device:TPU:5, TPU, 0, 0)\n"
     ]
    },
    {
     "name": "stdout",
     "output_type": "stream",
     "text": [
      "INFO:tensorflow:*** Available Device: _DeviceAttributes(/job:worker/replica:0/task:0/device:TPU:6, TPU, 0, 0)\n"
     ]
    },
    {
     "name": "stderr",
     "output_type": "stream",
     "text": [
      "INFO:tensorflow:*** Available Device: _DeviceAttributes(/job:worker/replica:0/task:0/device:TPU:6, TPU, 0, 0)\n"
     ]
    },
    {
     "name": "stdout",
     "output_type": "stream",
     "text": [
      "INFO:tensorflow:*** Available Device: _DeviceAttributes(/job:worker/replica:0/task:0/device:TPU:7, TPU, 0, 0)\n"
     ]
    },
    {
     "name": "stderr",
     "output_type": "stream",
     "text": [
      "INFO:tensorflow:*** Available Device: _DeviceAttributes(/job:worker/replica:0/task:0/device:TPU:7, TPU, 0, 0)\n"
     ]
    },
    {
     "name": "stdout",
     "output_type": "stream",
     "text": [
      "INFO:tensorflow:*** Available Device: _DeviceAttributes(/job:worker/replica:0/task:0/device:TPU_SYSTEM:0, TPU_SYSTEM, 0, 0)\n"
     ]
    },
    {
     "name": "stderr",
     "output_type": "stream",
     "text": [
      "INFO:tensorflow:*** Available Device: _DeviceAttributes(/job:worker/replica:0/task:0/device:TPU_SYSTEM:0, TPU_SYSTEM, 0, 0)\n"
     ]
    },
    {
     "name": "stdout",
     "output_type": "stream",
     "text": [
      "INFO:tensorflow:*** Available Device: _DeviceAttributes(/job:worker/replica:0/task:0/device:XLA_CPU:0, XLA_CPU, 0, 0)\n"
     ]
    },
    {
     "name": "stderr",
     "output_type": "stream",
     "text": [
      "INFO:tensorflow:*** Available Device: _DeviceAttributes(/job:worker/replica:0/task:0/device:XLA_CPU:0, XLA_CPU, 0, 0)\n"
     ]
    },
    {
     "name": "stdout",
     "output_type": "stream",
     "text": [
      "REPLICAS:  8\n"
     ]
    }
   ],
   "source": [
    "try:\n",
    "    tpu = tf.distribute.cluster_resolver.TPUClusterResolver()\n",
    "    print('Running on TPU ', tpu.master())\n",
    "except ValueError:\n",
    "    tpu = None\n",
    "\n",
    "def start_tpu():\n",
    "    '''function to initialize the TPU'''\n",
    "    tf.config.experimental_connect_to_cluster(tpu)\n",
    "    tf.tpu.experimental.initialize_tpu_system(tpu)\n",
    "    # strategy = tf.distribute.experimental.TPUStrategy(tpu)\n",
    "if tpu:\n",
    "    start_tpu()\n",
    "    # tf.config.experimental_connect_to_cluster(tpu)\n",
    "    # tf.tpu.experimental.initialize_tpu_system(tpu)\n",
    "    strategy = tf.distribute.experimental.TPUStrategy(tpu)\n",
    "else:\n",
    "    strategy = tf.distribute.get_strategy()\n",
    "\n",
    "print(\"REPLICAS: \", strategy.num_replicas_in_sync)"
   ]
  },
  {
   "cell_type": "code",
   "execution_count": 6,
   "id": "concrete-reconstruction",
   "metadata": {
    "colab": {
     "base_uri": "https://localhost:8080/",
     "height": 323
    },
    "id": "concrete-reconstruction",
    "outputId": "3980e043-716c-43e1-e796-9c8f154c6dad"
   },
   "outputs": [
    {
     "name": "stderr",
     "output_type": "stream",
     "text": [
      "WARNING:google.auth.compute_engine._metadata:Compute Engine Metadata server unavailable onattempt 1 of 3. Reason: [Errno 115] Operation now in progress\n",
      "WARNING:google.auth.compute_engine._metadata:Compute Engine Metadata server unavailable onattempt 2 of 3. Reason: [Errno 115] Operation now in progress\n",
      "WARNING:google.auth.compute_engine._metadata:Compute Engine Metadata server unavailable onattempt 3 of 3. Reason: [Errno 115] Operation now in progress\n",
      "WARNING:google.auth._default:Authentication failed using Compute Engine authentication due to unavailable metadata server.\n"
     ]
    },
    {
     "data": {
      "text/html": [
       "<div>\n",
       "<style scoped>\n",
       "    .dataframe tbody tr th:only-of-type {\n",
       "        vertical-align: middle;\n",
       "    }\n",
       "\n",
       "    .dataframe tbody tr th {\n",
       "        vertical-align: top;\n",
       "    }\n",
       "\n",
       "    .dataframe thead th {\n",
       "        text-align: right;\n",
       "    }\n",
       "</style>\n",
       "<table border=\"1\" class=\"dataframe\">\n",
       "  <thead>\n",
       "    <tr style=\"text-align: right;\">\n",
       "      <th></th>\n",
       "      <th>image_id</th>\n",
       "    </tr>\n",
       "    <tr>\n",
       "      <th>label</th>\n",
       "      <th></th>\n",
       "    </tr>\n",
       "  </thead>\n",
       "  <tbody>\n",
       "    <tr>\n",
       "      <th>0</th>\n",
       "      <td>1087</td>\n",
       "    </tr>\n",
       "    <tr>\n",
       "      <th>1</th>\n",
       "      <td>2189</td>\n",
       "    </tr>\n",
       "    <tr>\n",
       "      <th>2</th>\n",
       "      <td>2386</td>\n",
       "    </tr>\n",
       "    <tr>\n",
       "      <th>3</th>\n",
       "      <td>13158</td>\n",
       "    </tr>\n",
       "    <tr>\n",
       "      <th>4</th>\n",
       "      <td>2577</td>\n",
       "    </tr>\n",
       "  </tbody>\n",
       "</table>\n",
       "</div>"
      ],
      "text/plain": [
       "       image_id\n",
       "label          \n",
       "0          1087\n",
       "1          2189\n",
       "2          2386\n",
       "3         13158\n",
       "4          2577"
      ]
     },
     "execution_count": 6,
     "metadata": {
      "tags": []
     },
     "output_type": "execute_result"
    }
   ],
   "source": [
    "train_df = pd.read_csv(dataset_gcs + '/train.csv')\n",
    "train_df.groupby('label').count()\n"
   ]
  },
  {
   "cell_type": "code",
   "execution_count": 7,
   "id": "popular-knitting",
   "metadata": {
    "id": "popular-knitting"
   },
   "outputs": [],
   "source": [
    "def decode_image_train(tfrec):\n",
    "    '''\n",
    "    ***update documentation \n",
    "    function to decode an image from tfrecord\n",
    "    \n",
    "    args:\n",
    "        tfrec: tfrecord, single record of training/validation data\n",
    "    \n",
    "    returns:\n",
    "        decoded_image: tensor, converted image from tfrecord\n",
    "        img_name: tensor, string, Id of the decoded image\n",
    "    \n",
    "    '''\n",
    "    \n",
    "    features_dictionary = {\n",
    "        'image': tf.io.FixedLenFeature([], tf.string),\n",
    "        \"image_name\": tf.io.FixedLenFeature([], tf.string),\n",
    "        'target': tf.io.FixedLenFeature([], tf.int64)\n",
    "        }\n",
    "    features = tf.io.parse_single_example(tfrec, features_dictionary)\n",
    "    decoded_image = tf.io.decode_jpeg(features['image'], 3)\n",
    "    decoded_image = tf.image.resize(decoded_image, params['img_size'])\n",
    "#     img_name = features['image_name'] #I dont think I will need this\n",
    "    target = features['target']\n",
    "    \n",
    "    return decoded_image, target #,img_name\n"
   ]
  },
  {
   "cell_type": "code",
   "execution_count": 8,
   "id": "relevant-blocking",
   "metadata": {
    "id": "relevant-blocking"
   },
   "outputs": [],
   "source": [
    "def normalize_image(decoded_image, label):\n",
    "    '''\n",
    "    function to convert an image tensor values from 0 to 255 \n",
    "    -> -1 to 1\n",
    "    to be used when dealing with tfrecords containing labels\n",
    "    \n",
    "    args:\n",
    "        decoded_image: tensor that is an image with values from 0 to 255\n",
    "        label: tensor, target label\n",
    "    \n",
    "    returns: \n",
    "        image_tensor: tensor that is an image with values from -1 to 1\n",
    "        label, same as input\n",
    "    \n",
    "    '''\n",
    "    \n",
    "    #add dim at the zero axis Shape will be from (x, y, z) -> (None, x, y, z)\n",
    "    image_tensor = tf.expand_dims(decoded_image, 0)\n",
    "    #undo the above line -- this is needed due to TF not allowing a filtered tensor py_function\n",
    "    image_tensor = tf.gather(image_tensor, 0)\n",
    "\n",
    "    #convert tensor values to between -1 and 1 (0 to 255 -> -1 to 1)\n",
    "    image_tensor = (tf.cast(image_tensor, tf.float32) - 127.5) / 127.5\n",
    "\n",
    "    return image_tensor, label"
   ]
  },
  {
   "cell_type": "code",
   "execution_count": 9,
   "id": "colored-ribbon",
   "metadata": {
    "id": "colored-ribbon"
   },
   "outputs": [],
   "source": [
    "def random_flip(image, label):\n",
    "    '''\n",
    "    function to randomly flip images on the x and/or y axis\n",
    "    \n",
    "    args:\n",
    "        image: tensor, an image\n",
    "        label: tensor, target label\n",
    "    \n",
    "    returns: \n",
    "        image: tensor, same as input, but possibly flipped on x and/or y axis\n",
    "        label, tensor, same as input\n",
    "    '''\n",
    "    image = tf.image.random_flip_left_right(image)\n",
    "    image = tf.image.random_flip_up_down(image)\n",
    "    return image, label\n"
   ]
  },
  {
   "cell_type": "code",
   "execution_count": 10,
   "id": "naked-shelter",
   "metadata": {
    "id": "naked-shelter"
   },
   "outputs": [],
   "source": [
    "def one_hot(image, label):\n",
    "    '''\n",
    "    function to one hot encode label\n",
    "    \n",
    "    args:\n",
    "        image: tensor, an image\n",
    "        label: tensor, target label\n",
    "        \n",
    "    returns:\n",
    "        image: tensor, same as input\n",
    "        label: tensor, one hot encoded with a depth of 5\n",
    "    '''\n",
    "    label = tf.one_hot(label, 5)\n",
    "    return image, label"
   ]
  },
  {
   "cell_type": "code",
   "execution_count": 11,
   "id": "level-divorce",
   "metadata": {
    "id": "level-divorce"
   },
   "outputs": [],
   "source": [
    "def get_train_ds(tfrecords, batch_size):\n",
    "    '''\n",
    "    function to create a ds pipeline from tfrecord files\n",
    "    \n",
    "    args:\n",
    "        tfrecords: list, tfrecord file paths\n",
    "        batch_size: int, batch size for number of records to pass into\n",
    "            model at a time\n",
    "    returns:\n",
    "        ds: tensorflow input pipeline with images and labels\n",
    "    '''\n",
    "    ds = (tf.data.TFRecordDataset(filenames=[tfrecords],\n",
    "                                 num_parallel_reads=tf.data.experimental.AUTOTUNE).\n",
    "          cache(). #need to remove cache while not usnig TPUs\n",
    "          map(decode_image_train, num_parallel_calls=tf.data.experimental.AUTOTUNE).\n",
    "          map(normalize_image, num_parallel_calls=tf.data.experimental.AUTOTUNE).\n",
    "          map(random_flip, num_parallel_calls=tf.data.experimental.AUTOTUNE).\n",
    "          map(one_hot, num_parallel_calls=tf.data.experimental.AUTOTUNE).\n",
    "          repeat().\n",
    "          shuffle(512).\n",
    "          batch(batch_size,\n",
    "               drop_remainder=False).\n",
    "          prefetch(tf.data.experimental.AUTOTUNE)\n",
    "         )\n",
    "    \n",
    "\n",
    "    \n",
    "    return ds"
   ]
  },
  {
   "cell_type": "code",
   "execution_count": 12,
   "id": "suburban-circumstances",
   "metadata": {
    "id": "suburban-circumstances"
   },
   "outputs": [],
   "source": [
    "def get_ds_size(files):\n",
    "    '''\n",
    "    function to get size of tfrecord Dataset, based on file name\n",
    "    \n",
    "    the file name has the number of records in the file, for example:\n",
    "    train09-2071.tfrec has 2017 records\n",
    "    \n",
    "    args:\n",
    "        files: list of str file names, each item should be the path to a tfrecord file\n",
    "    \n",
    "    returns:\n",
    "        size: int, size of dataset\n",
    "    '''\n",
    "    size = 0\n",
    "    for file in files:\n",
    "        file_size = int(file.split('.tfrec')[0].split('tfrecords/')[1].split('-')[1])\n",
    "        size += file_size\n",
    "    return size\n"
   ]
  },
  {
   "cell_type": "code",
   "execution_count": 13,
   "id": "particular-edwards",
   "metadata": {
    "id": "particular-edwards"
   },
   "outputs": [],
   "source": [
    "#get train and validation file paths\n",
    "train_files, valid_files = train_test_split(tf.io.gfile.glob(dataset_gcs + '/train_tfrecords/*.tfrec'),\n",
    "                                            test_size=.1, random_state=1)\n",
    "#create datasets\n",
    "train_ds = get_train_ds(train_files, params['batch_size'])\n",
    "valid_ds = get_train_ds(valid_files, params['batch_size'])"
   ]
  },
  {
   "cell_type": "code",
   "execution_count": 14,
   "id": "expired-survey",
   "metadata": {
    "colab": {
     "base_uri": "https://localhost:8080/"
    },
    "id": "expired-survey",
    "outputId": "24019f13-8d5a-4aa9-dc9b-62b7632ad80b"
   },
   "outputs": [
    {
     "name": "stdout",
     "output_type": "stream",
     "text": [
      "the dataset consists of: 18721 training images, and 2676 validation images\n"
     ]
    }
   ],
   "source": [
    "train_size, valid_size = get_ds_size(train_files), get_ds_size(valid_files)\n",
    "print('the dataset consists of: {} training images, and {} validation images'.\n",
    "     format(train_size, valid_size,))"
   ]
  },
  {
   "cell_type": "code",
   "execution_count": 15,
   "id": "thirty-elite",
   "metadata": {
    "id": "thirty-elite"
   },
   "outputs": [],
   "source": [
    "epoch_steps = train_size // params['batch_size'] \n",
    "valid_steps = valid_size // params['batch_size']"
   ]
  },
  {
   "cell_type": "code",
   "execution_count": 16,
   "id": "prescription-pride",
   "metadata": {
    "id": "prescription-pride"
   },
   "outputs": [],
   "source": [
    "targets = train_df.groupby('label').count()['image_id'].to_list()\n",
    "#todo - consider using class weights"
   ]
  },
  {
   "cell_type": "code",
   "execution_count": 17,
   "id": "governmental-monaco",
   "metadata": {
    "colab": {
     "base_uri": "https://localhost:8080/"
    },
    "id": "governmental-monaco",
    "outputId": "5829bfdd-3b67-4b4f-c166-babe494b9e93"
   },
   "outputs": [
    {
     "data": {
      "text/plain": [
       "[1087, 2189, 2386, 13158, 2577]"
      ]
     },
     "execution_count": 17,
     "metadata": {
      "tags": []
     },
     "output_type": "execute_result"
    }
   ],
   "source": [
    "targets"
   ]
  },
  {
   "cell_type": "code",
   "execution_count": 18,
   "id": "written-congress",
   "metadata": {
    "id": "written-congress"
   },
   "outputs": [],
   "source": [
    "def create_model(pretrained_model,\n",
    "                 pretrained_input_size,\n",
    "                 dense_units=8,\n",
    "                 input_shape=[*params['img_size'], 3]):\n",
    "    '''\n",
    "    function to create model\n",
    "    '''\n",
    "    input_tensor = layers.Input(shape=input_shape, name='images_input')\n",
    "    \n",
    "    resized = layers.experimental.preprocessing.Resizing(pretrained_input_size, \n",
    "                                                         pretrained_input_size)(input_tensor)\n",
    "    pretrained_output = pretrained_model(include_top=False, classes=5, \n",
    "                                         input_shape=(pretrained_input_size, \n",
    "                                                      pretrained_input_size,3))(resized)\n",
    "    end_of_pretrained_model = layers.GlobalAveragePooling2D()(pretrained_output)\n",
    "    dense_layers = layers.Dense(dense_units)(end_of_pretrained_model)\n",
    "    output = layers.Dense(5, activation='softmax')(dense_layers)\n",
    "    model = keras.Model(inputs=input_tensor, outputs=output) \n",
    "    # model.layers[2].trainable = False\n",
    "    \n",
    "    metrics = [\n",
    "        keras.metrics.CategoricalAccuracy(name='accuracy'),\n",
    "    ]\n",
    "    model.compile(\n",
    "        optimizer=tf.keras.optimizers.Adam(),\n",
    "        loss = tf.keras.losses.CategoricalCrossentropy(label_smoothing = 0.01),\n",
    "        metrics=metrics)\n",
    "\n",
    "    return model\n",
    "    "
   ]
  },
  {
   "cell_type": "code",
   "execution_count": 19,
   "id": "referenced-blackjack",
   "metadata": {
    "id": "referenced-blackjack"
   },
   "outputs": [],
   "source": [
    "early_stopping = tf.keras.callbacks.EarlyStopping(monitor='val_accuracy', \n",
    "                                patience=10,\n",
    "                                mode='max',\n",
    "                                restore_best_weights=True)\n",
    "\n",
    "def lr_schedule_fn(epoch, lr):\n",
    "    if epoch < 8:\n",
    "        return 0.000001\n",
    "    elif epoch == 8:\n",
    "        return 0.0001 \n",
    "    elif epoch %2 ==0 and epoch < 49:\n",
    "        return lr * 0.75\n",
    "    else:\n",
    "        return lr\n",
    "lr_schedule = tf.keras.callbacks.LearningRateScheduler(lr_schedule_fn)\n",
    "\n",
    "def lr_schedule_fn_(epoch, lr):\n",
    "    if epoch == 1:\n",
    "        return 0.001 \n",
    "    elif epoch %2 ==0 and epoch < 49:\n",
    "        return lr * 0.75\n",
    "    else:\n",
    "        return lr\n",
    "lr_schedule_ = tf.keras.callbacks.LearningRateScheduler(lr_schedule_fn_)\n",
    "\n"
   ]
  },
  {
   "cell_type": "code",
   "execution_count": 20,
   "id": "srnGxx0AMsxy",
   "metadata": {
    "id": "srnGxx0AMsxy"
   },
   "outputs": [],
   "source": [
    "def training_procedure(model,\n",
    "                       dataset=train_ds,\n",
    "                       num_epochs=params['epochs'],\n",
    "                       steps_epoch=epoch_steps,\n",
    "                       valid_dataset=valid_ds,\n",
    "                       valid_steps=valid_steps,\n",
    "                       early_stopping=early_stopping,\n",
    "                       schedule=lr_schedule,\n",
    "                       verbose=1):\n",
    "    '''\n",
    "    function to train model\n",
    "    #todo - work on documentation\n",
    "    '''\n",
    "    history = model.fit(dataset,\n",
    "                        epochs=num_epochs,\n",
    "                        steps_per_epoch=steps_epoch,\n",
    "                        validation_data=valid_dataset,\n",
    "                        validation_steps=valid_steps,\n",
    "                        callbacks=[early_stopping, schedule],\n",
    "                        verbose=verbose)\n",
    "    return history\n"
   ]
  },
  {
   "cell_type": "code",
   "execution_count": 21,
   "id": "corporate-article",
   "metadata": {
    "colab": {
     "base_uri": "https://localhost:8080/"
    },
    "id": "corporate-article",
    "outputId": "230579d8-3a08-431a-b20f-54c9c9135190"
   },
   "outputs": [
    {
     "name": "stdout",
     "output_type": "stream",
     "text": [
      "Downloading data from https://storage.googleapis.com/tensorflow/keras-applications/vgg19/vgg19_weights_tf_dim_ordering_tf_kernels_notop.h5\n",
      "80142336/80134624 [==============================] - 1s 0us/step\n",
      "Model: \"model\"\n",
      "_________________________________________________________________\n",
      "Layer (type)                 Output Shape              Param #   \n",
      "=================================================================\n",
      "images_input (InputLayer)    [(None, 512, 512, 3)]     0         \n",
      "_________________________________________________________________\n",
      "resizing (Resizing)          (None, 224, 224, 3)       0         \n",
      "_________________________________________________________________\n",
      "vgg19 (Functional)           (None, 7, 7, 512)         20024384  \n",
      "_________________________________________________________________\n",
      "global_average_pooling2d (Gl (None, 512)               0         \n",
      "_________________________________________________________________\n",
      "dense (Dense)                (None, 8)                 4104      \n",
      "_________________________________________________________________\n",
      "dense_1 (Dense)              (None, 5)                 45        \n",
      "=================================================================\n",
      "Total params: 20,028,533\n",
      "Trainable params: 20,028,533\n",
      "Non-trainable params: 0\n",
      "_________________________________________________________________\n",
      "Epoch 1/100\n",
      "146/146 [==============================] - 90s 410ms/step - loss: 1.2251 - accuracy: 0.6038 - val_loss: 0.9899 - val_accuracy: 0.6465\n",
      "Epoch 2/100\n",
      "146/146 [==============================] - 46s 315ms/step - loss: 0.9815 - accuracy: 0.6371 - val_loss: 0.8926 - val_accuracy: 0.6691\n",
      "Epoch 3/100\n",
      "146/146 [==============================] - 46s 318ms/step - loss: 0.8821 - accuracy: 0.6687 - val_loss: 0.8274 - val_accuracy: 0.6949\n",
      "Epoch 4/100\n",
      "146/146 [==============================] - 46s 317ms/step - loss: 0.8078 - accuracy: 0.7005 - val_loss: 0.7888 - val_accuracy: 0.7258\n",
      "Epoch 5/100\n",
      "146/146 [==============================] - 47s 320ms/step - loss: 0.7624 - accuracy: 0.7224 - val_loss: 0.7612 - val_accuracy: 0.7422\n",
      "Epoch 6/100\n",
      "146/146 [==============================] - 47s 320ms/step - loss: 0.7293 - accuracy: 0.7387 - val_loss: 0.7379 - val_accuracy: 0.7547\n",
      "Epoch 7/100\n",
      "146/146 [==============================] - 47s 320ms/step - loss: 0.7026 - accuracy: 0.7491 - val_loss: 0.7009 - val_accuracy: 0.7680\n",
      "Epoch 8/100\n",
      "146/146 [==============================] - 47s 325ms/step - loss: 0.6783 - accuracy: 0.7598 - val_loss: 0.6728 - val_accuracy: 0.7762\n",
      "Epoch 9/100\n",
      "146/146 [==============================] - 47s 321ms/step - loss: 1.2914 - accuracy: 0.5879 - val_loss: 1.1381 - val_accuracy: 0.6305\n",
      "Epoch 10/100\n",
      "146/146 [==============================] - 46s 317ms/step - loss: 1.0573 - accuracy: 0.6198 - val_loss: 0.9011 - val_accuracy: 0.6719\n",
      "Epoch 11/100\n",
      "146/146 [==============================] - 46s 318ms/step - loss: 0.9217 - accuracy: 0.6635 - val_loss: 0.8180 - val_accuracy: 0.7004\n",
      "Epoch 12/100\n",
      "146/146 [==============================] - 47s 321ms/step - loss: 0.8201 - accuracy: 0.7021 - val_loss: 0.8028 - val_accuracy: 0.7289\n",
      "Epoch 13/100\n",
      "146/146 [==============================] - 46s 318ms/step - loss: 0.7167 - accuracy: 0.7453 - val_loss: 0.6607 - val_accuracy: 0.7707\n",
      "Epoch 14/100\n",
      "146/146 [==============================] - 46s 317ms/step - loss: 0.6492 - accuracy: 0.7753 - val_loss: 0.7114 - val_accuracy: 0.7656\n",
      "Epoch 15/100\n",
      "146/146 [==============================] - 47s 325ms/step - loss: 0.6294 - accuracy: 0.7879 - val_loss: 0.5902 - val_accuracy: 0.8027\n",
      "Epoch 16/100\n",
      "146/146 [==============================] - 46s 318ms/step - loss: 0.5902 - accuracy: 0.8034 - val_loss: 0.5943 - val_accuracy: 0.7949\n",
      "Epoch 17/100\n",
      "146/146 [==============================] - 46s 319ms/step - loss: 0.5641 - accuracy: 0.8093 - val_loss: 0.5744 - val_accuracy: 0.8113\n",
      "Epoch 18/100\n",
      "146/146 [==============================] - 46s 319ms/step - loss: 0.5455 - accuracy: 0.8210 - val_loss: 0.5579 - val_accuracy: 0.8133\n",
      "Epoch 19/100\n",
      "146/146 [==============================] - 47s 320ms/step - loss: 0.5303 - accuracy: 0.8258 - val_loss: 0.5316 - val_accuracy: 0.8238\n",
      "Epoch 20/100\n",
      "146/146 [==============================] - 47s 320ms/step - loss: 0.5327 - accuracy: 0.8235 - val_loss: 0.5592 - val_accuracy: 0.8117\n",
      "Epoch 21/100\n",
      "146/146 [==============================] - 47s 321ms/step - loss: 0.5100 - accuracy: 0.8321 - val_loss: 0.5410 - val_accuracy: 0.8203\n",
      "Epoch 22/100\n",
      "146/146 [==============================] - 46s 318ms/step - loss: 0.5118 - accuracy: 0.8320 - val_loss: 0.5464 - val_accuracy: 0.8160\n",
      "Epoch 23/100\n",
      "146/146 [==============================] - 46s 315ms/step - loss: 0.5012 - accuracy: 0.8338 - val_loss: 0.5286 - val_accuracy: 0.8250\n",
      "Epoch 24/100\n",
      "146/146 [==============================] - 47s 321ms/step - loss: 0.5005 - accuracy: 0.8383 - val_loss: 0.5348 - val_accuracy: 0.8211\n",
      "Epoch 25/100\n",
      "146/146 [==============================] - 46s 318ms/step - loss: 0.4937 - accuracy: 0.8410 - val_loss: 0.5254 - val_accuracy: 0.8277\n",
      "Epoch 26/100\n",
      "146/146 [==============================] - 47s 320ms/step - loss: 0.4931 - accuracy: 0.8379 - val_loss: 0.5279 - val_accuracy: 0.8258\n",
      "Epoch 27/100\n",
      "146/146 [==============================] - 46s 318ms/step - loss: 0.4905 - accuracy: 0.8405 - val_loss: 0.5153 - val_accuracy: 0.8293\n",
      "Epoch 28/100\n",
      "146/146 [==============================] - 46s 317ms/step - loss: 0.4876 - accuracy: 0.8443 - val_loss: 0.5381 - val_accuracy: 0.8211\n",
      "Epoch 29/100\n",
      "146/146 [==============================] - 46s 319ms/step - loss: 0.4811 - accuracy: 0.8475 - val_loss: 0.5170 - val_accuracy: 0.8320\n",
      "Epoch 30/100\n",
      "146/146 [==============================] - 47s 321ms/step - loss: 0.4689 - accuracy: 0.8478 - val_loss: 0.5082 - val_accuracy: 0.8328\n",
      "Epoch 31/100\n",
      "146/146 [==============================] - 46s 317ms/step - loss: 0.4734 - accuracy: 0.8480 - val_loss: 0.5104 - val_accuracy: 0.8344\n",
      "Epoch 32/100\n",
      "146/146 [==============================] - 47s 319ms/step - loss: 0.4704 - accuracy: 0.8493 - val_loss: 0.5168 - val_accuracy: 0.8313\n",
      "Epoch 33/100\n",
      "146/146 [==============================] - 46s 316ms/step - loss: 0.4685 - accuracy: 0.8486 - val_loss: 0.5111 - val_accuracy: 0.8309\n",
      "Epoch 34/100\n",
      "146/146 [==============================] - 47s 323ms/step - loss: 0.4593 - accuracy: 0.8562 - val_loss: 0.5129 - val_accuracy: 0.8379\n",
      "Epoch 35/100\n",
      "146/146 [==============================] - 46s 317ms/step - loss: 0.4664 - accuracy: 0.8502 - val_loss: 0.5183 - val_accuracy: 0.8316\n",
      "Epoch 36/100\n",
      "146/146 [==============================] - 46s 318ms/step - loss: 0.4662 - accuracy: 0.8509 - val_loss: 0.5074 - val_accuracy: 0.8348\n",
      "Epoch 37/100\n",
      "146/146 [==============================] - 47s 322ms/step - loss: 0.4581 - accuracy: 0.8554 - val_loss: 0.5202 - val_accuracy: 0.8258\n",
      "Epoch 38/100\n",
      "146/146 [==============================] - 46s 318ms/step - loss: 0.4699 - accuracy: 0.8509 - val_loss: 0.5061 - val_accuracy: 0.8316\n",
      "Epoch 39/100\n",
      "146/146 [==============================] - 47s 321ms/step - loss: 0.4566 - accuracy: 0.8526 - val_loss: 0.5140 - val_accuracy: 0.8324\n",
      "Epoch 40/100\n",
      "146/146 [==============================] - 47s 319ms/step - loss: 0.4651 - accuracy: 0.8492 - val_loss: 0.5211 - val_accuracy: 0.8309\n",
      "Epoch 41/100\n",
      "146/146 [==============================] - 47s 322ms/step - loss: 0.4632 - accuracy: 0.8505 - val_loss: 0.5060 - val_accuracy: 0.8348\n",
      "Epoch 42/100\n",
      "146/146 [==============================] - 47s 322ms/step - loss: 0.4580 - accuracy: 0.8537 - val_loss: 0.5013 - val_accuracy: 0.8352\n",
      "Epoch 43/100\n",
      "146/146 [==============================] - 47s 319ms/step - loss: 0.4631 - accuracy: 0.8534 - val_loss: 0.5088 - val_accuracy: 0.8316\n",
      "Epoch 44/100\n",
      "146/146 [==============================] - 47s 325ms/step - loss: 0.4521 - accuracy: 0.8559 - val_loss: 0.5033 - val_accuracy: 0.8344\n",
      "INFO:tensorflow:Shutting down the TPU system: grpc://10.20.62.250:8470\n"
     ]
    },
    {
     "name": "stderr",
     "output_type": "stream",
     "text": [
      "INFO:tensorflow:Shutting down the TPU system: grpc://10.20.62.250:8470\n"
     ]
    },
    {
     "name": "stdout",
     "output_type": "stream",
     "text": [
      "INFO:tensorflow:Clearing out eager caches\n"
     ]
    },
    {
     "name": "stderr",
     "output_type": "stream",
     "text": [
      "INFO:tensorflow:Clearing out eager caches\n"
     ]
    },
    {
     "name": "stdout",
     "output_type": "stream",
     "text": [
      "INFO:tensorflow:Finished shutting down TPU system.\n"
     ]
    },
    {
     "name": "stderr",
     "output_type": "stream",
     "text": [
      "INFO:tensorflow:Finished shutting down TPU system.\n"
     ]
    },
    {
     "name": "stdout",
     "output_type": "stream",
     "text": [
      "INFO:tensorflow:Initializing the TPU system: grpc://10.20.62.250:8470\n"
     ]
    },
    {
     "name": "stderr",
     "output_type": "stream",
     "text": [
      "INFO:tensorflow:Initializing the TPU system: grpc://10.20.62.250:8470\n"
     ]
    },
    {
     "name": "stdout",
     "output_type": "stream",
     "text": [
      "INFO:tensorflow:Clearing out eager caches\n"
     ]
    },
    {
     "name": "stderr",
     "output_type": "stream",
     "text": [
      "INFO:tensorflow:Clearing out eager caches\n"
     ]
    },
    {
     "name": "stdout",
     "output_type": "stream",
     "text": [
      "INFO:tensorflow:Finished initializing TPU system.\n"
     ]
    },
    {
     "name": "stderr",
     "output_type": "stream",
     "text": [
      "INFO:tensorflow:Finished initializing TPU system.\n",
      "WARNING:absl:`tf.distribute.experimental.TPUStrategy` is deprecated, please use  the non experimental symbol `tf.distribute.TPUStrategy` instead.\n"
     ]
    },
    {
     "name": "stdout",
     "output_type": "stream",
     "text": [
      "INFO:tensorflow:Found TPU system:\n"
     ]
    },
    {
     "name": "stderr",
     "output_type": "stream",
     "text": [
      "INFO:tensorflow:Found TPU system:\n"
     ]
    },
    {
     "name": "stdout",
     "output_type": "stream",
     "text": [
      "INFO:tensorflow:*** Num TPU Cores: 8\n"
     ]
    },
    {
     "name": "stderr",
     "output_type": "stream",
     "text": [
      "INFO:tensorflow:*** Num TPU Cores: 8\n"
     ]
    },
    {
     "name": "stdout",
     "output_type": "stream",
     "text": [
      "INFO:tensorflow:*** Num TPU Workers: 1\n"
     ]
    },
    {
     "name": "stderr",
     "output_type": "stream",
     "text": [
      "INFO:tensorflow:*** Num TPU Workers: 1\n"
     ]
    },
    {
     "name": "stdout",
     "output_type": "stream",
     "text": [
      "INFO:tensorflow:*** Num TPU Cores Per Worker: 8\n"
     ]
    },
    {
     "name": "stderr",
     "output_type": "stream",
     "text": [
      "INFO:tensorflow:*** Num TPU Cores Per Worker: 8\n"
     ]
    },
    {
     "name": "stdout",
     "output_type": "stream",
     "text": [
      "INFO:tensorflow:*** Available Device: _DeviceAttributes(/job:localhost/replica:0/task:0/device:CPU:0, CPU, 0, 0)\n"
     ]
    },
    {
     "name": "stderr",
     "output_type": "stream",
     "text": [
      "INFO:tensorflow:*** Available Device: _DeviceAttributes(/job:localhost/replica:0/task:0/device:CPU:0, CPU, 0, 0)\n"
     ]
    },
    {
     "name": "stdout",
     "output_type": "stream",
     "text": [
      "INFO:tensorflow:*** Available Device: _DeviceAttributes(/job:worker/replica:0/task:0/device:CPU:0, CPU, 0, 0)\n"
     ]
    },
    {
     "name": "stderr",
     "output_type": "stream",
     "text": [
      "INFO:tensorflow:*** Available Device: _DeviceAttributes(/job:worker/replica:0/task:0/device:CPU:0, CPU, 0, 0)\n"
     ]
    },
    {
     "name": "stdout",
     "output_type": "stream",
     "text": [
      "INFO:tensorflow:*** Available Device: _DeviceAttributes(/job:worker/replica:0/task:0/device:TPU:0, TPU, 0, 0)\n"
     ]
    },
    {
     "name": "stderr",
     "output_type": "stream",
     "text": [
      "INFO:tensorflow:*** Available Device: _DeviceAttributes(/job:worker/replica:0/task:0/device:TPU:0, TPU, 0, 0)\n"
     ]
    },
    {
     "name": "stdout",
     "output_type": "stream",
     "text": [
      "INFO:tensorflow:*** Available Device: _DeviceAttributes(/job:worker/replica:0/task:0/device:TPU:1, TPU, 0, 0)\n"
     ]
    },
    {
     "name": "stderr",
     "output_type": "stream",
     "text": [
      "INFO:tensorflow:*** Available Device: _DeviceAttributes(/job:worker/replica:0/task:0/device:TPU:1, TPU, 0, 0)\n"
     ]
    },
    {
     "name": "stdout",
     "output_type": "stream",
     "text": [
      "INFO:tensorflow:*** Available Device: _DeviceAttributes(/job:worker/replica:0/task:0/device:TPU:2, TPU, 0, 0)\n"
     ]
    },
    {
     "name": "stderr",
     "output_type": "stream",
     "text": [
      "INFO:tensorflow:*** Available Device: _DeviceAttributes(/job:worker/replica:0/task:0/device:TPU:2, TPU, 0, 0)\n"
     ]
    },
    {
     "name": "stdout",
     "output_type": "stream",
     "text": [
      "INFO:tensorflow:*** Available Device: _DeviceAttributes(/job:worker/replica:0/task:0/device:TPU:3, TPU, 0, 0)\n"
     ]
    },
    {
     "name": "stderr",
     "output_type": "stream",
     "text": [
      "INFO:tensorflow:*** Available Device: _DeviceAttributes(/job:worker/replica:0/task:0/device:TPU:3, TPU, 0, 0)\n"
     ]
    },
    {
     "name": "stdout",
     "output_type": "stream",
     "text": [
      "INFO:tensorflow:*** Available Device: _DeviceAttributes(/job:worker/replica:0/task:0/device:TPU:4, TPU, 0, 0)\n"
     ]
    },
    {
     "name": "stderr",
     "output_type": "stream",
     "text": [
      "INFO:tensorflow:*** Available Device: _DeviceAttributes(/job:worker/replica:0/task:0/device:TPU:4, TPU, 0, 0)\n"
     ]
    },
    {
     "name": "stdout",
     "output_type": "stream",
     "text": [
      "INFO:tensorflow:*** Available Device: _DeviceAttributes(/job:worker/replica:0/task:0/device:TPU:5, TPU, 0, 0)\n"
     ]
    },
    {
     "name": "stderr",
     "output_type": "stream",
     "text": [
      "INFO:tensorflow:*** Available Device: _DeviceAttributes(/job:worker/replica:0/task:0/device:TPU:5, TPU, 0, 0)\n"
     ]
    },
    {
     "name": "stdout",
     "output_type": "stream",
     "text": [
      "INFO:tensorflow:*** Available Device: _DeviceAttributes(/job:worker/replica:0/task:0/device:TPU:6, TPU, 0, 0)\n"
     ]
    },
    {
     "name": "stderr",
     "output_type": "stream",
     "text": [
      "INFO:tensorflow:*** Available Device: _DeviceAttributes(/job:worker/replica:0/task:0/device:TPU:6, TPU, 0, 0)\n"
     ]
    },
    {
     "name": "stdout",
     "output_type": "stream",
     "text": [
      "INFO:tensorflow:*** Available Device: _DeviceAttributes(/job:worker/replica:0/task:0/device:TPU:7, TPU, 0, 0)\n"
     ]
    },
    {
     "name": "stderr",
     "output_type": "stream",
     "text": [
      "INFO:tensorflow:*** Available Device: _DeviceAttributes(/job:worker/replica:0/task:0/device:TPU:7, TPU, 0, 0)\n"
     ]
    },
    {
     "name": "stdout",
     "output_type": "stream",
     "text": [
      "INFO:tensorflow:*** Available Device: _DeviceAttributes(/job:worker/replica:0/task:0/device:TPU_SYSTEM:0, TPU_SYSTEM, 0, 0)\n"
     ]
    },
    {
     "name": "stderr",
     "output_type": "stream",
     "text": [
      "INFO:tensorflow:*** Available Device: _DeviceAttributes(/job:worker/replica:0/task:0/device:TPU_SYSTEM:0, TPU_SYSTEM, 0, 0)\n"
     ]
    },
    {
     "name": "stdout",
     "output_type": "stream",
     "text": [
      "INFO:tensorflow:*** Available Device: _DeviceAttributes(/job:worker/replica:0/task:0/device:XLA_CPU:0, XLA_CPU, 0, 0)\n"
     ]
    },
    {
     "name": "stderr",
     "output_type": "stream",
     "text": [
      "INFO:tensorflow:*** Available Device: _DeviceAttributes(/job:worker/replica:0/task:0/device:XLA_CPU:0, XLA_CPU, 0, 0)\n"
     ]
    },
    {
     "name": "stdout",
     "output_type": "stream",
     "text": [
      "Downloading data from https://storage.googleapis.com/tensorflow/keras-applications/nasnet/NASNet-large-no-top.h5\n",
      "343613440/343610240 [==============================] - 2s 0us/step\n",
      "Model: \"model_1\"\n",
      "_________________________________________________________________\n",
      "Layer (type)                 Output Shape              Param #   \n",
      "=================================================================\n",
      "images_input (InputLayer)    [(None, 512, 512, 3)]     0         \n",
      "_________________________________________________________________\n",
      "resizing_1 (Resizing)        (None, 331, 331, 3)       0         \n",
      "_________________________________________________________________\n",
      "NASNet (Functional)          (None, 11, 11, 4032)      84916818  \n",
      "_________________________________________________________________\n",
      "global_average_pooling2d_1 ( (None, 4032)              0         \n",
      "_________________________________________________________________\n",
      "dense_2 (Dense)              (None, 8)                 32264     \n",
      "_________________________________________________________________\n",
      "dense_3 (Dense)              (None, 5)                 45        \n",
      "=================================================================\n",
      "Total params: 84,949,127\n",
      "Trainable params: 84,752,459\n",
      "Non-trainable params: 196,668\n",
      "_________________________________________________________________\n",
      "Epoch 1/100\n",
      "146/146 [==============================] - 483s 1s/step - loss: 1.4827 - accuracy: 0.4202 - val_loss: 1.4261 - val_accuracy: 0.4719\n",
      "Epoch 2/100\n",
      "146/146 [==============================] - 125s 859ms/step - loss: 1.2483 - accuracy: 0.6057 - val_loss: 1.2540 - val_accuracy: 0.5863\n",
      "Epoch 3/100\n",
      "146/146 [==============================] - 125s 858ms/step - loss: 1.1023 - accuracy: 0.6211 - val_loss: 1.1490 - val_accuracy: 0.6227\n",
      "Epoch 4/100\n",
      "146/146 [==============================] - 126s 862ms/step - loss: 1.0125 - accuracy: 0.6320 - val_loss: 1.0765 - val_accuracy: 0.6375\n",
      "Epoch 5/100\n",
      "146/146 [==============================] - 126s 860ms/step - loss: 0.9620 - accuracy: 0.6524 - val_loss: 1.0295 - val_accuracy: 0.6480\n",
      "Epoch 6/100\n",
      "146/146 [==============================] - 125s 858ms/step - loss: 0.9128 - accuracy: 0.6690 - val_loss: 1.0021 - val_accuracy: 0.6484\n",
      "Epoch 7/100\n",
      "146/146 [==============================] - 125s 859ms/step - loss: 0.8770 - accuracy: 0.6850 - val_loss: 0.9717 - val_accuracy: 0.6508\n",
      "Epoch 8/100\n",
      "146/146 [==============================] - 126s 860ms/step - loss: 0.8530 - accuracy: 0.6886 - val_loss: 0.9472 - val_accuracy: 0.6512\n",
      "Epoch 9/100\n",
      "146/146 [==============================] - 125s 859ms/step - loss: 0.6609 - accuracy: 0.7700 - val_loss: 0.8739 - val_accuracy: 0.7285\n",
      "Epoch 10/100\n",
      "146/146 [==============================] - 125s 858ms/step - loss: 0.4152 - accuracy: 0.8691 - val_loss: 1.0547 - val_accuracy: 0.7176\n",
      "Epoch 11/100\n",
      "146/146 [==============================] - 125s 860ms/step - loss: 0.2967 - accuracy: 0.9152 - val_loss: 0.9690 - val_accuracy: 0.7520\n",
      "Epoch 12/100\n",
      "146/146 [==============================] - 125s 859ms/step - loss: 0.2224 - accuracy: 0.9423 - val_loss: 1.0202 - val_accuracy: 0.7480\n",
      "Epoch 13/100\n",
      "146/146 [==============================] - 126s 861ms/step - loss: 0.1707 - accuracy: 0.9624 - val_loss: 0.9704 - val_accuracy: 0.7621\n",
      "Epoch 14/100\n",
      "146/146 [==============================] - 126s 860ms/step - loss: 0.1278 - accuracy: 0.9762 - val_loss: 0.9604 - val_accuracy: 0.7703\n",
      "Epoch 15/100\n",
      "146/146 [==============================] - 125s 859ms/step - loss: 0.1055 - accuracy: 0.9852 - val_loss: 0.8914 - val_accuracy: 0.7754\n",
      "Epoch 16/100\n",
      "146/146 [==============================] - 126s 861ms/step - loss: 0.0905 - accuracy: 0.9915 - val_loss: 0.9136 - val_accuracy: 0.7762\n",
      "Epoch 17/100\n",
      "146/146 [==============================] - 126s 861ms/step - loss: 0.0824 - accuracy: 0.9930 - val_loss: 0.9007 - val_accuracy: 0.7836\n",
      "Epoch 18/100\n",
      "146/146 [==============================] - 125s 859ms/step - loss: 0.0772 - accuracy: 0.9952 - val_loss: 0.8482 - val_accuracy: 0.7879\n",
      "Epoch 19/100\n",
      "146/146 [==============================] - 125s 859ms/step - loss: 0.0729 - accuracy: 0.9964 - val_loss: 0.7632 - val_accuracy: 0.8059\n",
      "Epoch 20/100\n",
      "146/146 [==============================] - 126s 860ms/step - loss: 0.0686 - accuracy: 0.9979 - val_loss: 0.7442 - val_accuracy: 0.8113\n",
      "Epoch 21/100\n",
      "146/146 [==============================] - 126s 861ms/step - loss: 0.0671 - accuracy: 0.9985 - val_loss: 0.7122 - val_accuracy: 0.8211\n",
      "Epoch 22/100\n",
      "146/146 [==============================] - 126s 860ms/step - loss: 0.0668 - accuracy: 0.9986 - val_loss: 0.7196 - val_accuracy: 0.8160\n",
      "Epoch 23/100\n",
      "146/146 [==============================] - 126s 860ms/step - loss: 0.0651 - accuracy: 0.9988 - val_loss: 0.7048 - val_accuracy: 0.8238\n",
      "Epoch 24/100\n",
      "146/146 [==============================] - 126s 861ms/step - loss: 0.0637 - accuracy: 0.9995 - val_loss: 0.7152 - val_accuracy: 0.8266\n",
      "Epoch 25/100\n",
      "146/146 [==============================] - 125s 859ms/step - loss: 0.0634 - accuracy: 0.9994 - val_loss: 0.6998 - val_accuracy: 0.8227\n",
      "Epoch 26/100\n",
      "146/146 [==============================] - 126s 862ms/step - loss: 0.0630 - accuracy: 0.9993 - val_loss: 0.6954 - val_accuracy: 0.8293\n",
      "Epoch 27/100\n",
      "146/146 [==============================] - 125s 859ms/step - loss: 0.0633 - accuracy: 0.9992 - val_loss: 0.6891 - val_accuracy: 0.8273\n",
      "Epoch 28/100\n",
      "146/146 [==============================] - 126s 861ms/step - loss: 0.0622 - accuracy: 0.9993 - val_loss: 0.6423 - val_accuracy: 0.8367\n",
      "Epoch 29/100\n",
      "146/146 [==============================] - 126s 860ms/step - loss: 0.0616 - accuracy: 0.9998 - val_loss: 0.6188 - val_accuracy: 0.8430\n",
      "Epoch 30/100\n",
      "146/146 [==============================] - 126s 860ms/step - loss: 0.0618 - accuracy: 0.9995 - val_loss: 0.6197 - val_accuracy: 0.8418\n",
      "Epoch 31/100\n",
      "146/146 [==============================] - 125s 860ms/step - loss: 0.0608 - accuracy: 0.9999 - val_loss: 0.6292 - val_accuracy: 0.8383\n",
      "Epoch 32/100\n",
      "146/146 [==============================] - 126s 861ms/step - loss: 0.0609 - accuracy: 0.9998 - val_loss: 0.6176 - val_accuracy: 0.8488\n",
      "Epoch 33/100\n",
      "146/146 [==============================] - 126s 860ms/step - loss: 0.0611 - accuracy: 0.9999 - val_loss: 0.6281 - val_accuracy: 0.8449\n",
      "Epoch 34/100\n",
      "146/146 [==============================] - 126s 860ms/step - loss: 0.0609 - accuracy: 0.9997 - val_loss: 0.5989 - val_accuracy: 0.8500\n",
      "Epoch 35/100\n",
      "146/146 [==============================] - 125s 858ms/step - loss: 0.0610 - accuracy: 0.9998 - val_loss: 0.6308 - val_accuracy: 0.8473\n",
      "Epoch 36/100\n",
      "146/146 [==============================] - 126s 861ms/step - loss: 0.0611 - accuracy: 0.9997 - val_loss: 0.6049 - val_accuracy: 0.8539\n",
      "Epoch 37/100\n",
      "146/146 [==============================] - 126s 860ms/step - loss: 0.0607 - accuracy: 0.9998 - val_loss: 0.5808 - val_accuracy: 0.8559\n",
      "Epoch 38/100\n",
      "146/146 [==============================] - 125s 859ms/step - loss: 0.0606 - accuracy: 0.9999 - val_loss: 0.5679 - val_accuracy: 0.8621\n",
      "Epoch 39/100\n",
      "146/146 [==============================] - 126s 860ms/step - loss: 0.0604 - accuracy: 0.9999 - val_loss: 0.5787 - val_accuracy: 0.8613\n",
      "Epoch 40/100\n",
      "146/146 [==============================] - 126s 861ms/step - loss: 0.0605 - accuracy: 0.9999 - val_loss: 0.5827 - val_accuracy: 0.8637\n",
      "Epoch 41/100\n",
      "146/146 [==============================] - 127s 867ms/step - loss: 0.0604 - accuracy: 1.0000 - val_loss: 0.5816 - val_accuracy: 0.8609\n",
      "Epoch 42/100\n",
      "146/146 [==============================] - 126s 862ms/step - loss: 0.0605 - accuracy: 0.9997 - val_loss: 0.5912 - val_accuracy: 0.8570\n",
      "Epoch 43/100\n",
      "146/146 [==============================] - 126s 861ms/step - loss: 0.0603 - accuracy: 1.0000 - val_loss: 0.5744 - val_accuracy: 0.8629\n",
      "Epoch 44/100\n",
      "146/146 [==============================] - 126s 861ms/step - loss: 0.0608 - accuracy: 0.9998 - val_loss: 0.5856 - val_accuracy: 0.8598\n",
      "Epoch 45/100\n",
      "146/146 [==============================] - 126s 862ms/step - loss: 0.0606 - accuracy: 1.0000 - val_loss: 0.5708 - val_accuracy: 0.8656\n",
      "Epoch 46/100\n",
      "146/146 [==============================] - 126s 864ms/step - loss: 0.0601 - accuracy: 0.9999 - val_loss: 0.5756 - val_accuracy: 0.8617\n",
      "Epoch 47/100\n",
      "146/146 [==============================] - 126s 865ms/step - loss: 0.0604 - accuracy: 0.9998 - val_loss: 0.5877 - val_accuracy: 0.8586\n",
      "Epoch 48/100\n",
      "146/146 [==============================] - 126s 862ms/step - loss: 0.0604 - accuracy: 0.9999 - val_loss: 0.5619 - val_accuracy: 0.8656\n",
      "Epoch 49/100\n",
      "146/146 [==============================] - 126s 860ms/step - loss: 0.0601 - accuracy: 0.9999 - val_loss: 0.5681 - val_accuracy: 0.8668\n",
      "Epoch 50/100\n",
      "146/146 [==============================] - 126s 862ms/step - loss: 0.0602 - accuracy: 1.0000 - val_loss: 0.5621 - val_accuracy: 0.8688\n",
      "Epoch 51/100\n",
      "146/146 [==============================] - 126s 863ms/step - loss: 0.0606 - accuracy: 0.9995 - val_loss: 0.5736 - val_accuracy: 0.8629\n",
      "Epoch 52/100\n",
      "146/146 [==============================] - 126s 861ms/step - loss: 0.0602 - accuracy: 0.9999 - val_loss: 0.5756 - val_accuracy: 0.8621\n",
      "Epoch 53/100\n",
      "146/146 [==============================] - 126s 861ms/step - loss: 0.0608 - accuracy: 0.9996 - val_loss: 0.5618 - val_accuracy: 0.8648\n",
      "Epoch 54/100\n",
      "146/146 [==============================] - 126s 861ms/step - loss: 0.0600 - accuracy: 1.0000 - val_loss: 0.5856 - val_accuracy: 0.8633\n",
      "Epoch 55/100\n",
      "146/146 [==============================] - 126s 861ms/step - loss: 0.0601 - accuracy: 1.0000 - val_loss: 0.5745 - val_accuracy: 0.8645\n",
      "Epoch 56/100\n",
      "146/146 [==============================] - 126s 861ms/step - loss: 0.0601 - accuracy: 1.0000 - val_loss: 0.5599 - val_accuracy: 0.8648\n",
      "Epoch 57/100\n",
      "146/146 [==============================] - 126s 860ms/step - loss: 0.0603 - accuracy: 0.9997 - val_loss: 0.5756 - val_accuracy: 0.8648\n",
      "Epoch 58/100\n",
      "146/146 [==============================] - 126s 861ms/step - loss: 0.0603 - accuracy: 0.9997 - val_loss: 0.5895 - val_accuracy: 0.8617\n",
      "Epoch 59/100\n",
      "146/146 [==============================] - 127s 869ms/step - loss: 0.0603 - accuracy: 0.9997 - val_loss: 0.5602 - val_accuracy: 0.8641\n",
      "Epoch 60/100\n",
      "146/146 [==============================] - 126s 862ms/step - loss: 0.0601 - accuracy: 0.9999 - val_loss: 0.5819 - val_accuracy: 0.8637\n",
      "INFO:tensorflow:Shutting down the TPU system: grpc://10.20.62.250:8470\n"
     ]
    },
    {
     "name": "stderr",
     "output_type": "stream",
     "text": [
      "INFO:tensorflow:Shutting down the TPU system: grpc://10.20.62.250:8470\n"
     ]
    },
    {
     "name": "stdout",
     "output_type": "stream",
     "text": [
      "INFO:tensorflow:Clearing out eager caches\n"
     ]
    },
    {
     "name": "stderr",
     "output_type": "stream",
     "text": [
      "INFO:tensorflow:Clearing out eager caches\n"
     ]
    },
    {
     "name": "stdout",
     "output_type": "stream",
     "text": [
      "INFO:tensorflow:Finished shutting down TPU system.\n"
     ]
    },
    {
     "name": "stderr",
     "output_type": "stream",
     "text": [
      "INFO:tensorflow:Finished shutting down TPU system.\n"
     ]
    },
    {
     "name": "stdout",
     "output_type": "stream",
     "text": [
      "INFO:tensorflow:Initializing the TPU system: grpc://10.20.62.250:8470\n"
     ]
    },
    {
     "name": "stderr",
     "output_type": "stream",
     "text": [
      "INFO:tensorflow:Initializing the TPU system: grpc://10.20.62.250:8470\n"
     ]
    },
    {
     "name": "stdout",
     "output_type": "stream",
     "text": [
      "INFO:tensorflow:Clearing out eager caches\n"
     ]
    },
    {
     "name": "stderr",
     "output_type": "stream",
     "text": [
      "INFO:tensorflow:Clearing out eager caches\n"
     ]
    },
    {
     "name": "stdout",
     "output_type": "stream",
     "text": [
      "INFO:tensorflow:Finished initializing TPU system.\n"
     ]
    },
    {
     "name": "stderr",
     "output_type": "stream",
     "text": [
      "INFO:tensorflow:Finished initializing TPU system.\n",
      "WARNING:absl:`tf.distribute.experimental.TPUStrategy` is deprecated, please use  the non experimental symbol `tf.distribute.TPUStrategy` instead.\n"
     ]
    },
    {
     "name": "stdout",
     "output_type": "stream",
     "text": [
      "INFO:tensorflow:Found TPU system:\n"
     ]
    },
    {
     "name": "stderr",
     "output_type": "stream",
     "text": [
      "INFO:tensorflow:Found TPU system:\n"
     ]
    },
    {
     "name": "stdout",
     "output_type": "stream",
     "text": [
      "INFO:tensorflow:*** Num TPU Cores: 8\n"
     ]
    },
    {
     "name": "stderr",
     "output_type": "stream",
     "text": [
      "INFO:tensorflow:*** Num TPU Cores: 8\n"
     ]
    },
    {
     "name": "stdout",
     "output_type": "stream",
     "text": [
      "INFO:tensorflow:*** Num TPU Workers: 1\n"
     ]
    },
    {
     "name": "stderr",
     "output_type": "stream",
     "text": [
      "INFO:tensorflow:*** Num TPU Workers: 1\n"
     ]
    },
    {
     "name": "stdout",
     "output_type": "stream",
     "text": [
      "INFO:tensorflow:*** Num TPU Cores Per Worker: 8\n"
     ]
    },
    {
     "name": "stderr",
     "output_type": "stream",
     "text": [
      "INFO:tensorflow:*** Num TPU Cores Per Worker: 8\n"
     ]
    },
    {
     "name": "stdout",
     "output_type": "stream",
     "text": [
      "INFO:tensorflow:*** Available Device: _DeviceAttributes(/job:localhost/replica:0/task:0/device:CPU:0, CPU, 0, 0)\n"
     ]
    },
    {
     "name": "stderr",
     "output_type": "stream",
     "text": [
      "INFO:tensorflow:*** Available Device: _DeviceAttributes(/job:localhost/replica:0/task:0/device:CPU:0, CPU, 0, 0)\n"
     ]
    },
    {
     "name": "stdout",
     "output_type": "stream",
     "text": [
      "INFO:tensorflow:*** Available Device: _DeviceAttributes(/job:worker/replica:0/task:0/device:CPU:0, CPU, 0, 0)\n"
     ]
    },
    {
     "name": "stderr",
     "output_type": "stream",
     "text": [
      "INFO:tensorflow:*** Available Device: _DeviceAttributes(/job:worker/replica:0/task:0/device:CPU:0, CPU, 0, 0)\n"
     ]
    },
    {
     "name": "stdout",
     "output_type": "stream",
     "text": [
      "INFO:tensorflow:*** Available Device: _DeviceAttributes(/job:worker/replica:0/task:0/device:TPU:0, TPU, 0, 0)\n"
     ]
    },
    {
     "name": "stderr",
     "output_type": "stream",
     "text": [
      "INFO:tensorflow:*** Available Device: _DeviceAttributes(/job:worker/replica:0/task:0/device:TPU:0, TPU, 0, 0)\n"
     ]
    },
    {
     "name": "stdout",
     "output_type": "stream",
     "text": [
      "INFO:tensorflow:*** Available Device: _DeviceAttributes(/job:worker/replica:0/task:0/device:TPU:1, TPU, 0, 0)\n"
     ]
    },
    {
     "name": "stderr",
     "output_type": "stream",
     "text": [
      "INFO:tensorflow:*** Available Device: _DeviceAttributes(/job:worker/replica:0/task:0/device:TPU:1, TPU, 0, 0)\n"
     ]
    },
    {
     "name": "stdout",
     "output_type": "stream",
     "text": [
      "INFO:tensorflow:*** Available Device: _DeviceAttributes(/job:worker/replica:0/task:0/device:TPU:2, TPU, 0, 0)\n"
     ]
    },
    {
     "name": "stderr",
     "output_type": "stream",
     "text": [
      "INFO:tensorflow:*** Available Device: _DeviceAttributes(/job:worker/replica:0/task:0/device:TPU:2, TPU, 0, 0)\n"
     ]
    },
    {
     "name": "stdout",
     "output_type": "stream",
     "text": [
      "INFO:tensorflow:*** Available Device: _DeviceAttributes(/job:worker/replica:0/task:0/device:TPU:3, TPU, 0, 0)\n"
     ]
    },
    {
     "name": "stderr",
     "output_type": "stream",
     "text": [
      "INFO:tensorflow:*** Available Device: _DeviceAttributes(/job:worker/replica:0/task:0/device:TPU:3, TPU, 0, 0)\n"
     ]
    },
    {
     "name": "stdout",
     "output_type": "stream",
     "text": [
      "INFO:tensorflow:*** Available Device: _DeviceAttributes(/job:worker/replica:0/task:0/device:TPU:4, TPU, 0, 0)\n"
     ]
    },
    {
     "name": "stderr",
     "output_type": "stream",
     "text": [
      "INFO:tensorflow:*** Available Device: _DeviceAttributes(/job:worker/replica:0/task:0/device:TPU:4, TPU, 0, 0)\n"
     ]
    },
    {
     "name": "stdout",
     "output_type": "stream",
     "text": [
      "INFO:tensorflow:*** Available Device: _DeviceAttributes(/job:worker/replica:0/task:0/device:TPU:5, TPU, 0, 0)\n"
     ]
    },
    {
     "name": "stderr",
     "output_type": "stream",
     "text": [
      "INFO:tensorflow:*** Available Device: _DeviceAttributes(/job:worker/replica:0/task:0/device:TPU:5, TPU, 0, 0)\n"
     ]
    },
    {
     "name": "stdout",
     "output_type": "stream",
     "text": [
      "INFO:tensorflow:*** Available Device: _DeviceAttributes(/job:worker/replica:0/task:0/device:TPU:6, TPU, 0, 0)\n"
     ]
    },
    {
     "name": "stderr",
     "output_type": "stream",
     "text": [
      "INFO:tensorflow:*** Available Device: _DeviceAttributes(/job:worker/replica:0/task:0/device:TPU:6, TPU, 0, 0)\n"
     ]
    },
    {
     "name": "stdout",
     "output_type": "stream",
     "text": [
      "INFO:tensorflow:*** Available Device: _DeviceAttributes(/job:worker/replica:0/task:0/device:TPU:7, TPU, 0, 0)\n"
     ]
    },
    {
     "name": "stderr",
     "output_type": "stream",
     "text": [
      "INFO:tensorflow:*** Available Device: _DeviceAttributes(/job:worker/replica:0/task:0/device:TPU:7, TPU, 0, 0)\n"
     ]
    },
    {
     "name": "stdout",
     "output_type": "stream",
     "text": [
      "INFO:tensorflow:*** Available Device: _DeviceAttributes(/job:worker/replica:0/task:0/device:TPU_SYSTEM:0, TPU_SYSTEM, 0, 0)\n"
     ]
    },
    {
     "name": "stderr",
     "output_type": "stream",
     "text": [
      "INFO:tensorflow:*** Available Device: _DeviceAttributes(/job:worker/replica:0/task:0/device:TPU_SYSTEM:0, TPU_SYSTEM, 0, 0)\n"
     ]
    },
    {
     "name": "stdout",
     "output_type": "stream",
     "text": [
      "INFO:tensorflow:*** Available Device: _DeviceAttributes(/job:worker/replica:0/task:0/device:XLA_CPU:0, XLA_CPU, 0, 0)\n"
     ]
    },
    {
     "name": "stderr",
     "output_type": "stream",
     "text": [
      "INFO:tensorflow:*** Available Device: _DeviceAttributes(/job:worker/replica:0/task:0/device:XLA_CPU:0, XLA_CPU, 0, 0)\n"
     ]
    },
    {
     "name": "stdout",
     "output_type": "stream",
     "text": [
      "Downloading data from https://storage.googleapis.com/tensorflow/keras-applications/inception_v3/inception_v3_weights_tf_dim_ordering_tf_kernels_notop.h5\n",
      "87916544/87910968 [==============================] - 1s 0us/step\n",
      "Model: \"model_2\"\n",
      "_________________________________________________________________\n",
      "Layer (type)                 Output Shape              Param #   \n",
      "=================================================================\n",
      "images_input (InputLayer)    [(None, 512, 512, 3)]     0         \n",
      "_________________________________________________________________\n",
      "resizing_2 (Resizing)        (None, 299, 299, 3)       0         \n",
      "_________________________________________________________________\n",
      "inception_v3 (Functional)    (None, 8, 8, 2048)        21802784  \n",
      "_________________________________________________________________\n",
      "global_average_pooling2d_2 ( (None, 2048)              0         \n",
      "_________________________________________________________________\n",
      "dense_4 (Dense)              (None, 8)                 16392     \n",
      "_________________________________________________________________\n",
      "dense_5 (Dense)              (None, 5)                 45        \n",
      "=================================================================\n",
      "Total params: 21,819,221\n",
      "Trainable params: 21,784,789\n",
      "Non-trainable params: 34,432\n",
      "_________________________________________________________________\n",
      "Epoch 1/100\n",
      "146/146 [==============================] - 119s 373ms/step - loss: 1.5350 - accuracy: 0.3307 - val_loss: 1.1853 - val_accuracy: 0.6098\n",
      "Epoch 2/100\n",
      "146/146 [==============================] - 43s 295ms/step - loss: 1.2958 - accuracy: 0.5433 - val_loss: 1.0705 - val_accuracy: 0.6477\n",
      "Epoch 3/100\n",
      "146/146 [==============================] - 43s 297ms/step - loss: 1.1475 - accuracy: 0.6129 - val_loss: 1.0295 - val_accuracy: 0.6586\n",
      "Epoch 4/100\n",
      "146/146 [==============================] - 43s 293ms/step - loss: 1.0612 - accuracy: 0.6358 - val_loss: 0.9751 - val_accuracy: 0.6664\n",
      "Epoch 5/100\n",
      "146/146 [==============================] - 43s 295ms/step - loss: 0.9977 - accuracy: 0.6601 - val_loss: 0.9443 - val_accuracy: 0.6797\n",
      "Epoch 6/100\n",
      "146/146 [==============================] - 44s 301ms/step - loss: 0.9486 - accuracy: 0.6736 - val_loss: 0.9111 - val_accuracy: 0.6855\n",
      "Epoch 7/100\n",
      "146/146 [==============================] - 43s 293ms/step - loss: 0.9251 - accuracy: 0.6787 - val_loss: 0.8847 - val_accuracy: 0.7004\n",
      "Epoch 8/100\n",
      "146/146 [==============================] - 43s 296ms/step - loss: 0.8967 - accuracy: 0.6837 - val_loss: 0.8660 - val_accuracy: 0.7031\n",
      "Epoch 9/100\n",
      "146/146 [==============================] - 43s 297ms/step - loss: 0.7472 - accuracy: 0.7328 - val_loss: 0.6233 - val_accuracy: 0.7934\n",
      "Epoch 10/100\n",
      "146/146 [==============================] - 43s 294ms/step - loss: 0.5220 - accuracy: 0.8285 - val_loss: 0.5771 - val_accuracy: 0.8082\n",
      "Epoch 11/100\n",
      "146/146 [==============================] - 43s 294ms/step - loss: 0.4338 - accuracy: 0.8609 - val_loss: 0.5399 - val_accuracy: 0.8266\n",
      "Epoch 12/100\n",
      "146/146 [==============================] - 43s 296ms/step - loss: 0.3686 - accuracy: 0.8914 - val_loss: 0.5439 - val_accuracy: 0.8305\n",
      "Epoch 13/100\n",
      "146/146 [==============================] - 43s 291ms/step - loss: 0.3179 - accuracy: 0.9092 - val_loss: 0.5596 - val_accuracy: 0.8355\n",
      "Epoch 14/100\n",
      "146/146 [==============================] - 43s 293ms/step - loss: 0.2623 - accuracy: 0.9296 - val_loss: 0.5937 - val_accuracy: 0.8316\n",
      "Epoch 15/100\n",
      "146/146 [==============================] - 43s 295ms/step - loss: 0.2260 - accuracy: 0.9438 - val_loss: 0.6005 - val_accuracy: 0.8328\n",
      "Epoch 16/100\n",
      "146/146 [==============================] - 44s 299ms/step - loss: 0.2029 - accuracy: 0.9511 - val_loss: 0.6031 - val_accuracy: 0.8375\n",
      "Epoch 17/100\n",
      "146/146 [==============================] - 43s 292ms/step - loss: 0.1710 - accuracy: 0.9660 - val_loss: 0.5879 - val_accuracy: 0.8387\n",
      "Epoch 18/100\n",
      "146/146 [==============================] - 43s 296ms/step - loss: 0.1460 - accuracy: 0.9738 - val_loss: 0.6108 - val_accuracy: 0.8410\n",
      "Epoch 19/100\n",
      "146/146 [==============================] - 42s 291ms/step - loss: 0.1413 - accuracy: 0.9756 - val_loss: 0.6042 - val_accuracy: 0.8422\n",
      "Epoch 20/100\n",
      "146/146 [==============================] - 43s 295ms/step - loss: 0.1338 - accuracy: 0.9820 - val_loss: 0.6027 - val_accuracy: 0.8484\n",
      "Epoch 21/100\n",
      "146/146 [==============================] - 43s 293ms/step - loss: 0.1192 - accuracy: 0.9845 - val_loss: 0.6315 - val_accuracy: 0.8410\n",
      "Epoch 22/100\n",
      "146/146 [==============================] - 43s 296ms/step - loss: 0.1162 - accuracy: 0.9865 - val_loss: 0.6179 - val_accuracy: 0.8410\n",
      "Epoch 23/100\n",
      "146/146 [==============================] - 43s 293ms/step - loss: 0.1101 - accuracy: 0.9890 - val_loss: 0.6360 - val_accuracy: 0.8402\n",
      "Epoch 24/100\n",
      "146/146 [==============================] - 43s 296ms/step - loss: 0.1058 - accuracy: 0.9895 - val_loss: 0.6300 - val_accuracy: 0.8391\n",
      "Epoch 25/100\n",
      "146/146 [==============================] - 43s 292ms/step - loss: 0.1047 - accuracy: 0.9893 - val_loss: 0.6189 - val_accuracy: 0.8484\n",
      "Epoch 26/100\n",
      "146/146 [==============================] - 43s 294ms/step - loss: 0.1023 - accuracy: 0.9912 - val_loss: 0.6216 - val_accuracy: 0.8426\n",
      "Epoch 27/100\n",
      "146/146 [==============================] - 43s 295ms/step - loss: 0.0986 - accuracy: 0.9923 - val_loss: 0.6335 - val_accuracy: 0.8465\n",
      "Epoch 28/100\n",
      "146/146 [==============================] - 43s 293ms/step - loss: 0.0971 - accuracy: 0.9933 - val_loss: 0.6222 - val_accuracy: 0.8426\n",
      "Epoch 29/100\n",
      "146/146 [==============================] - 43s 295ms/step - loss: 0.0937 - accuracy: 0.9945 - val_loss: 0.6440 - val_accuracy: 0.8383\n",
      "Epoch 30/100\n",
      "146/146 [==============================] - 44s 300ms/step - loss: 0.0928 - accuracy: 0.9945 - val_loss: 0.6222 - val_accuracy: 0.8457\n",
      "INFO:tensorflow:Shutting down the TPU system: grpc://10.20.62.250:8470\n"
     ]
    },
    {
     "name": "stderr",
     "output_type": "stream",
     "text": [
      "INFO:tensorflow:Shutting down the TPU system: grpc://10.20.62.250:8470\n"
     ]
    },
    {
     "name": "stdout",
     "output_type": "stream",
     "text": [
      "INFO:tensorflow:Clearing out eager caches\n"
     ]
    },
    {
     "name": "stderr",
     "output_type": "stream",
     "text": [
      "INFO:tensorflow:Clearing out eager caches\n"
     ]
    },
    {
     "name": "stdout",
     "output_type": "stream",
     "text": [
      "INFO:tensorflow:Finished shutting down TPU system.\n"
     ]
    },
    {
     "name": "stderr",
     "output_type": "stream",
     "text": [
      "INFO:tensorflow:Finished shutting down TPU system.\n"
     ]
    },
    {
     "name": "stdout",
     "output_type": "stream",
     "text": [
      "INFO:tensorflow:Initializing the TPU system: grpc://10.20.62.250:8470\n"
     ]
    },
    {
     "name": "stderr",
     "output_type": "stream",
     "text": [
      "INFO:tensorflow:Initializing the TPU system: grpc://10.20.62.250:8470\n"
     ]
    },
    {
     "name": "stdout",
     "output_type": "stream",
     "text": [
      "INFO:tensorflow:Clearing out eager caches\n"
     ]
    },
    {
     "name": "stderr",
     "output_type": "stream",
     "text": [
      "INFO:tensorflow:Clearing out eager caches\n"
     ]
    },
    {
     "name": "stdout",
     "output_type": "stream",
     "text": [
      "INFO:tensorflow:Finished initializing TPU system.\n"
     ]
    },
    {
     "name": "stderr",
     "output_type": "stream",
     "text": [
      "INFO:tensorflow:Finished initializing TPU system.\n",
      "WARNING:absl:`tf.distribute.experimental.TPUStrategy` is deprecated, please use  the non experimental symbol `tf.distribute.TPUStrategy` instead.\n"
     ]
    },
    {
     "name": "stdout",
     "output_type": "stream",
     "text": [
      "INFO:tensorflow:Found TPU system:\n"
     ]
    },
    {
     "name": "stderr",
     "output_type": "stream",
     "text": [
      "INFO:tensorflow:Found TPU system:\n"
     ]
    },
    {
     "name": "stdout",
     "output_type": "stream",
     "text": [
      "INFO:tensorflow:*** Num TPU Cores: 8\n"
     ]
    },
    {
     "name": "stderr",
     "output_type": "stream",
     "text": [
      "INFO:tensorflow:*** Num TPU Cores: 8\n"
     ]
    },
    {
     "name": "stdout",
     "output_type": "stream",
     "text": [
      "INFO:tensorflow:*** Num TPU Workers: 1\n"
     ]
    },
    {
     "name": "stderr",
     "output_type": "stream",
     "text": [
      "INFO:tensorflow:*** Num TPU Workers: 1\n"
     ]
    },
    {
     "name": "stdout",
     "output_type": "stream",
     "text": [
      "INFO:tensorflow:*** Num TPU Cores Per Worker: 8\n"
     ]
    },
    {
     "name": "stderr",
     "output_type": "stream",
     "text": [
      "INFO:tensorflow:*** Num TPU Cores Per Worker: 8\n"
     ]
    },
    {
     "name": "stdout",
     "output_type": "stream",
     "text": [
      "INFO:tensorflow:*** Available Device: _DeviceAttributes(/job:localhost/replica:0/task:0/device:CPU:0, CPU, 0, 0)\n"
     ]
    },
    {
     "name": "stderr",
     "output_type": "stream",
     "text": [
      "INFO:tensorflow:*** Available Device: _DeviceAttributes(/job:localhost/replica:0/task:0/device:CPU:0, CPU, 0, 0)\n"
     ]
    },
    {
     "name": "stdout",
     "output_type": "stream",
     "text": [
      "INFO:tensorflow:*** Available Device: _DeviceAttributes(/job:worker/replica:0/task:0/device:CPU:0, CPU, 0, 0)\n"
     ]
    },
    {
     "name": "stderr",
     "output_type": "stream",
     "text": [
      "INFO:tensorflow:*** Available Device: _DeviceAttributes(/job:worker/replica:0/task:0/device:CPU:0, CPU, 0, 0)\n"
     ]
    },
    {
     "name": "stdout",
     "output_type": "stream",
     "text": [
      "INFO:tensorflow:*** Available Device: _DeviceAttributes(/job:worker/replica:0/task:0/device:TPU:0, TPU, 0, 0)\n"
     ]
    },
    {
     "name": "stderr",
     "output_type": "stream",
     "text": [
      "INFO:tensorflow:*** Available Device: _DeviceAttributes(/job:worker/replica:0/task:0/device:TPU:0, TPU, 0, 0)\n"
     ]
    },
    {
     "name": "stdout",
     "output_type": "stream",
     "text": [
      "INFO:tensorflow:*** Available Device: _DeviceAttributes(/job:worker/replica:0/task:0/device:TPU:1, TPU, 0, 0)\n"
     ]
    },
    {
     "name": "stderr",
     "output_type": "stream",
     "text": [
      "INFO:tensorflow:*** Available Device: _DeviceAttributes(/job:worker/replica:0/task:0/device:TPU:1, TPU, 0, 0)\n"
     ]
    },
    {
     "name": "stdout",
     "output_type": "stream",
     "text": [
      "INFO:tensorflow:*** Available Device: _DeviceAttributes(/job:worker/replica:0/task:0/device:TPU:2, TPU, 0, 0)\n"
     ]
    },
    {
     "name": "stderr",
     "output_type": "stream",
     "text": [
      "INFO:tensorflow:*** Available Device: _DeviceAttributes(/job:worker/replica:0/task:0/device:TPU:2, TPU, 0, 0)\n"
     ]
    },
    {
     "name": "stdout",
     "output_type": "stream",
     "text": [
      "INFO:tensorflow:*** Available Device: _DeviceAttributes(/job:worker/replica:0/task:0/device:TPU:3, TPU, 0, 0)\n"
     ]
    },
    {
     "name": "stderr",
     "output_type": "stream",
     "text": [
      "INFO:tensorflow:*** Available Device: _DeviceAttributes(/job:worker/replica:0/task:0/device:TPU:3, TPU, 0, 0)\n"
     ]
    },
    {
     "name": "stdout",
     "output_type": "stream",
     "text": [
      "INFO:tensorflow:*** Available Device: _DeviceAttributes(/job:worker/replica:0/task:0/device:TPU:4, TPU, 0, 0)\n"
     ]
    },
    {
     "name": "stderr",
     "output_type": "stream",
     "text": [
      "INFO:tensorflow:*** Available Device: _DeviceAttributes(/job:worker/replica:0/task:0/device:TPU:4, TPU, 0, 0)\n"
     ]
    },
    {
     "name": "stdout",
     "output_type": "stream",
     "text": [
      "INFO:tensorflow:*** Available Device: _DeviceAttributes(/job:worker/replica:0/task:0/device:TPU:5, TPU, 0, 0)\n"
     ]
    },
    {
     "name": "stderr",
     "output_type": "stream",
     "text": [
      "INFO:tensorflow:*** Available Device: _DeviceAttributes(/job:worker/replica:0/task:0/device:TPU:5, TPU, 0, 0)\n"
     ]
    },
    {
     "name": "stdout",
     "output_type": "stream",
     "text": [
      "INFO:tensorflow:*** Available Device: _DeviceAttributes(/job:worker/replica:0/task:0/device:TPU:6, TPU, 0, 0)\n"
     ]
    },
    {
     "name": "stderr",
     "output_type": "stream",
     "text": [
      "INFO:tensorflow:*** Available Device: _DeviceAttributes(/job:worker/replica:0/task:0/device:TPU:6, TPU, 0, 0)\n"
     ]
    },
    {
     "name": "stdout",
     "output_type": "stream",
     "text": [
      "INFO:tensorflow:*** Available Device: _DeviceAttributes(/job:worker/replica:0/task:0/device:TPU:7, TPU, 0, 0)\n"
     ]
    },
    {
     "name": "stderr",
     "output_type": "stream",
     "text": [
      "INFO:tensorflow:*** Available Device: _DeviceAttributes(/job:worker/replica:0/task:0/device:TPU:7, TPU, 0, 0)\n"
     ]
    },
    {
     "name": "stdout",
     "output_type": "stream",
     "text": [
      "INFO:tensorflow:*** Available Device: _DeviceAttributes(/job:worker/replica:0/task:0/device:TPU_SYSTEM:0, TPU_SYSTEM, 0, 0)\n"
     ]
    },
    {
     "name": "stderr",
     "output_type": "stream",
     "text": [
      "INFO:tensorflow:*** Available Device: _DeviceAttributes(/job:worker/replica:0/task:0/device:TPU_SYSTEM:0, TPU_SYSTEM, 0, 0)\n"
     ]
    },
    {
     "name": "stdout",
     "output_type": "stream",
     "text": [
      "INFO:tensorflow:*** Available Device: _DeviceAttributes(/job:worker/replica:0/task:0/device:XLA_CPU:0, XLA_CPU, 0, 0)\n"
     ]
    },
    {
     "name": "stderr",
     "output_type": "stream",
     "text": [
      "INFO:tensorflow:*** Available Device: _DeviceAttributes(/job:worker/replica:0/task:0/device:XLA_CPU:0, XLA_CPU, 0, 0)\n"
     ]
    },
    {
     "name": "stdout",
     "output_type": "stream",
     "text": [
      "Downloading data from https://storage.googleapis.com/tensorflow/keras-applications/densenet/densenet201_weights_tf_dim_ordering_tf_kernels_notop.h5\n",
      "74842112/74836368 [==============================] - 1s 0us/step\n",
      "Model: \"model_3\"\n",
      "_________________________________________________________________\n",
      "Layer (type)                 Output Shape              Param #   \n",
      "=================================================================\n",
      "images_input (InputLayer)    [(None, 512, 512, 3)]     0         \n",
      "_________________________________________________________________\n",
      "resizing_3 (Resizing)        (None, 224, 224, 3)       0         \n",
      "_________________________________________________________________\n",
      "densenet201 (Functional)     (None, 7, 7, 1920)        18321984  \n",
      "_________________________________________________________________\n",
      "global_average_pooling2d_3 ( (None, 1920)              0         \n",
      "_________________________________________________________________\n",
      "dense_6 (Dense)              (None, 8)                 15368     \n",
      "_________________________________________________________________\n",
      "dense_7 (Dense)              (None, 5)                 45        \n",
      "=================================================================\n",
      "Total params: 18,337,397\n",
      "Trainable params: 18,108,341\n",
      "Non-trainable params: 229,056\n",
      "_________________________________________________________________\n",
      "Epoch 1/100\n",
      "146/146 [==============================] - 216s 478ms/step - loss: 1.7600 - accuracy: 0.1805 - val_loss: 1.5517 - val_accuracy: 0.3160\n",
      "Epoch 2/100\n",
      "146/146 [==============================] - 52s 356ms/step - loss: 1.5498 - accuracy: 0.3292 - val_loss: 1.4144 - val_accuracy: 0.4437\n",
      "Epoch 3/100\n",
      "146/146 [==============================] - 52s 356ms/step - loss: 1.3910 - accuracy: 0.4627 - val_loss: 1.3141 - val_accuracy: 0.5332\n",
      "Epoch 4/100\n",
      "146/146 [==============================] - 52s 357ms/step - loss: 1.2775 - accuracy: 0.5397 - val_loss: 1.2212 - val_accuracy: 0.5926\n",
      "Epoch 5/100\n",
      "146/146 [==============================] - 52s 358ms/step - loss: 1.1839 - accuracy: 0.5943 - val_loss: 1.1448 - val_accuracy: 0.6254\n",
      "Epoch 6/100\n",
      "146/146 [==============================] - 52s 358ms/step - loss: 1.1116 - accuracy: 0.6294 - val_loss: 1.0610 - val_accuracy: 0.6543\n",
      "Epoch 7/100\n",
      "146/146 [==============================] - 52s 359ms/step - loss: 1.0460 - accuracy: 0.6526 - val_loss: 1.0257 - val_accuracy: 0.6707\n",
      "Epoch 8/100\n",
      "146/146 [==============================] - 53s 360ms/step - loss: 1.0017 - accuracy: 0.6732 - val_loss: 0.9655 - val_accuracy: 0.6914\n",
      "Epoch 9/100\n",
      "146/146 [==============================] - 53s 362ms/step - loss: 0.7402 - accuracy: 0.7500 - val_loss: 0.5954 - val_accuracy: 0.8070\n",
      "Epoch 10/100\n",
      "146/146 [==============================] - 52s 359ms/step - loss: 0.4894 - accuracy: 0.8435 - val_loss: 0.5110 - val_accuracy: 0.8383\n",
      "Epoch 11/100\n",
      "146/146 [==============================] - 53s 362ms/step - loss: 0.3958 - accuracy: 0.8821 - val_loss: 0.4943 - val_accuracy: 0.8480\n",
      "Epoch 12/100\n",
      "146/146 [==============================] - 52s 354ms/step - loss: 0.3435 - accuracy: 0.9017 - val_loss: 0.5175 - val_accuracy: 0.8414\n",
      "Epoch 13/100\n",
      "146/146 [==============================] - 52s 356ms/step - loss: 0.2817 - accuracy: 0.9218 - val_loss: 0.5002 - val_accuracy: 0.8562\n",
      "Epoch 14/100\n",
      "146/146 [==============================] - 51s 351ms/step - loss: 0.2357 - accuracy: 0.9402 - val_loss: 0.5626 - val_accuracy: 0.8371\n",
      "Epoch 15/100\n",
      "146/146 [==============================] - 52s 357ms/step - loss: 0.2129 - accuracy: 0.9474 - val_loss: 0.5171 - val_accuracy: 0.8484\n",
      "Epoch 16/100\n",
      "146/146 [==============================] - 52s 355ms/step - loss: 0.1814 - accuracy: 0.9621 - val_loss: 0.5765 - val_accuracy: 0.8414\n",
      "Epoch 17/100\n",
      "146/146 [==============================] - 51s 352ms/step - loss: 0.1594 - accuracy: 0.9702 - val_loss: 0.5702 - val_accuracy: 0.8426\n",
      "Epoch 18/100\n",
      "146/146 [==============================] - 52s 356ms/step - loss: 0.1475 - accuracy: 0.9745 - val_loss: 0.5596 - val_accuracy: 0.8461\n",
      "Epoch 19/100\n",
      "146/146 [==============================] - 50s 345ms/step - loss: 0.1387 - accuracy: 0.9788 - val_loss: 0.5512 - val_accuracy: 0.8492\n",
      "Epoch 20/100\n",
      "146/146 [==============================] - 51s 347ms/step - loss: 0.1243 - accuracy: 0.9849 - val_loss: 0.5760 - val_accuracy: 0.8461\n",
      "Epoch 21/100\n",
      "146/146 [==============================] - 51s 347ms/step - loss: 0.1156 - accuracy: 0.9876 - val_loss: 0.5652 - val_accuracy: 0.8520\n",
      "Epoch 22/100\n",
      "146/146 [==============================] - 51s 348ms/step - loss: 0.1129 - accuracy: 0.9866 - val_loss: 0.5710 - val_accuracy: 0.8527\n",
      "Epoch 23/100\n",
      "146/146 [==============================] - 51s 352ms/step - loss: 0.1030 - accuracy: 0.9918 - val_loss: 0.5556 - val_accuracy: 0.8504\n",
      "INFO:tensorflow:Shutting down the TPU system: grpc://10.20.62.250:8470\n"
     ]
    },
    {
     "name": "stderr",
     "output_type": "stream",
     "text": [
      "INFO:tensorflow:Shutting down the TPU system: grpc://10.20.62.250:8470\n"
     ]
    },
    {
     "name": "stdout",
     "output_type": "stream",
     "text": [
      "INFO:tensorflow:Clearing out eager caches\n"
     ]
    },
    {
     "name": "stderr",
     "output_type": "stream",
     "text": [
      "INFO:tensorflow:Clearing out eager caches\n"
     ]
    },
    {
     "name": "stdout",
     "output_type": "stream",
     "text": [
      "INFO:tensorflow:Finished shutting down TPU system.\n"
     ]
    },
    {
     "name": "stderr",
     "output_type": "stream",
     "text": [
      "INFO:tensorflow:Finished shutting down TPU system.\n"
     ]
    },
    {
     "name": "stdout",
     "output_type": "stream",
     "text": [
      "INFO:tensorflow:Initializing the TPU system: grpc://10.20.62.250:8470\n"
     ]
    },
    {
     "name": "stderr",
     "output_type": "stream",
     "text": [
      "INFO:tensorflow:Initializing the TPU system: grpc://10.20.62.250:8470\n"
     ]
    },
    {
     "name": "stdout",
     "output_type": "stream",
     "text": [
      "INFO:tensorflow:Clearing out eager caches\n"
     ]
    },
    {
     "name": "stderr",
     "output_type": "stream",
     "text": [
      "INFO:tensorflow:Clearing out eager caches\n"
     ]
    },
    {
     "name": "stdout",
     "output_type": "stream",
     "text": [
      "INFO:tensorflow:Finished initializing TPU system.\n"
     ]
    },
    {
     "name": "stderr",
     "output_type": "stream",
     "text": [
      "INFO:tensorflow:Finished initializing TPU system.\n",
      "WARNING:absl:`tf.distribute.experimental.TPUStrategy` is deprecated, please use  the non experimental symbol `tf.distribute.TPUStrategy` instead.\n"
     ]
    },
    {
     "name": "stdout",
     "output_type": "stream",
     "text": [
      "INFO:tensorflow:Found TPU system:\n"
     ]
    },
    {
     "name": "stderr",
     "output_type": "stream",
     "text": [
      "INFO:tensorflow:Found TPU system:\n"
     ]
    },
    {
     "name": "stdout",
     "output_type": "stream",
     "text": [
      "INFO:tensorflow:*** Num TPU Cores: 8\n"
     ]
    },
    {
     "name": "stderr",
     "output_type": "stream",
     "text": [
      "INFO:tensorflow:*** Num TPU Cores: 8\n"
     ]
    },
    {
     "name": "stdout",
     "output_type": "stream",
     "text": [
      "INFO:tensorflow:*** Num TPU Workers: 1\n"
     ]
    },
    {
     "name": "stderr",
     "output_type": "stream",
     "text": [
      "INFO:tensorflow:*** Num TPU Workers: 1\n"
     ]
    },
    {
     "name": "stdout",
     "output_type": "stream",
     "text": [
      "INFO:tensorflow:*** Num TPU Cores Per Worker: 8\n"
     ]
    },
    {
     "name": "stderr",
     "output_type": "stream",
     "text": [
      "INFO:tensorflow:*** Num TPU Cores Per Worker: 8\n"
     ]
    },
    {
     "name": "stdout",
     "output_type": "stream",
     "text": [
      "INFO:tensorflow:*** Available Device: _DeviceAttributes(/job:localhost/replica:0/task:0/device:CPU:0, CPU, 0, 0)\n"
     ]
    },
    {
     "name": "stderr",
     "output_type": "stream",
     "text": [
      "INFO:tensorflow:*** Available Device: _DeviceAttributes(/job:localhost/replica:0/task:0/device:CPU:0, CPU, 0, 0)\n"
     ]
    },
    {
     "name": "stdout",
     "output_type": "stream",
     "text": [
      "INFO:tensorflow:*** Available Device: _DeviceAttributes(/job:worker/replica:0/task:0/device:CPU:0, CPU, 0, 0)\n"
     ]
    },
    {
     "name": "stderr",
     "output_type": "stream",
     "text": [
      "INFO:tensorflow:*** Available Device: _DeviceAttributes(/job:worker/replica:0/task:0/device:CPU:0, CPU, 0, 0)\n"
     ]
    },
    {
     "name": "stdout",
     "output_type": "stream",
     "text": [
      "INFO:tensorflow:*** Available Device: _DeviceAttributes(/job:worker/replica:0/task:0/device:TPU:0, TPU, 0, 0)\n"
     ]
    },
    {
     "name": "stderr",
     "output_type": "stream",
     "text": [
      "INFO:tensorflow:*** Available Device: _DeviceAttributes(/job:worker/replica:0/task:0/device:TPU:0, TPU, 0, 0)\n"
     ]
    },
    {
     "name": "stdout",
     "output_type": "stream",
     "text": [
      "INFO:tensorflow:*** Available Device: _DeviceAttributes(/job:worker/replica:0/task:0/device:TPU:1, TPU, 0, 0)\n"
     ]
    },
    {
     "name": "stderr",
     "output_type": "stream",
     "text": [
      "INFO:tensorflow:*** Available Device: _DeviceAttributes(/job:worker/replica:0/task:0/device:TPU:1, TPU, 0, 0)\n"
     ]
    },
    {
     "name": "stdout",
     "output_type": "stream",
     "text": [
      "INFO:tensorflow:*** Available Device: _DeviceAttributes(/job:worker/replica:0/task:0/device:TPU:2, TPU, 0, 0)\n"
     ]
    },
    {
     "name": "stderr",
     "output_type": "stream",
     "text": [
      "INFO:tensorflow:*** Available Device: _DeviceAttributes(/job:worker/replica:0/task:0/device:TPU:2, TPU, 0, 0)\n"
     ]
    },
    {
     "name": "stdout",
     "output_type": "stream",
     "text": [
      "INFO:tensorflow:*** Available Device: _DeviceAttributes(/job:worker/replica:0/task:0/device:TPU:3, TPU, 0, 0)\n"
     ]
    },
    {
     "name": "stderr",
     "output_type": "stream",
     "text": [
      "INFO:tensorflow:*** Available Device: _DeviceAttributes(/job:worker/replica:0/task:0/device:TPU:3, TPU, 0, 0)\n"
     ]
    },
    {
     "name": "stdout",
     "output_type": "stream",
     "text": [
      "INFO:tensorflow:*** Available Device: _DeviceAttributes(/job:worker/replica:0/task:0/device:TPU:4, TPU, 0, 0)\n"
     ]
    },
    {
     "name": "stderr",
     "output_type": "stream",
     "text": [
      "INFO:tensorflow:*** Available Device: _DeviceAttributes(/job:worker/replica:0/task:0/device:TPU:4, TPU, 0, 0)\n"
     ]
    },
    {
     "name": "stdout",
     "output_type": "stream",
     "text": [
      "INFO:tensorflow:*** Available Device: _DeviceAttributes(/job:worker/replica:0/task:0/device:TPU:5, TPU, 0, 0)\n"
     ]
    },
    {
     "name": "stderr",
     "output_type": "stream",
     "text": [
      "INFO:tensorflow:*** Available Device: _DeviceAttributes(/job:worker/replica:0/task:0/device:TPU:5, TPU, 0, 0)\n"
     ]
    },
    {
     "name": "stdout",
     "output_type": "stream",
     "text": [
      "INFO:tensorflow:*** Available Device: _DeviceAttributes(/job:worker/replica:0/task:0/device:TPU:6, TPU, 0, 0)\n"
     ]
    },
    {
     "name": "stderr",
     "output_type": "stream",
     "text": [
      "INFO:tensorflow:*** Available Device: _DeviceAttributes(/job:worker/replica:0/task:0/device:TPU:6, TPU, 0, 0)\n"
     ]
    },
    {
     "name": "stdout",
     "output_type": "stream",
     "text": [
      "INFO:tensorflow:*** Available Device: _DeviceAttributes(/job:worker/replica:0/task:0/device:TPU:7, TPU, 0, 0)\n"
     ]
    },
    {
     "name": "stderr",
     "output_type": "stream",
     "text": [
      "INFO:tensorflow:*** Available Device: _DeviceAttributes(/job:worker/replica:0/task:0/device:TPU:7, TPU, 0, 0)\n"
     ]
    },
    {
     "name": "stdout",
     "output_type": "stream",
     "text": [
      "INFO:tensorflow:*** Available Device: _DeviceAttributes(/job:worker/replica:0/task:0/device:TPU_SYSTEM:0, TPU_SYSTEM, 0, 0)\n"
     ]
    },
    {
     "name": "stderr",
     "output_type": "stream",
     "text": [
      "INFO:tensorflow:*** Available Device: _DeviceAttributes(/job:worker/replica:0/task:0/device:TPU_SYSTEM:0, TPU_SYSTEM, 0, 0)\n"
     ]
    },
    {
     "name": "stdout",
     "output_type": "stream",
     "text": [
      "INFO:tensorflow:*** Available Device: _DeviceAttributes(/job:worker/replica:0/task:0/device:XLA_CPU:0, XLA_CPU, 0, 0)\n"
     ]
    },
    {
     "name": "stderr",
     "output_type": "stream",
     "text": [
      "INFO:tensorflow:*** Available Device: _DeviceAttributes(/job:worker/replica:0/task:0/device:XLA_CPU:0, XLA_CPU, 0, 0)\n"
     ]
    },
    {
     "name": "stdout",
     "output_type": "stream",
     "text": [
      "Downloading data from https://storage.googleapis.com/keras-applications/efficientnetb6_notop.h5\n",
      "165240832/165234480 [==============================] - 1s 0us/step\n",
      "Model: \"model_4\"\n",
      "_________________________________________________________________\n",
      "Layer (type)                 Output Shape              Param #   \n",
      "=================================================================\n",
      "images_input (InputLayer)    [(None, 512, 512, 3)]     0         \n",
      "_________________________________________________________________\n",
      "resizing_4 (Resizing)        (None, 528, 528, 3)       0         \n",
      "_________________________________________________________________\n",
      "efficientnetb6 (Functional)  (None, 17, 17, 2304)      40960143  \n",
      "_________________________________________________________________\n",
      "global_average_pooling2d_4 ( (None, 2304)              0         \n",
      "_________________________________________________________________\n",
      "dense_8 (Dense)              (None, 8)                 18440     \n",
      "_________________________________________________________________\n",
      "dense_9 (Dense)              (None, 5)                 45        \n",
      "=================================================================\n",
      "Total params: 40,978,628\n",
      "Trainable params: 40,754,189\n",
      "Non-trainable params: 224,439\n",
      "_________________________________________________________________\n",
      "Epoch 1/100\n",
      "146/146 [==============================] - 356s 1s/step - loss: 1.6259 - accuracy: 0.1791 - val_loss: 1.5663 - val_accuracy: 0.4102\n",
      "Epoch 2/100\n",
      "146/146 [==============================] - 174s 1s/step - loss: 1.5438 - accuracy: 0.3227 - val_loss: 1.5245 - val_accuracy: 0.6066\n",
      "Epoch 3/100\n",
      "146/146 [==============================] - 173s 1s/step - loss: 1.4595 - accuracy: 0.4742 - val_loss: 1.5798 - val_accuracy: 0.3426\n",
      "Epoch 4/100\n",
      "146/146 [==============================] - 173s 1s/step - loss: 1.3770 - accuracy: 0.5408 - val_loss: 1.6681 - val_accuracy: 0.1379\n",
      "Epoch 5/100\n",
      "146/146 [==============================] - 173s 1s/step - loss: 1.2928 - accuracy: 0.5777 - val_loss: 1.7368 - val_accuracy: 0.1871\n",
      "Epoch 6/100\n",
      "146/146 [==============================] - 173s 1s/step - loss: 1.2115 - accuracy: 0.5972 - val_loss: 1.3318 - val_accuracy: 0.5387\n",
      "Epoch 7/100\n",
      "146/146 [==============================] - 173s 1s/step - loss: 1.1485 - accuracy: 0.6201 - val_loss: 1.1337 - val_accuracy: 0.6340\n",
      "Epoch 8/100\n",
      "146/146 [==============================] - 174s 1s/step - loss: 1.0921 - accuracy: 0.6353 - val_loss: 1.0614 - val_accuracy: 0.6668\n",
      "Epoch 9/100\n",
      "146/146 [==============================] - 173s 1s/step - loss: 0.7687 - accuracy: 0.7281 - val_loss: 0.6092 - val_accuracy: 0.7895\n",
      "Epoch 10/100\n",
      "146/146 [==============================] - 173s 1s/step - loss: 0.5008 - accuracy: 0.8344 - val_loss: 0.5279 - val_accuracy: 0.8293\n",
      "Epoch 11/100\n",
      "146/146 [==============================] - 175s 1s/step - loss: 0.4119 - accuracy: 0.8693 - val_loss: 0.4986 - val_accuracy: 0.8477\n",
      "Epoch 12/100\n",
      "146/146 [==============================] - 174s 1s/step - loss: 0.3533 - accuracy: 0.8909 - val_loss: 0.4880 - val_accuracy: 0.8547\n",
      "Epoch 13/100\n",
      "146/146 [==============================] - 174s 1s/step - loss: 0.2907 - accuracy: 0.9190 - val_loss: 0.4961 - val_accuracy: 0.8574\n",
      "Epoch 14/100\n",
      "146/146 [==============================] - 173s 1s/step - loss: 0.2420 - accuracy: 0.9366 - val_loss: 0.5365 - val_accuracy: 0.8496\n",
      "Epoch 15/100\n",
      "146/146 [==============================] - 173s 1s/step - loss: 0.1975 - accuracy: 0.9550 - val_loss: 0.5403 - val_accuracy: 0.8496\n",
      "Epoch 16/100\n",
      "146/146 [==============================] - 173s 1s/step - loss: 0.1825 - accuracy: 0.9570 - val_loss: 0.5701 - val_accuracy: 0.8422\n",
      "Epoch 17/100\n",
      "146/146 [==============================] - 173s 1s/step - loss: 0.1548 - accuracy: 0.9702 - val_loss: 0.5291 - val_accuracy: 0.8648\n",
      "Epoch 18/100\n",
      "146/146 [==============================] - 173s 1s/step - loss: 0.1476 - accuracy: 0.9743 - val_loss: 0.5427 - val_accuracy: 0.8555\n",
      "Epoch 19/100\n",
      "146/146 [==============================] - 172s 1s/step - loss: 0.1345 - accuracy: 0.9767 - val_loss: 0.5572 - val_accuracy: 0.8523\n",
      "Epoch 20/100\n",
      "146/146 [==============================] - 172s 1s/step - loss: 0.1258 - accuracy: 0.9811 - val_loss: 0.5647 - val_accuracy: 0.8559\n",
      "Epoch 21/100\n",
      "146/146 [==============================] - 173s 1s/step - loss: 0.1134 - accuracy: 0.9867 - val_loss: 0.5775 - val_accuracy: 0.8484\n",
      "Epoch 22/100\n",
      "146/146 [==============================] - 173s 1s/step - loss: 0.1123 - accuracy: 0.9855 - val_loss: 0.5627 - val_accuracy: 0.8547\n",
      "Epoch 23/100\n",
      "146/146 [==============================] - 173s 1s/step - loss: 0.1145 - accuracy: 0.9843 - val_loss: 0.5610 - val_accuracy: 0.8531\n",
      "Epoch 24/100\n",
      "146/146 [==============================] - 173s 1s/step - loss: 0.1028 - accuracy: 0.9901 - val_loss: 0.5726 - val_accuracy: 0.8590\n",
      "Epoch 25/100\n",
      "146/146 [==============================] - 173s 1s/step - loss: 0.1040 - accuracy: 0.9891 - val_loss: 0.6009 - val_accuracy: 0.8484\n",
      "Epoch 26/100\n",
      "146/146 [==============================] - 173s 1s/step - loss: 0.0995 - accuracy: 0.9913 - val_loss: 0.5893 - val_accuracy: 0.8469\n",
      "Epoch 27/100\n",
      "146/146 [==============================] - 173s 1s/step - loss: 0.0981 - accuracy: 0.9906 - val_loss: 0.5891 - val_accuracy: 0.8582\n",
      "INFO:tensorflow:Shutting down the TPU system: grpc://10.20.62.250:8470\n"
     ]
    },
    {
     "name": "stderr",
     "output_type": "stream",
     "text": [
      "INFO:tensorflow:Shutting down the TPU system: grpc://10.20.62.250:8470\n"
     ]
    },
    {
     "name": "stdout",
     "output_type": "stream",
     "text": [
      "INFO:tensorflow:Clearing out eager caches\n"
     ]
    },
    {
     "name": "stderr",
     "output_type": "stream",
     "text": [
      "INFO:tensorflow:Clearing out eager caches\n"
     ]
    },
    {
     "name": "stdout",
     "output_type": "stream",
     "text": [
      "INFO:tensorflow:Finished shutting down TPU system.\n"
     ]
    },
    {
     "name": "stderr",
     "output_type": "stream",
     "text": [
      "INFO:tensorflow:Finished shutting down TPU system.\n"
     ]
    },
    {
     "name": "stdout",
     "output_type": "stream",
     "text": [
      "INFO:tensorflow:Initializing the TPU system: grpc://10.20.62.250:8470\n"
     ]
    },
    {
     "name": "stderr",
     "output_type": "stream",
     "text": [
      "INFO:tensorflow:Initializing the TPU system: grpc://10.20.62.250:8470\n"
     ]
    },
    {
     "name": "stdout",
     "output_type": "stream",
     "text": [
      "INFO:tensorflow:Clearing out eager caches\n"
     ]
    },
    {
     "name": "stderr",
     "output_type": "stream",
     "text": [
      "INFO:tensorflow:Clearing out eager caches\n"
     ]
    },
    {
     "name": "stdout",
     "output_type": "stream",
     "text": [
      "INFO:tensorflow:Finished initializing TPU system.\n"
     ]
    },
    {
     "name": "stderr",
     "output_type": "stream",
     "text": [
      "INFO:tensorflow:Finished initializing TPU system.\n",
      "WARNING:absl:`tf.distribute.experimental.TPUStrategy` is deprecated, please use  the non experimental symbol `tf.distribute.TPUStrategy` instead.\n"
     ]
    },
    {
     "name": "stdout",
     "output_type": "stream",
     "text": [
      "INFO:tensorflow:Found TPU system:\n"
     ]
    },
    {
     "name": "stderr",
     "output_type": "stream",
     "text": [
      "INFO:tensorflow:Found TPU system:\n"
     ]
    },
    {
     "name": "stdout",
     "output_type": "stream",
     "text": [
      "INFO:tensorflow:*** Num TPU Cores: 8\n"
     ]
    },
    {
     "name": "stderr",
     "output_type": "stream",
     "text": [
      "INFO:tensorflow:*** Num TPU Cores: 8\n"
     ]
    },
    {
     "name": "stdout",
     "output_type": "stream",
     "text": [
      "INFO:tensorflow:*** Num TPU Workers: 1\n"
     ]
    },
    {
     "name": "stderr",
     "output_type": "stream",
     "text": [
      "INFO:tensorflow:*** Num TPU Workers: 1\n"
     ]
    },
    {
     "name": "stdout",
     "output_type": "stream",
     "text": [
      "INFO:tensorflow:*** Num TPU Cores Per Worker: 8\n"
     ]
    },
    {
     "name": "stderr",
     "output_type": "stream",
     "text": [
      "INFO:tensorflow:*** Num TPU Cores Per Worker: 8\n"
     ]
    },
    {
     "name": "stdout",
     "output_type": "stream",
     "text": [
      "INFO:tensorflow:*** Available Device: _DeviceAttributes(/job:localhost/replica:0/task:0/device:CPU:0, CPU, 0, 0)\n"
     ]
    },
    {
     "name": "stderr",
     "output_type": "stream",
     "text": [
      "INFO:tensorflow:*** Available Device: _DeviceAttributes(/job:localhost/replica:0/task:0/device:CPU:0, CPU, 0, 0)\n"
     ]
    },
    {
     "name": "stdout",
     "output_type": "stream",
     "text": [
      "INFO:tensorflow:*** Available Device: _DeviceAttributes(/job:worker/replica:0/task:0/device:CPU:0, CPU, 0, 0)\n"
     ]
    },
    {
     "name": "stderr",
     "output_type": "stream",
     "text": [
      "INFO:tensorflow:*** Available Device: _DeviceAttributes(/job:worker/replica:0/task:0/device:CPU:0, CPU, 0, 0)\n"
     ]
    },
    {
     "name": "stdout",
     "output_type": "stream",
     "text": [
      "INFO:tensorflow:*** Available Device: _DeviceAttributes(/job:worker/replica:0/task:0/device:TPU:0, TPU, 0, 0)\n"
     ]
    },
    {
     "name": "stderr",
     "output_type": "stream",
     "text": [
      "INFO:tensorflow:*** Available Device: _DeviceAttributes(/job:worker/replica:0/task:0/device:TPU:0, TPU, 0, 0)\n"
     ]
    },
    {
     "name": "stdout",
     "output_type": "stream",
     "text": [
      "INFO:tensorflow:*** Available Device: _DeviceAttributes(/job:worker/replica:0/task:0/device:TPU:1, TPU, 0, 0)\n"
     ]
    },
    {
     "name": "stderr",
     "output_type": "stream",
     "text": [
      "INFO:tensorflow:*** Available Device: _DeviceAttributes(/job:worker/replica:0/task:0/device:TPU:1, TPU, 0, 0)\n"
     ]
    },
    {
     "name": "stdout",
     "output_type": "stream",
     "text": [
      "INFO:tensorflow:*** Available Device: _DeviceAttributes(/job:worker/replica:0/task:0/device:TPU:2, TPU, 0, 0)\n"
     ]
    },
    {
     "name": "stderr",
     "output_type": "stream",
     "text": [
      "INFO:tensorflow:*** Available Device: _DeviceAttributes(/job:worker/replica:0/task:0/device:TPU:2, TPU, 0, 0)\n"
     ]
    },
    {
     "name": "stdout",
     "output_type": "stream",
     "text": [
      "INFO:tensorflow:*** Available Device: _DeviceAttributes(/job:worker/replica:0/task:0/device:TPU:3, TPU, 0, 0)\n"
     ]
    },
    {
     "name": "stderr",
     "output_type": "stream",
     "text": [
      "INFO:tensorflow:*** Available Device: _DeviceAttributes(/job:worker/replica:0/task:0/device:TPU:3, TPU, 0, 0)\n"
     ]
    },
    {
     "name": "stdout",
     "output_type": "stream",
     "text": [
      "INFO:tensorflow:*** Available Device: _DeviceAttributes(/job:worker/replica:0/task:0/device:TPU:4, TPU, 0, 0)\n"
     ]
    },
    {
     "name": "stderr",
     "output_type": "stream",
     "text": [
      "INFO:tensorflow:*** Available Device: _DeviceAttributes(/job:worker/replica:0/task:0/device:TPU:4, TPU, 0, 0)\n"
     ]
    },
    {
     "name": "stdout",
     "output_type": "stream",
     "text": [
      "INFO:tensorflow:*** Available Device: _DeviceAttributes(/job:worker/replica:0/task:0/device:TPU:5, TPU, 0, 0)\n"
     ]
    },
    {
     "name": "stderr",
     "output_type": "stream",
     "text": [
      "INFO:tensorflow:*** Available Device: _DeviceAttributes(/job:worker/replica:0/task:0/device:TPU:5, TPU, 0, 0)\n"
     ]
    },
    {
     "name": "stdout",
     "output_type": "stream",
     "text": [
      "INFO:tensorflow:*** Available Device: _DeviceAttributes(/job:worker/replica:0/task:0/device:TPU:6, TPU, 0, 0)\n"
     ]
    },
    {
     "name": "stderr",
     "output_type": "stream",
     "text": [
      "INFO:tensorflow:*** Available Device: _DeviceAttributes(/job:worker/replica:0/task:0/device:TPU:6, TPU, 0, 0)\n"
     ]
    },
    {
     "name": "stdout",
     "output_type": "stream",
     "text": [
      "INFO:tensorflow:*** Available Device: _DeviceAttributes(/job:worker/replica:0/task:0/device:TPU:7, TPU, 0, 0)\n"
     ]
    },
    {
     "name": "stderr",
     "output_type": "stream",
     "text": [
      "INFO:tensorflow:*** Available Device: _DeviceAttributes(/job:worker/replica:0/task:0/device:TPU:7, TPU, 0, 0)\n"
     ]
    },
    {
     "name": "stdout",
     "output_type": "stream",
     "text": [
      "INFO:tensorflow:*** Available Device: _DeviceAttributes(/job:worker/replica:0/task:0/device:TPU_SYSTEM:0, TPU_SYSTEM, 0, 0)\n"
     ]
    },
    {
     "name": "stderr",
     "output_type": "stream",
     "text": [
      "INFO:tensorflow:*** Available Device: _DeviceAttributes(/job:worker/replica:0/task:0/device:TPU_SYSTEM:0, TPU_SYSTEM, 0, 0)\n"
     ]
    },
    {
     "name": "stdout",
     "output_type": "stream",
     "text": [
      "INFO:tensorflow:*** Available Device: _DeviceAttributes(/job:worker/replica:0/task:0/device:XLA_CPU:0, XLA_CPU, 0, 0)\n"
     ]
    },
    {
     "name": "stderr",
     "output_type": "stream",
     "text": [
      "INFO:tensorflow:*** Available Device: _DeviceAttributes(/job:worker/replica:0/task:0/device:XLA_CPU:0, XLA_CPU, 0, 0)\n"
     ]
    }
   ],
   "source": [
    "transfer_modeels = [tl.VGG19, tl.NASNetLarge, tl.InceptionV3, tl.DenseNet201, tl.EfficientNetB6,]\n",
    "input_sizes = [224, 331, 299, 224, 528,] \n",
    "\n",
    "\n",
    "transfer_models_sizes = zip(transfer_modeels, input_sizes)\n",
    "# with strategy.scope():\n",
    "model_dict = dict()\n",
    "count = 0\n",
    "for mdl, size in transfer_models_sizes:\n",
    "    model_dict[count] = dict()\n",
    "    with strategy.scope():\n",
    "        model_dict[count]['model'] = create_model(pretrained_model=mdl,\n",
    "                                                  pretrained_input_size=size)\n",
    "    #     model_dict[count]['model'].summary()\n",
    "    #     model_dict[count]['histor_'] = model_dict[count]['model'].fit(train_ds,\n",
    "    #                                                                   epochs=params['epochs'],\n",
    "    #                                                                   steps_per_epoch=epoch_steps,\n",
    "    #                                                                   validation_data=valid_ds,\n",
    "    #                                                                   validation_steps=valid_steps,\n",
    "    # #                                                                       class_weights=class_weights,\n",
    "    #                                                           callbacks=[early_stopping, lr_schedule_],\n",
    "    #                                                           verbose=1)\n",
    "    #     # model_dict[count]['untrainable_history'] = training_procedure(model_dict[count]['model'], schedule=lr_schedule_)\n",
    "    #     model_dict[count]['model'].trainable = True\n",
    "        model_dict[count]['model'].summary()\n",
    "        model_dict[count]['history'] = model_dict[count]['model'].fit(train_ds,\n",
    "                                                                      epochs=params['epochs'],\n",
    "                                                                      steps_per_epoch=epoch_steps,\n",
    "                                                                      validation_data=valid_ds,\n",
    "                                                                      validation_steps=valid_steps,\n",
    "    #                                                                       class_weights=class_weights,\n",
    "                                                              callbacks=[early_stopping, lr_schedule],\n",
    "                                                              verbose=1)\n",
    "        # model_dict[count]['history'] = training_procedure(model_dict[count]['model'])\n",
    "    model_path = 'model{}.h5'.format(count,)\n",
    "    model_dict[count]['model'].save(model_path)\n",
    "    model_dict[count]['max_accuracy'] = max(model_dict[count]['history'].history['val_accuracy'])\n",
    "    tf.tpu.experimental.shutdown_tpu_system()\n",
    "    start_tpu()\n",
    "    strategy = tf.distribute.experimental.TPUStrategy(tpu)\n",
    "\n",
    "    count +=1"
   ]
  },
  {
   "cell_type": "code",
   "execution_count": 22,
   "id": "starting-landscape",
   "metadata": {
    "id": "starting-landscape"
   },
   "outputs": [],
   "source": [
    "def remove_last_model_layer(model, make_untrainable=False):\n",
    "    '''\n",
    "    removes last layer from a model, and optionally makes\n",
    "    entire model untrainable\n",
    "    '''\n",
    "    input_layer = model.input\n",
    "    output_layer = model.layers[-2].output\n",
    "    # if make_untrainable == True:\n",
    "    #     for layer in model.layers:\n",
    "    #         layer.trainable = False\n",
    "    new_model = keras.Model(input_layer, output_layer)\n",
    "    new_model.trainable = False\n",
    "    return new_model\n"
   ]
  },
  {
   "cell_type": "code",
   "execution_count": 23,
   "id": "ordered-breed",
   "metadata": {
    "id": "ordered-breed"
   },
   "outputs": [],
   "source": [
    "for model in model_dict:\n",
    "    model_path = 'model{}.h5'.format(model,)\n",
    "    with strategy.scope():\n",
    "        model_dict[model]['saved_model'] = tf.keras.models.load_model(model_path)\n",
    "        model_dict[model]['model_no_last_layer'] = remove_last_model_layer(model_dict[model]['saved_model'])"
   ]
  },
  {
   "cell_type": "code",
   "execution_count": 24,
   "id": "proud-daniel",
   "metadata": {
    "colab": {
     "base_uri": "https://localhost:8080/"
    },
    "id": "proud-daniel",
    "outputId": "2b5996b8-51c9-4b81-d146-4108a1495cd2"
   },
   "outputs": [
    {
     "data": {
      "text/plain": [
       "{0: {'history': <tensorflow.python.keras.callbacks.History at 0x7f7eb0db5048>,\n",
       "  'max_accuracy': 0.837890625,\n",
       "  'model': <tensorflow.python.keras.engine.functional.Functional at 0x7f7eb0dbe5c0>,\n",
       "  'model_no_last_layer': <tensorflow.python.keras.engine.functional.Functional at 0x7f7e7e5ec240>,\n",
       "  'saved_model': <tensorflow.python.keras.engine.functional.Functional at 0x7f7e7c8c9eb8>},\n",
       " 1: {'history': <tensorflow.python.keras.callbacks.History at 0x7f7eaae9bba8>,\n",
       "  'max_accuracy': 0.8687500357627869,\n",
       "  'model': <tensorflow.python.keras.engine.functional.Functional at 0x7f7eac9be4e0>,\n",
       "  'model_no_last_layer': <tensorflow.python.keras.engine.functional.Functional at 0x7f7eb1760d68>,\n",
       "  'saved_model': <tensorflow.python.keras.engine.functional.Functional at 0x7f7e7cab6c88>},\n",
       " 2: {'history': <tensorflow.python.keras.callbacks.History at 0x7f7e9d056b70>,\n",
       "  'max_accuracy': 0.848437488079071,\n",
       "  'model': <tensorflow.python.keras.engine.functional.Functional at 0x7f7e9d575358>,\n",
       "  'model_no_last_layer': <tensorflow.python.keras.engine.functional.Functional at 0x7f7e770c09e8>,\n",
       "  'saved_model': <tensorflow.python.keras.engine.functional.Functional at 0x7f7e76d29da0>},\n",
       " 3: {'history': <tensorflow.python.keras.callbacks.History at 0x7f7e926cff60>,\n",
       "  'max_accuracy': 0.856249988079071,\n",
       "  'model': <tensorflow.python.keras.engine.functional.Functional at 0x7f7e927b0b38>,\n",
       "  'model_no_last_layer': <tensorflow.python.keras.engine.functional.Functional at 0x7f7e75ffa7b8>,\n",
       "  'saved_model': <tensorflow.python.keras.engine.functional.Functional at 0x7f7e75faaac8>},\n",
       " 4: {'history': <tensorflow.python.keras.callbacks.History at 0x7f7e861d43c8>,\n",
       "  'max_accuracy': 0.8648437857627869,\n",
       "  'model': <tensorflow.python.keras.engine.functional.Functional at 0x7f7e86fc2da0>,\n",
       "  'model_no_last_layer': <tensorflow.python.keras.engine.functional.Functional at 0x7f7e730c8ac8>,\n",
       "  'saved_model': <tensorflow.python.keras.engine.functional.Functional at 0x7f7e72e9c828>}}"
      ]
     },
     "execution_count": 24,
     "metadata": {
      "tags": []
     },
     "output_type": "execute_result"
    }
   ],
   "source": [
    "model_dict"
   ]
  },
  {
   "cell_type": "code",
   "execution_count": 25,
   "id": "N88EcZw4ZqO7",
   "metadata": {
    "id": "N88EcZw4ZqO7"
   },
   "outputs": [],
   "source": [
    "with strategy.scope():\n",
    "    input_layer = layers.Input((*params['img_size'],3))\n",
    "    layers_to_concatenate = list()\n",
    "    for model in model_dict:\n",
    "        model_dict[model]['model_path'] = model_dict[model]['model_no_last_layer']((input_layer))\n",
    "        model_dict[model]['model_path'] = layers.Dropout(0.3)(model_dict[model]['model_path'])\n",
    "        layers_to_concatenate.append(model_dict[model]['model_path'])\n",
    "    x = layers.Concatenate()(layers_to_concatenate)\n",
    "    x = layers.Dense(128, activation='tanh')(x)\n",
    "    x = layers.Dense(5, activation='softmax')(x)\n",
    "    combined_model = keras.Model([input_layer], x)\n",
    "    metrics = [\n",
    "        keras.metrics.CategoricalAccuracy(name='accuracy'),]\n",
    "    combined_model.compile(\n",
    "        optimizer=tf.keras.optimizers.Adam(),\n",
    "        loss = tf.keras.losses.CategoricalCrossentropy(label_smoothing = 0.01),\n",
    "        metrics=metrics)\n",
    "    "
   ]
  },
  {
   "cell_type": "code",
   "execution_count": 26,
   "id": "ancient-singapore",
   "metadata": {
    "colab": {
     "base_uri": "https://localhost:8080/"
    },
    "id": "ancient-singapore",
    "outputId": "6ca874d4-3c39-422c-d785-c619fa9ac1f7"
   },
   "outputs": [
    {
     "name": "stdout",
     "output_type": "stream",
     "text": [
      "Model: \"model_10\"\n",
      "__________________________________________________________________________________________________\n",
      "Layer (type)                    Output Shape         Param #     Connected to                     \n",
      "==================================================================================================\n",
      "input_6 (InputLayer)            [(None, 512, 512, 3) 0                                            \n",
      "__________________________________________________________________________________________________\n",
      "model_5 (Functional)            (None, 8)            20028488    input_6[0][0]                    \n",
      "__________________________________________________________________________________________________\n",
      "model_6 (Functional)            (None, 8)            84949082    input_6[0][0]                    \n",
      "__________________________________________________________________________________________________\n",
      "model_7 (Functional)            (None, 8)            21819176    input_6[0][0]                    \n",
      "__________________________________________________________________________________________________\n",
      "model_8 (Functional)            (None, 8)            18337352    input_6[0][0]                    \n",
      "__________________________________________________________________________________________________\n",
      "model_9 (Functional)            (None, 8)            40978583    input_6[0][0]                    \n",
      "__________________________________________________________________________________________________\n",
      "dropout (Dropout)               (None, 8)            0           model_5[0][0]                    \n",
      "__________________________________________________________________________________________________\n",
      "dropout_1 (Dropout)             (None, 8)            0           model_6[0][0]                    \n",
      "__________________________________________________________________________________________________\n",
      "dropout_2 (Dropout)             (None, 8)            0           model_7[0][0]                    \n",
      "__________________________________________________________________________________________________\n",
      "dropout_3 (Dropout)             (None, 8)            0           model_8[0][0]                    \n",
      "__________________________________________________________________________________________________\n",
      "dropout_4 (Dropout)             (None, 8)            0           model_9[0][0]                    \n",
      "__________________________________________________________________________________________________\n",
      "concatenate_6 (Concatenate)     (None, 40)           0           dropout[0][0]                    \n",
      "                                                                 dropout_1[0][0]                  \n",
      "                                                                 dropout_2[0][0]                  \n",
      "                                                                 dropout_3[0][0]                  \n",
      "                                                                 dropout_4[0][0]                  \n",
      "__________________________________________________________________________________________________\n",
      "dense_10 (Dense)                (None, 128)          5248        concatenate_6[0][0]              \n",
      "__________________________________________________________________________________________________\n",
      "dense_11 (Dense)                (None, 5)            645         dense_10[0][0]                   \n",
      "==================================================================================================\n",
      "Total params: 186,118,574\n",
      "Trainable params: 5,893\n",
      "Non-trainable params: 186,112,681\n",
      "__________________________________________________________________________________________________\n"
     ]
    }
   ],
   "source": [
    "combined_model.summary()"
   ]
  },
  {
   "cell_type": "code",
   "execution_count": 27,
   "id": "convenient-virus",
   "metadata": {
    "colab": {
     "base_uri": "https://localhost:8080/"
    },
    "id": "convenient-virus",
    "outputId": "5a059435-e551-4a82-9963-4e0b5fe859f5"
   },
   "outputs": [
    {
     "name": "stdout",
     "output_type": "stream",
     "text": [
      "Epoch 1/100\n",
      "146/146 [==============================] - 327s 1s/step - loss: 2.3306 - accuracy: 0.0886 - val_loss: 2.3902 - val_accuracy: 0.0578\n",
      "Epoch 2/100\n",
      "146/146 [==============================] - 110s 751ms/step - loss: 2.2918 - accuracy: 0.0931 - val_loss: 2.3331 - val_accuracy: 0.0586\n",
      "Epoch 3/100\n",
      "146/146 [==============================] - 110s 752ms/step - loss: 2.2498 - accuracy: 0.1049 - val_loss: 2.2790 - val_accuracy: 0.0672\n",
      "Epoch 4/100\n",
      "146/146 [==============================] - 110s 750ms/step - loss: 2.2096 - accuracy: 0.1137 - val_loss: 2.2348 - val_accuracy: 0.0641\n",
      "Epoch 5/100\n",
      "146/146 [==============================] - 110s 752ms/step - loss: 2.1659 - accuracy: 0.1234 - val_loss: 2.1860 - val_accuracy: 0.0730\n",
      "Epoch 6/100\n",
      "146/146 [==============================] - 110s 754ms/step - loss: 2.1262 - accuracy: 0.1308 - val_loss: 2.1376 - val_accuracy: 0.0816\n",
      "Epoch 7/100\n",
      "146/146 [==============================] - 110s 754ms/step - loss: 2.0690 - accuracy: 0.1451 - val_loss: 2.1089 - val_accuracy: 0.0848\n",
      "Epoch 8/100\n",
      "146/146 [==============================] - 110s 753ms/step - loss: 2.0298 - accuracy: 0.1516 - val_loss: 2.0513 - val_accuracy: 0.0906\n",
      "Epoch 9/100\n",
      "146/146 [==============================] - 110s 752ms/step - loss: 1.3576 - accuracy: 0.4587 - val_loss: 0.5653 - val_accuracy: 0.8402\n",
      "Epoch 10/100\n",
      "146/146 [==============================] - 110s 752ms/step - loss: 0.3724 - accuracy: 0.9299 - val_loss: 0.4594 - val_accuracy: 0.8652\n",
      "Epoch 11/100\n",
      "146/146 [==============================] - 110s 755ms/step - loss: 0.2133 - accuracy: 0.9791 - val_loss: 0.4587 - val_accuracy: 0.8645\n",
      "Epoch 12/100\n",
      "146/146 [==============================] - 110s 756ms/step - loss: 0.1652 - accuracy: 0.9860 - val_loss: 0.4521 - val_accuracy: 0.8684\n",
      "Epoch 13/100\n",
      "146/146 [==============================] - 110s 756ms/step - loss: 0.1367 - accuracy: 0.9919 - val_loss: 0.4549 - val_accuracy: 0.8684\n",
      "Epoch 14/100\n",
      "146/146 [==============================] - 110s 755ms/step - loss: 0.1258 - accuracy: 0.9915 - val_loss: 0.4525 - val_accuracy: 0.8730\n",
      "Epoch 15/100\n",
      "146/146 [==============================] - 110s 755ms/step - loss: 0.1151 - accuracy: 0.9937 - val_loss: 0.4521 - val_accuracy: 0.8727\n",
      "Epoch 16/100\n",
      "146/146 [==============================] - 110s 756ms/step - loss: 0.1088 - accuracy: 0.9936 - val_loss: 0.4685 - val_accuracy: 0.8699\n",
      "Epoch 17/100\n",
      "146/146 [==============================] - 110s 756ms/step - loss: 0.1050 - accuracy: 0.9935 - val_loss: 0.4833 - val_accuracy: 0.8660\n",
      "Epoch 18/100\n",
      "146/146 [==============================] - 110s 755ms/step - loss: 0.0996 - accuracy: 0.9954 - val_loss: 0.4682 - val_accuracy: 0.8727\n",
      "Epoch 19/100\n",
      "146/146 [==============================] - 110s 756ms/step - loss: 0.0995 - accuracy: 0.9935 - val_loss: 0.4763 - val_accuracy: 0.8719\n",
      "Epoch 20/100\n",
      "146/146 [==============================] - 111s 758ms/step - loss: 0.0956 - accuracy: 0.9958 - val_loss: 0.4851 - val_accuracy: 0.8688\n",
      "Epoch 21/100\n",
      "146/146 [==============================] - 110s 755ms/step - loss: 0.0956 - accuracy: 0.9950 - val_loss: 0.4863 - val_accuracy: 0.8738\n",
      "Epoch 22/100\n",
      "146/146 [==============================] - 111s 758ms/step - loss: 0.0943 - accuracy: 0.9950 - val_loss: 0.4869 - val_accuracy: 0.8703\n",
      "Epoch 23/100\n",
      "146/146 [==============================] - 110s 756ms/step - loss: 0.0936 - accuracy: 0.9955 - val_loss: 0.4803 - val_accuracy: 0.8719\n",
      "Epoch 24/100\n",
      "146/146 [==============================] - 110s 752ms/step - loss: 0.0916 - accuracy: 0.9959 - val_loss: 0.4970 - val_accuracy: 0.8676\n",
      "Epoch 25/100\n",
      "146/146 [==============================] - 110s 751ms/step - loss: 0.0898 - accuracy: 0.9962 - val_loss: 0.4893 - val_accuracy: 0.8730\n",
      "Epoch 26/100\n",
      "146/146 [==============================] - 110s 751ms/step - loss: 0.0900 - accuracy: 0.9951 - val_loss: 0.5005 - val_accuracy: 0.8719\n",
      "Epoch 27/100\n",
      "146/146 [==============================] - 110s 752ms/step - loss: 0.0906 - accuracy: 0.9953 - val_loss: 0.4888 - val_accuracy: 0.8750\n",
      "Epoch 28/100\n",
      "146/146 [==============================] - 110s 751ms/step - loss: 0.0892 - accuracy: 0.9963 - val_loss: 0.5073 - val_accuracy: 0.8680\n",
      "Epoch 29/100\n",
      "146/146 [==============================] - 109s 749ms/step - loss: 0.0881 - accuracy: 0.9952 - val_loss: 0.5087 - val_accuracy: 0.8691\n",
      "Epoch 30/100\n",
      "146/146 [==============================] - 110s 751ms/step - loss: 0.0881 - accuracy: 0.9959 - val_loss: 0.5019 - val_accuracy: 0.8688\n",
      "Epoch 31/100\n",
      "146/146 [==============================] - 109s 749ms/step - loss: 0.0874 - accuracy: 0.9954 - val_loss: 0.5200 - val_accuracy: 0.8680\n",
      "Epoch 32/100\n",
      "146/146 [==============================] - 109s 750ms/step - loss: 0.0876 - accuracy: 0.9963 - val_loss: 0.5078 - val_accuracy: 0.8730\n",
      "Epoch 33/100\n",
      "146/146 [==============================] - 109s 750ms/step - loss: 0.0875 - accuracy: 0.9956 - val_loss: 0.4904 - val_accuracy: 0.8707\n",
      "Epoch 34/100\n",
      "146/146 [==============================] - 109s 750ms/step - loss: 0.0863 - accuracy: 0.9954 - val_loss: 0.5000 - val_accuracy: 0.8711\n",
      "Epoch 35/100\n",
      "146/146 [==============================] - 109s 749ms/step - loss: 0.0868 - accuracy: 0.9956 - val_loss: 0.5139 - val_accuracy: 0.8715\n",
      "Epoch 36/100\n",
      "146/146 [==============================] - 110s 750ms/step - loss: 0.0852 - accuracy: 0.9974 - val_loss: 0.5043 - val_accuracy: 0.8699\n",
      "Epoch 37/100\n",
      "146/146 [==============================] - 110s 751ms/step - loss: 0.0838 - accuracy: 0.9970 - val_loss: 0.5154 - val_accuracy: 0.8699\n"
     ]
    }
   ],
   "source": [
    "history = combined_model.fit(train_ds,\n",
    "                            epochs=params['epochs'],\n",
    "                            steps_per_epoch=epoch_steps,\n",
    "                            validation_data=valid_ds,\n",
    "                            validation_steps=valid_steps,\n",
    "                            callbacks=[early_stopping, lr_schedule],\n",
    "                             #consdier adding class weights\n",
    "                            verbose=1)"
   ]
  },
  {
   "cell_type": "code",
   "execution_count": 28,
   "id": "valuable-halloween",
   "metadata": {
    "id": "valuable-halloween"
   },
   "outputs": [],
   "source": [
    "def plot_metric(history, metric1, metric2, ylabel):\n",
    "    plt.plot(history.history[metric1], label=metric1)\n",
    "    plt.plot(history.history[metric2], label=metric2)\n",
    "    plt.ylabel(ylabel)\n",
    "    plt.xlabel('epoch')\n",
    "    plt.legend()\n",
    "    plt.show()\n"
   ]
  },
  {
   "cell_type": "code",
   "execution_count": 29,
   "id": "found-emperor",
   "metadata": {
    "colab": {
     "base_uri": "https://localhost:8080/",
     "height": 545
    },
    "id": "found-emperor",
    "outputId": "0aff716e-bfea-4c8b-bd3d-9d06eb873e8f"
   },
   "outputs": [
    {
     "data": {
      "image/png": "[encoded data removed]",
      "text/plain": [
       "<Figure size 432x288 with 1 Axes>"
      ]
     },
     "metadata": {
      "needs_background": "light",
      "tags": []
     },
     "output_type": "display_data"
    },
    {
     "data": {
      "image/png": "[encoded data removed]",
      "text/plain": [
       "<Figure size 432x288 with 1 Axes>"
      ]
     },
     "metadata": {
      "needs_background": "light",
      "tags": []
     },
     "output_type": "display_data"
    }
   ],
   "source": [
    "plot_metric(history, 'loss', 'val_loss', 'loss')\n",
    "plot_metric(history, 'accuracy', 'val_accuracy', 'accuracy')"
   ]
  },
  {
   "cell_type": "code",
   "execution_count": 30,
   "id": "35ir37vciiCC",
   "metadata": {
    "id": "35ir37vciiCC"
   },
   "outputs": [],
   "source": [
    "combined_model.save('final_model.h5')"
   ]
  },
  {
   "cell_type": "code",
   "execution_count": 31,
   "id": "wuBxXkum-vZc",
   "metadata": {
    "id": "wuBxXkum-vZc"
   },
   "outputs": [],
   "source": [
    "combined_model.save_weights('final_weights')"
   ]
  },
  {
   "cell_type": "code",
   "execution_count": null,
   "id": "6Xc7zrh63_XR",
   "metadata": {
    "id": "6Xc7zrh63_XR"
   },
   "outputs": [],
   "source": [
    ""
   ]
  }
 ],
 "metadata": {
  "accelerator": "TPU",
  "colab": {
   "name": "leaf_disease_classification (4).ipynb",
   "provenance": []
  },
  "kernelspec": {
   "display_name": "Python 3",
   "language": "python",
   "name": "python3"
  },
  "language_info": {
   "codemirror_mode": {
    "name": "ipython",
    "version": 3
   },
   "file_extension": ".py",
   "mimetype": "text/x-python",
   "name": "python",
   "nbconvert_exporter": "python",
   "pygments_lexer": "ipython3",
   "version": "3.8.3"
  }
 },
 "nbformat": 4,
 "nbformat_minor": 5
}
