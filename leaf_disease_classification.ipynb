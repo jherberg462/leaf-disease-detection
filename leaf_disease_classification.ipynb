{
 "cells": [
  {
   "cell_type": "code",
   "execution_count": 1,
   "id": "dv0DgfUiRFVT",
   "metadata": {
    "colab": {
     "base_uri": "https://localhost:8080/"
    },
    "id": "dv0DgfUiRFVT",
    "outputId": "afee882c-3a63-428a-865b-d9d4003f87e9"
   },
   "outputs": [
    {
     "name": "stdout",
     "output_type": "stream",
     "text": [
      "Collecting fsspec\n",
      "\u001b[?25l  Downloading https://files.pythonhosted.org/packages/ec/80/72ac0982cc833945fada4b76c52f0f65435ba4d53bc9317d1c70b5f7e7d5/fsspec-0.8.5-py3-none-any.whl (98kB)\n",
      "\r\u001b[K     |███▎                            | 10kB 16.0MB/s eta 0:00:01\r\u001b[K     |██████▋                         | 20kB 12.2MB/s eta 0:00:01\r\u001b[K     |██████████                      | 30kB 9.2MB/s eta 0:00:01\r\u001b[K     |█████████████▎                  | 40kB 7.5MB/s eta 0:00:01\r\u001b[K     |████████████████▋               | 51kB 5.6MB/s eta 0:00:01\r\u001b[K     |████████████████████            | 61kB 6.1MB/s eta 0:00:01\r\u001b[K     |███████████████████████▏        | 71kB 6.1MB/s eta 0:00:01\r\u001b[K     |██████████████████████████▌     | 81kB 6.4MB/s eta 0:00:01\r\u001b[K     |█████████████████████████████▉  | 92kB 6.3MB/s eta 0:00:01\r\u001b[K     |████████████████████████████████| 102kB 4.4MB/s \n",
      "\u001b[?25hCollecting gcsfs\n",
      "  Downloading https://files.pythonhosted.org/packages/ef/7a/c847e1a170be1836d8df2d3e0449b349b06c90a627914196e084b75b0284/gcsfs-0.7.2-py2.py3-none-any.whl\n",
      "Requirement already satisfied: decorator in /usr/local/lib/python3.6/dist-packages (from gcsfs) (4.4.2)\n",
      "Requirement already satisfied: google-auth>=1.2 in /usr/local/lib/python3.6/dist-packages (from gcsfs) (1.25.0)\n",
      "Requirement already satisfied: google-auth-oauthlib in /usr/local/lib/python3.6/dist-packages (from gcsfs) (0.4.2)\n",
      "Collecting aiohttp\n",
      "\u001b[?25l  Downloading https://files.pythonhosted.org/packages/ad/e6/d4b6235d776c9b33f853e603efede5aac5a34f71ca9d3877adb30492eb4e/aiohttp-3.7.3-cp36-cp36m-manylinux2014_x86_64.whl (1.3MB)\n",
      "\u001b[K     |████████████████████████████████| 1.3MB 8.1MB/s \n",
      "\u001b[?25hRequirement already satisfied: requests in /usr/local/lib/python3.6/dist-packages (from gcsfs) (2.23.0)\n",
      "Requirement already satisfied: cachetools<5.0,>=2.0.0 in /usr/local/lib/python3.6/dist-packages (from google-auth>=1.2->gcsfs) (4.2.1)\n",
      "Requirement already satisfied: rsa<5,>=3.1.4; python_version >= \"3.6\" in /usr/local/lib/python3.6/dist-packages (from google-auth>=1.2->gcsfs) (4.7)\n",
      "Requirement already satisfied: pyasn1-modules>=0.2.1 in /usr/local/lib/python3.6/dist-packages (from google-auth>=1.2->gcsfs) (0.2.8)\n",
      "Requirement already satisfied: setuptools>=40.3.0 in /usr/local/lib/python3.6/dist-packages (from google-auth>=1.2->gcsfs) (53.0.0)\n",
      "Requirement already satisfied: six>=1.9.0 in /usr/local/lib/python3.6/dist-packages (from google-auth>=1.2->gcsfs) (1.15.0)\n",
      "Requirement already satisfied: requests-oauthlib>=0.7.0 in /usr/local/lib/python3.6/dist-packages (from google-auth-oauthlib->gcsfs) (1.3.0)\n",
      "Requirement already satisfied: chardet<4.0,>=2.0 in /usr/local/lib/python3.6/dist-packages (from aiohttp->gcsfs) (3.0.4)\n",
      "Requirement already satisfied: typing-extensions>=3.6.5 in /usr/local/lib/python3.6/dist-packages (from aiohttp->gcsfs) (3.7.4.3)\n",
      "Requirement already satisfied: attrs>=17.3.0 in /usr/local/lib/python3.6/dist-packages (from aiohttp->gcsfs) (20.3.0)\n",
      "Collecting idna-ssl>=1.0; python_version < \"3.7\"\n",
      "  Downloading https://files.pythonhosted.org/packages/46/03/07c4894aae38b0de52b52586b24bf189bb83e4ddabfe2e2c8f2419eec6f4/idna-ssl-1.1.0.tar.gz\n",
      "Collecting async-timeout<4.0,>=3.0\n",
      "  Downloading https://files.pythonhosted.org/packages/e1/1e/5a4441be21b0726c4464f3f23c8b19628372f606755a9d2e46c187e65ec4/async_timeout-3.0.1-py3-none-any.whl\n",
      "Collecting yarl<2.0,>=1.0\n",
      "\u001b[?25l  Downloading https://files.pythonhosted.org/packages/da/08/52b26b44bce7b818b410aee37c5e424c9ea420c557bca97dc2adac29b151/yarl-1.6.3-cp36-cp36m-manylinux2014_x86_64.whl (293kB)\n",
      "\u001b[K     |████████████████████████████████| 296kB 12.7MB/s \n",
      "\u001b[?25hCollecting multidict<7.0,>=4.5\n",
      "\u001b[?25l  Downloading https://files.pythonhosted.org/packages/a1/35/b22524d6b9cacfb4c5eff413a069bbc17c6ea628e54da5c6c989998ced5f/multidict-5.1.0-cp36-cp36m-manylinux2014_x86_64.whl (141kB)\n",
      "\u001b[K     |████████████████████████████████| 143kB 19.7MB/s \n",
      "\u001b[?25hRequirement already satisfied: idna<3,>=2.5 in /usr/local/lib/python3.6/dist-packages (from requests->gcsfs) (2.10)\n",
      "Requirement already satisfied: certifi>=2017.4.17 in /usr/local/lib/python3.6/dist-packages (from requests->gcsfs) (2020.12.5)\n",
      "Requirement already satisfied: urllib3!=1.25.0,!=1.25.1,<1.26,>=1.21.1 in /usr/local/lib/python3.6/dist-packages (from requests->gcsfs) (1.24.3)\n",
      "Requirement already satisfied: pyasn1>=0.1.3 in /usr/local/lib/python3.6/dist-packages (from rsa<5,>=3.1.4; python_version >= \"3.6\"->google-auth>=1.2->gcsfs) (0.4.8)\n",
      "Requirement already satisfied: oauthlib>=3.0.0 in /usr/local/lib/python3.6/dist-packages (from requests-oauthlib>=0.7.0->google-auth-oauthlib->gcsfs) (3.1.0)\n",
      "Building wheels for collected packages: idna-ssl\n",
      "  Building wheel for idna-ssl (setup.py) ... \u001b[?25l\u001b[?25hdone\n",
      "  Created wheel for idna-ssl: filename=idna_ssl-1.1.0-cp36-none-any.whl size=3163 sha256=47fd3462dac9b60e63a1ddb6bceee6a219892a35006c2b5f91d9de722f4c66a9\n",
      "  Stored in directory: /root/.cache/pip/wheels/d3/00/b3/32d613e19e08a739751dd6bf998cfed277728f8b2127ad4eb7\n",
      "Successfully built idna-ssl\n",
      "Installing collected packages: fsspec, idna-ssl, async-timeout, multidict, yarl, aiohttp, gcsfs\n",
      "Successfully installed aiohttp-3.7.3 async-timeout-3.0.1 fsspec-0.8.5 gcsfs-0.7.2 idna-ssl-1.1.0 multidict-5.1.0 yarl-1.6.3\n"
     ]
    }
   ],
   "source": [
    "!pip install fsspec gcsfs"
   ]
  },
  {
   "cell_type": "code",
   "execution_count": 2,
   "id": "south-carrier",
   "metadata": {
    "id": "south-carrier"
   },
   "outputs": [],
   "source": [
    "import numpy as np \n",
    "import pandas as pd \n",
    "\n",
    "\n",
    "import tensorflow as tf\n",
    "from tensorflow.keras import layers \n",
    "from tensorflow import keras\n",
    "from tensorflow.keras import applications as tl #transfer learning\n",
    "\n",
    "from sklearn.model_selection import train_test_split\n",
    "from matplotlib import pyplot as plt\n",
    "\n",
    "try:\n",
    "    from kaggle_datasets import KaggleDatasets\n",
    "    dataset_gcs = KaggleDatasets().get_gcs_path('cassava-leaf-disease-classification')\n",
    "    print('got GCS path via KaggleDatasets .get_gcs_path method')\n",
    "except ModuleNotFoundError:\n",
    "    #hardcode path while testing locally\n",
    "    dataset_gcs = 'gs://kds-9254a9aba4b37289f07bbbbe4e2af5c952dd2d811a2c823340ca8091'"
   ]
  },
  {
   "cell_type": "code",
   "execution_count": 3,
   "id": "provincial-grade",
   "metadata": {
    "colab": {
     "base_uri": "https://localhost:8080/",
     "height": 37
    },
    "id": "provincial-grade",
    "outputId": "764bfb74-3524-4a7d-c048-9eb93ea5b58a"
   },
   "outputs": [
    {
     "data": {
      "application/vnd.google.colaboratory.intrinsic+json": {
       "type": "string"
      },
      "text/plain": [
       "'2.4.1'"
      ]
     },
     "execution_count": 3,
     "metadata": {
      "tags": []
     },
     "output_type": "execute_result"
    }
   ],
   "source": [
    "tf.__version__"
   ]
  },
  {
   "cell_type": "code",
   "execution_count": 4,
   "id": "together-artist",
   "metadata": {
    "id": "together-artist"
   },
   "outputs": [],
   "source": [
    "params = {\n",
    "    'batch_size' : 128,\n",
    "    'img_size' : [512, 512], #length and width will be equal\n",
    "    'epochs': 100\n",
    "}"
   ]
  },
  {
   "cell_type": "code",
   "execution_count": 5,
   "id": "standing-capability",
   "metadata": {
    "colab": {
     "base_uri": "https://localhost:8080/"
    },
    "id": "standing-capability",
    "outputId": "c909bbd3-9639-43c2-d067-781eb7936019"
   },
   "outputs": [
    {
     "name": "stdout",
     "output_type": "stream",
     "text": [
      "Running on TPU  grpc://10.35.185.82:8470\n",
      "INFO:tensorflow:Initializing the TPU system: grpc://10.35.185.82:8470\n"
     ]
    },
    {
     "name": "stderr",
     "output_type": "stream",
     "text": [
      "INFO:tensorflow:Initializing the TPU system: grpc://10.35.185.82:8470\n"
     ]
    },
    {
     "name": "stdout",
     "output_type": "stream",
     "text": [
      "INFO:tensorflow:Clearing out eager caches\n"
     ]
    },
    {
     "name": "stderr",
     "output_type": "stream",
     "text": [
      "INFO:tensorflow:Clearing out eager caches\n"
     ]
    },
    {
     "name": "stdout",
     "output_type": "stream",
     "text": [
      "INFO:tensorflow:Finished initializing TPU system.\n"
     ]
    },
    {
     "name": "stderr",
     "output_type": "stream",
     "text": [
      "INFO:tensorflow:Finished initializing TPU system.\n",
      "WARNING:absl:`tf.distribute.experimental.TPUStrategy` is deprecated, please use  the non experimental symbol `tf.distribute.TPUStrategy` instead.\n"
     ]
    },
    {
     "name": "stdout",
     "output_type": "stream",
     "text": [
      "INFO:tensorflow:Found TPU system:\n"
     ]
    },
    {
     "name": "stderr",
     "output_type": "stream",
     "text": [
      "INFO:tensorflow:Found TPU system:\n"
     ]
    },
    {
     "name": "stdout",
     "output_type": "stream",
     "text": [
      "INFO:tensorflow:*** Num TPU Cores: 8\n"
     ]
    },
    {
     "name": "stderr",
     "output_type": "stream",
     "text": [
      "INFO:tensorflow:*** Num TPU Cores: 8\n"
     ]
    },
    {
     "name": "stdout",
     "output_type": "stream",
     "text": [
      "INFO:tensorflow:*** Num TPU Workers: 1\n"
     ]
    },
    {
     "name": "stderr",
     "output_type": "stream",
     "text": [
      "INFO:tensorflow:*** Num TPU Workers: 1\n"
     ]
    },
    {
     "name": "stdout",
     "output_type": "stream",
     "text": [
      "INFO:tensorflow:*** Num TPU Cores Per Worker: 8\n"
     ]
    },
    {
     "name": "stderr",
     "output_type": "stream",
     "text": [
      "INFO:tensorflow:*** Num TPU Cores Per Worker: 8\n"
     ]
    },
    {
     "name": "stdout",
     "output_type": "stream",
     "text": [
      "INFO:tensorflow:*** Available Device: _DeviceAttributes(/job:localhost/replica:0/task:0/device:CPU:0, CPU, 0, 0)\n"
     ]
    },
    {
     "name": "stderr",
     "output_type": "stream",
     "text": [
      "INFO:tensorflow:*** Available Device: _DeviceAttributes(/job:localhost/replica:0/task:0/device:CPU:0, CPU, 0, 0)\n"
     ]
    },
    {
     "name": "stdout",
     "output_type": "stream",
     "text": [
      "INFO:tensorflow:*** Available Device: _DeviceAttributes(/job:worker/replica:0/task:0/device:CPU:0, CPU, 0, 0)\n"
     ]
    },
    {
     "name": "stderr",
     "output_type": "stream",
     "text": [
      "INFO:tensorflow:*** Available Device: _DeviceAttributes(/job:worker/replica:0/task:0/device:CPU:0, CPU, 0, 0)\n"
     ]
    },
    {
     "name": "stdout",
     "output_type": "stream",
     "text": [
      "INFO:tensorflow:*** Available Device: _DeviceAttributes(/job:worker/replica:0/task:0/device:TPU:0, TPU, 0, 0)\n"
     ]
    },
    {
     "name": "stderr",
     "output_type": "stream",
     "text": [
      "INFO:tensorflow:*** Available Device: _DeviceAttributes(/job:worker/replica:0/task:0/device:TPU:0, TPU, 0, 0)\n"
     ]
    },
    {
     "name": "stdout",
     "output_type": "stream",
     "text": [
      "INFO:tensorflow:*** Available Device: _DeviceAttributes(/job:worker/replica:0/task:0/device:TPU:1, TPU, 0, 0)\n"
     ]
    },
    {
     "name": "stderr",
     "output_type": "stream",
     "text": [
      "INFO:tensorflow:*** Available Device: _DeviceAttributes(/job:worker/replica:0/task:0/device:TPU:1, TPU, 0, 0)\n"
     ]
    },
    {
     "name": "stdout",
     "output_type": "stream",
     "text": [
      "INFO:tensorflow:*** Available Device: _DeviceAttributes(/job:worker/replica:0/task:0/device:TPU:2, TPU, 0, 0)\n"
     ]
    },
    {
     "name": "stderr",
     "output_type": "stream",
     "text": [
      "INFO:tensorflow:*** Available Device: _DeviceAttributes(/job:worker/replica:0/task:0/device:TPU:2, TPU, 0, 0)\n"
     ]
    },
    {
     "name": "stdout",
     "output_type": "stream",
     "text": [
      "INFO:tensorflow:*** Available Device: _DeviceAttributes(/job:worker/replica:0/task:0/device:TPU:3, TPU, 0, 0)\n"
     ]
    },
    {
     "name": "stderr",
     "output_type": "stream",
     "text": [
      "INFO:tensorflow:*** Available Device: _DeviceAttributes(/job:worker/replica:0/task:0/device:TPU:3, TPU, 0, 0)\n"
     ]
    },
    {
     "name": "stdout",
     "output_type": "stream",
     "text": [
      "INFO:tensorflow:*** Available Device: _DeviceAttributes(/job:worker/replica:0/task:0/device:TPU:4, TPU, 0, 0)\n"
     ]
    },
    {
     "name": "stderr",
     "output_type": "stream",
     "text": [
      "INFO:tensorflow:*** Available Device: _DeviceAttributes(/job:worker/replica:0/task:0/device:TPU:4, TPU, 0, 0)\n"
     ]
    },
    {
     "name": "stdout",
     "output_type": "stream",
     "text": [
      "INFO:tensorflow:*** Available Device: _DeviceAttributes(/job:worker/replica:0/task:0/device:TPU:5, TPU, 0, 0)\n"
     ]
    },
    {
     "name": "stderr",
     "output_type": "stream",
     "text": [
      "INFO:tensorflow:*** Available Device: _DeviceAttributes(/job:worker/replica:0/task:0/device:TPU:5, TPU, 0, 0)\n"
     ]
    },
    {
     "name": "stdout",
     "output_type": "stream",
     "text": [
      "INFO:tensorflow:*** Available Device: _DeviceAttributes(/job:worker/replica:0/task:0/device:TPU:6, TPU, 0, 0)\n"
     ]
    },
    {
     "name": "stderr",
     "output_type": "stream",
     "text": [
      "INFO:tensorflow:*** Available Device: _DeviceAttributes(/job:worker/replica:0/task:0/device:TPU:6, TPU, 0, 0)\n"
     ]
    },
    {
     "name": "stdout",
     "output_type": "stream",
     "text": [
      "INFO:tensorflow:*** Available Device: _DeviceAttributes(/job:worker/replica:0/task:0/device:TPU:7, TPU, 0, 0)\n"
     ]
    },
    {
     "name": "stderr",
     "output_type": "stream",
     "text": [
      "INFO:tensorflow:*** Available Device: _DeviceAttributes(/job:worker/replica:0/task:0/device:TPU:7, TPU, 0, 0)\n"
     ]
    },
    {
     "name": "stdout",
     "output_type": "stream",
     "text": [
      "INFO:tensorflow:*** Available Device: _DeviceAttributes(/job:worker/replica:0/task:0/device:TPU_SYSTEM:0, TPU_SYSTEM, 0, 0)\n"
     ]
    },
    {
     "name": "stderr",
     "output_type": "stream",
     "text": [
      "INFO:tensorflow:*** Available Device: _DeviceAttributes(/job:worker/replica:0/task:0/device:TPU_SYSTEM:0, TPU_SYSTEM, 0, 0)\n"
     ]
    },
    {
     "name": "stdout",
     "output_type": "stream",
     "text": [
      "INFO:tensorflow:*** Available Device: _DeviceAttributes(/job:worker/replica:0/task:0/device:XLA_CPU:0, XLA_CPU, 0, 0)\n"
     ]
    },
    {
     "name": "stderr",
     "output_type": "stream",
     "text": [
      "INFO:tensorflow:*** Available Device: _DeviceAttributes(/job:worker/replica:0/task:0/device:XLA_CPU:0, XLA_CPU, 0, 0)\n"
     ]
    },
    {
     "name": "stdout",
     "output_type": "stream",
     "text": [
      "REPLICAS:  8\n"
     ]
    }
   ],
   "source": [
    "try:\n",
    "    tpu = tf.distribute.cluster_resolver.TPUClusterResolver()\n",
    "    print('Running on TPU ', tpu.master())\n",
    "except ValueError:\n",
    "    tpu = None\n",
    "\n",
    "def start_tpu():\n",
    "    '''function to initialize the TPU'''\n",
    "    tf.config.experimental_connect_to_cluster(tpu)\n",
    "    tf.tpu.experimental.initialize_tpu_system(tpu)\n",
    "    # strategy = tf.distribute.experimental.TPUStrategy(tpu)\n",
    "if tpu:\n",
    "    start_tpu()\n",
    "    # tf.config.experimental_connect_to_cluster(tpu)\n",
    "    # tf.tpu.experimental.initialize_tpu_system(tpu)\n",
    "    strategy = tf.distribute.experimental.TPUStrategy(tpu)\n",
    "else:\n",
    "    strategy = tf.distribute.get_strategy()\n",
    "\n",
    "print(\"REPLICAS: \", strategy.num_replicas_in_sync)"
   ]
  },
  {
   "cell_type": "code",
   "execution_count": 6,
   "id": "concrete-reconstruction",
   "metadata": {
    "colab": {
     "base_uri": "https://localhost:8080/",
     "height": 323
    },
    "id": "concrete-reconstruction",
    "outputId": "e282ef3c-4811-405f-89b3-1fecfdcf9a86"
   },
   "outputs": [
    {
     "name": "stderr",
     "output_type": "stream",
     "text": [
      "WARNING:google.auth.compute_engine._metadata:Compute Engine Metadata server unavailable onattempt 1 of 3. Reason: [Errno 115] Operation now in progress\n",
      "WARNING:google.auth.compute_engine._metadata:Compute Engine Metadata server unavailable onattempt 2 of 3. Reason: [Errno 115] Operation now in progress\n",
      "WARNING:google.auth.compute_engine._metadata:Compute Engine Metadata server unavailable onattempt 3 of 3. Reason: [Errno 115] Operation now in progress\n",
      "WARNING:google.auth._default:Authentication failed using Compute Engine authentication due to unavailable metadata server.\n"
     ]
    },
    {
     "data": {
      "text/html": [
       "<div>\n",
       "<style scoped>\n",
       "    .dataframe tbody tr th:only-of-type {\n",
       "        vertical-align: middle;\n",
       "    }\n",
       "\n",
       "    .dataframe tbody tr th {\n",
       "        vertical-align: top;\n",
       "    }\n",
       "\n",
       "    .dataframe thead th {\n",
       "        text-align: right;\n",
       "    }\n",
       "</style>\n",
       "<table border=\"1\" class=\"dataframe\">\n",
       "  <thead>\n",
       "    <tr style=\"text-align: right;\">\n",
       "      <th></th>\n",
       "      <th>image_id</th>\n",
       "    </tr>\n",
       "    <tr>\n",
       "      <th>label</th>\n",
       "      <th></th>\n",
       "    </tr>\n",
       "  </thead>\n",
       "  <tbody>\n",
       "    <tr>\n",
       "      <th>0</th>\n",
       "      <td>1087</td>\n",
       "    </tr>\n",
       "    <tr>\n",
       "      <th>1</th>\n",
       "      <td>2189</td>\n",
       "    </tr>\n",
       "    <tr>\n",
       "      <th>2</th>\n",
       "      <td>2386</td>\n",
       "    </tr>\n",
       "    <tr>\n",
       "      <th>3</th>\n",
       "      <td>13158</td>\n",
       "    </tr>\n",
       "    <tr>\n",
       "      <th>4</th>\n",
       "      <td>2577</td>\n",
       "    </tr>\n",
       "  </tbody>\n",
       "</table>\n",
       "</div>"
      ],
      "text/plain": [
       "       image_id\n",
       "label          \n",
       "0          1087\n",
       "1          2189\n",
       "2          2386\n",
       "3         13158\n",
       "4          2577"
      ]
     },
     "execution_count": 6,
     "metadata": {
      "tags": []
     },
     "output_type": "execute_result"
    }
   ],
   "source": [
    "train_df = pd.read_csv(dataset_gcs + '/train.csv')\n",
    "train_df.groupby('label').count()\n"
   ]
  },
  {
   "cell_type": "code",
   "execution_count": 7,
   "id": "popular-knitting",
   "metadata": {
    "id": "popular-knitting"
   },
   "outputs": [],
   "source": [
    "def decode_image_train(tfrec):\n",
    "    '''\n",
    "    ***update documentation \n",
    "    function to decode an image from tfrecord\n",
    "    \n",
    "    args:\n",
    "        tfrec: tfrecord, single record of training/validation data\n",
    "    \n",
    "    returns:\n",
    "        decoded_image: tensor, converted image from tfrecord\n",
    "        img_name: tensor, string, Id of the decoded image\n",
    "    \n",
    "    '''\n",
    "    \n",
    "    features_dictionary = {\n",
    "        'image': tf.io.FixedLenFeature([], tf.string),\n",
    "        \"image_name\": tf.io.FixedLenFeature([], tf.string),\n",
    "        'target': tf.io.FixedLenFeature([], tf.int64)\n",
    "        }\n",
    "    features = tf.io.parse_single_example(tfrec, features_dictionary)\n",
    "    decoded_image = tf.io.decode_jpeg(features['image'], 3)\n",
    "    decoded_image = tf.image.resize(decoded_image, params['img_size'])\n",
    "#     img_name = features['image_name'] #I dont think I will need this\n",
    "    target = features['target']\n",
    "    \n",
    "    return decoded_image, target #,img_name\n"
   ]
  },
  {
   "cell_type": "code",
   "execution_count": 8,
   "id": "relevant-blocking",
   "metadata": {
    "id": "relevant-blocking"
   },
   "outputs": [],
   "source": [
    "def normalize_image(decoded_image, label):\n",
    "    '''\n",
    "    function to convert an image tensor values from 0 to 255 \n",
    "    -> -1 to 1\n",
    "    to be used when dealing with tfrecords containing labels\n",
    "    \n",
    "    args:\n",
    "        decoded_image: tensor that is an image with values from 0 to 255\n",
    "        label: tensor, target label\n",
    "    \n",
    "    returns: \n",
    "        image_tensor: tensor that is an image with values from -1 to 1\n",
    "        label, same as input\n",
    "    \n",
    "    '''\n",
    "    \n",
    "    #add dim at the zero axis Shape will be from (x, y, z) -> (None, x, y, z)\n",
    "    image_tensor = tf.expand_dims(decoded_image, 0)\n",
    "    #undo the above line -- this is needed due to TF not allowing a filtered tensor py_function\n",
    "    image_tensor = tf.gather(image_tensor, 0)\n",
    "\n",
    "    #convert tensor values to between -1 and 1 (0 to 255 -> -1 to 1)\n",
    "    image_tensor = (tf.cast(image_tensor, tf.float32) - 127.5) / 127.5\n",
    "\n",
    "    return image_tensor, label"
   ]
  },
  {
   "cell_type": "code",
   "execution_count": 9,
   "id": "colored-ribbon",
   "metadata": {
    "id": "colored-ribbon"
   },
   "outputs": [],
   "source": [
    "def random_flip(image, label):\n",
    "    '''\n",
    "    function to randomly flip images on the x and/or y axis\n",
    "    \n",
    "    args:\n",
    "        image: tensor, an image\n",
    "        label: tensor, target label\n",
    "    \n",
    "    returns: \n",
    "        image: tensor, same as input, but possibly flipped on x and/or y axis\n",
    "        label, tensor, same as input\n",
    "    '''\n",
    "    image = tf.image.random_flip_left_right(image)\n",
    "    image = tf.image.random_flip_up_down(image)\n",
    "    return image, label\n"
   ]
  },
  {
   "cell_type": "code",
   "execution_count": 10,
   "id": "naked-shelter",
   "metadata": {
    "id": "naked-shelter"
   },
   "outputs": [],
   "source": [
    "def one_hot(image, label):\n",
    "    '''\n",
    "    function to one hot encode label\n",
    "    \n",
    "    args:\n",
    "        image: tensor, an image\n",
    "        label: tensor, target label\n",
    "        \n",
    "    returns:\n",
    "        image: tensor, same as input\n",
    "        label: tensor, one hot encoded with a depth of 5\n",
    "    '''\n",
    "    label = tf.one_hot(label, 5)\n",
    "    return image, label"
   ]
  },
  {
   "cell_type": "code",
   "execution_count": 11,
   "id": "level-divorce",
   "metadata": {
    "id": "level-divorce"
   },
   "outputs": [],
   "source": [
    "def get_train_ds(tfrecords, batch_size):\n",
    "    '''\n",
    "    function to create a ds pipeline from tfrecord files\n",
    "    \n",
    "    args:\n",
    "        tfrecords: list, tfrecord file paths\n",
    "        batch_size: int, batch size for number of records to pass into\n",
    "            model at a time\n",
    "    returns:\n",
    "        ds: tensorflow input pipeline with images and labels\n",
    "    '''\n",
    "    ds = (tf.data.TFRecordDataset(filenames=[tfrecords],\n",
    "                                 num_parallel_reads=tf.data.experimental.AUTOTUNE).\n",
    "          cache(). #need to remove cache while not usnig TPUs\n",
    "          map(decode_image_train, num_parallel_calls=tf.data.experimental.AUTOTUNE).\n",
    "          map(normalize_image, num_parallel_calls=tf.data.experimental.AUTOTUNE).\n",
    "          map(random_flip, num_parallel_calls=tf.data.experimental.AUTOTUNE).\n",
    "          map(one_hot, num_parallel_calls=tf.data.experimental.AUTOTUNE).\n",
    "          repeat().\n",
    "          shuffle(512).\n",
    "          batch(batch_size,\n",
    "               drop_remainder=False).\n",
    "          prefetch(tf.data.experimental.AUTOTUNE)\n",
    "         )\n",
    "    \n",
    "\n",
    "    \n",
    "    return ds"
   ]
  },
  {
   "cell_type": "code",
   "execution_count": 12,
   "id": "suburban-circumstances",
   "metadata": {
    "id": "suburban-circumstances"
   },
   "outputs": [],
   "source": [
    "def get_ds_size(files):\n",
    "    '''\n",
    "    function to get size of tfrecord Dataset, based on file name\n",
    "    \n",
    "    the file name has the number of records in the file, for example:\n",
    "    train09-2071.tfrec has 2017 records\n",
    "    \n",
    "    args:\n",
    "        files: list of str file names, each item should be the path to a tfrecord file\n",
    "    \n",
    "    returns:\n",
    "        size: int, size of dataset\n",
    "    '''\n",
    "    size = 0\n",
    "    for file in files:\n",
    "        file_size = int(file.split('.tfrec')[0].split('tfrecords/')[1].split('-')[1])\n",
    "        size += file_size\n",
    "    return size\n"
   ]
  },
  {
   "cell_type": "code",
   "execution_count": 13,
   "id": "particular-edwards",
   "metadata": {
    "id": "particular-edwards"
   },
   "outputs": [],
   "source": [
    "#get train and validation file paths\n",
    "train_files, valid_files = train_test_split(tf.io.gfile.glob(dataset_gcs + '/train_tfrecords/*.tfrec'),\n",
    "                                            test_size=.1, random_state=1)\n",
    "#create datasets\n",
    "train_ds = get_train_ds(train_files, params['batch_size'])\n",
    "valid_ds = get_train_ds(valid_files, params['batch_size'])"
   ]
  },
  {
   "cell_type": "code",
   "execution_count": 14,
   "id": "expired-survey",
   "metadata": {
    "colab": {
     "base_uri": "https://localhost:8080/"
    },
    "id": "expired-survey",
    "outputId": "1187957c-1ec5-4890-fdde-e0bd30e3d4d0"
   },
   "outputs": [
    {
     "name": "stdout",
     "output_type": "stream",
     "text": [
      "the dataset consists of: 18721 training images, and 2676 validation images\n"
     ]
    }
   ],
   "source": [
    "train_size, valid_size = get_ds_size(train_files), get_ds_size(valid_files)\n",
    "print('the dataset consists of: {} training images, and {} validation images'.\n",
    "     format(train_size, valid_size,))"
   ]
  },
  {
   "cell_type": "code",
   "execution_count": 15,
   "id": "thirty-elite",
   "metadata": {
    "id": "thirty-elite"
   },
   "outputs": [],
   "source": [
    "epoch_steps = train_size // params['batch_size'] \n",
    "valid_steps = valid_size // params['batch_size']"
   ]
  },
  {
   "cell_type": "code",
   "execution_count": 16,
   "id": "prescription-pride",
   "metadata": {
    "id": "prescription-pride"
   },
   "outputs": [],
   "source": [
    "targets = train_df.groupby('label').count()['image_id'].to_list()\n",
    "#todo - consider using class weights"
   ]
  },
  {
   "cell_type": "code",
   "execution_count": 17,
   "id": "governmental-monaco",
   "metadata": {
    "colab": {
     "base_uri": "https://localhost:8080/"
    },
    "id": "governmental-monaco",
    "outputId": "0abb7e5b-bb15-4e85-dfcd-ab94f392d964"
   },
   "outputs": [
    {
     "data": {
      "text/plain": [
       "[1087, 2189, 2386, 13158, 2577]"
      ]
     },
     "execution_count": 17,
     "metadata": {
      "tags": []
     },
     "output_type": "execute_result"
    }
   ],
   "source": [
    "targets"
   ]
  },
  {
   "cell_type": "code",
   "execution_count": 18,
   "id": "written-congress",
   "metadata": {
    "id": "written-congress"
   },
   "outputs": [],
   "source": [
    "def create_model(pretrained_model,\n",
    "                 pretrained_input_size,\n",
    "                 dense_units=8,\n",
    "                 input_shape=[*params['img_size'], 3]):\n",
    "    '''\n",
    "    function to create model\n",
    "    '''\n",
    "    input_tensor = layers.Input(shape=input_shape, name='images_input')\n",
    "    \n",
    "    resized = layers.experimental.preprocessing.Resizing(pretrained_input_size, \n",
    "                                                         pretrained_input_size)(input_tensor)\n",
    "    pretrained_output = pretrained_model(include_top=False, classes=5, \n",
    "                                         input_shape=[pretrained_input_size, \n",
    "                                                      pretrained_input_size,3])(resized)\n",
    "    end_of_pretrained_model = layers.GlobalAveragePooling2D()(pretrained_output)\n",
    "    dense_layers = layers.Dense(dense_units)(end_of_pretrained_model)\n",
    "    output = layers.Dense(5, activation='softmax')(dense_layers)\n",
    "    model = keras.Model(inputs=input_tensor, outputs=output) \n",
    "    # model.layers[2].trainable = False\n",
    "    \n",
    "    metrics = [\n",
    "        keras.metrics.CategoricalAccuracy(name='accuracy'),\n",
    "    ]\n",
    "    model.compile(\n",
    "        optimizer=tf.keras.optimizers.Adam(),\n",
    "        loss = tf.keras.losses.CategoricalCrossentropy(label_smoothing = 0.01),\n",
    "        metrics=metrics)\n",
    "\n",
    "    return model\n",
    "    "
   ]
  },
  {
   "cell_type": "code",
   "execution_count": 19,
   "id": "referenced-blackjack",
   "metadata": {
    "id": "referenced-blackjack"
   },
   "outputs": [],
   "source": [
    "early_stopping = tf.keras.callbacks.EarlyStopping(monitor='val_accuracy', \n",
    "                                patience=10,\n",
    "                                mode='max',\n",
    "                                restore_best_weights=True)\n",
    "\n",
    "def lr_schedule_fn(epoch, lr):\n",
    "    if epoch < 8:\n",
    "        return 0.000001\n",
    "    elif epoch == 8:\n",
    "        return 0.0001 \n",
    "    elif epoch %2 ==0 and epoch < 49:\n",
    "        return lr * 0.75\n",
    "    else:\n",
    "        return lr\n",
    "lr_schedule = tf.keras.callbacks.LearningRateScheduler(lr_schedule_fn)\n",
    "\n",
    "def lr_schedule_fn_(epoch, lr):\n",
    "    if epoch == 1:\n",
    "        return 0.001 \n",
    "    elif epoch %2 ==0 and epoch < 49:\n",
    "        return lr * 0.75\n",
    "    else:\n",
    "        return lr\n",
    "lr_schedule_ = tf.keras.callbacks.LearningRateScheduler(lr_schedule_fn_)\n",
    "\n"
   ]
  },
  {
   "cell_type": "code",
   "execution_count": 20,
   "id": "srnGxx0AMsxy",
   "metadata": {
    "id": "srnGxx0AMsxy"
   },
   "outputs": [],
   "source": [
    "def training_procedure(model,\n",
    "                       dataset=train_ds,\n",
    "                       num_epochs=params['epochs'],\n",
    "                       steps_epoch=epoch_steps,\n",
    "                       valid_dataset=valid_ds,\n",
    "                       valid_steps=valid_steps,\n",
    "                       early_stopping=early_stopping,\n",
    "                       schedule=lr_schedule,\n",
    "                       verbose=1):\n",
    "    '''\n",
    "    function to train model\n",
    "    #todo - work on documentation\n",
    "    '''\n",
    "    history = model.fit(dataset,\n",
    "                        epochs=num_epochs,\n",
    "                        steps_per_epoch=steps_epoch,\n",
    "                        validation_data=valid_dataset,\n",
    "                        validation_steps=valid_steps,\n",
    "                        callbacks=[early_stopping, schedule],\n",
    "                        verbose=verbose)\n",
    "    return history\n"
   ]
  },
  {
   "cell_type": "code",
   "execution_count": 21,
   "id": "corporate-article",
   "metadata": {
    "colab": {
     "base_uri": "https://localhost:8080/"
    },
    "id": "corporate-article",
    "outputId": "a6462b13-0477-4026-b68f-5c56a4a7a090"
   },
   "outputs": [
    {
     "name": "stdout",
     "output_type": "stream",
     "text": [
      "Downloading data from https://storage.googleapis.com/keras-applications/efficientnetb1_notop.h5\n",
      "27025408/27018416 [==============================] - 0s 0us/step\n",
      "Model: \"model\"\n",
      "_________________________________________________________________\n",
      "Layer (type)                 Output Shape              Param #   \n",
      "=================================================================\n",
      "images_input (InputLayer)    [(None, 512, 512, 3)]     0         \n",
      "_________________________________________________________________\n",
      "resizing (Resizing)          (None, 240, 240, 3)       0         \n",
      "_________________________________________________________________\n",
      "efficientnetb1 (Functional)  (None, 8, 8, 1280)        6575239   \n",
      "_________________________________________________________________\n",
      "global_average_pooling2d (Gl (None, 1280)              0         \n",
      "_________________________________________________________________\n",
      "dense (Dense)                (None, 8)                 10248     \n",
      "_________________________________________________________________\n",
      "dense_1 (Dense)              (None, 5)                 45        \n",
      "=================================================================\n",
      "Total params: 6,585,532\n",
      "Trainable params: 6,523,477\n",
      "Non-trainable params: 62,055\n",
      "_________________________________________________________________\n",
      "Epoch 1/100\n",
      "146/146 [==============================] - 128s 383ms/step - loss: 1.6864 - accuracy: 0.1776 - val_loss: 1.6103 - val_accuracy: 0.0910\n",
      "Epoch 2/100\n",
      "146/146 [==============================] - 41s 281ms/step - loss: 1.6182 - accuracy: 0.2431 - val_loss: 1.5921 - val_accuracy: 0.1234\n",
      "Epoch 3/100\n",
      "146/146 [==============================] - 41s 284ms/step - loss: 1.5606 - accuracy: 0.3119 - val_loss: 1.5272 - val_accuracy: 0.2719\n",
      "Epoch 4/100\n",
      "146/146 [==============================] - 42s 289ms/step - loss: 1.4982 - accuracy: 0.3950 - val_loss: 1.6774 - val_accuracy: 0.1414\n",
      "Epoch 5/100\n",
      "146/146 [==============================] - 42s 288ms/step - loss: 1.4400 - accuracy: 0.4611 - val_loss: 1.5026 - val_accuracy: 0.3812\n",
      "Epoch 6/100\n",
      "146/146 [==============================] - 41s 280ms/step - loss: 1.3864 - accuracy: 0.5025 - val_loss: 1.3511 - val_accuracy: 0.5344\n",
      "Epoch 7/100\n",
      "146/146 [==============================] - 41s 283ms/step - loss: 1.3376 - accuracy: 0.5335 - val_loss: 1.2776 - val_accuracy: 0.5766\n",
      "Epoch 8/100\n",
      "146/146 [==============================] - 41s 284ms/step - loss: 1.2866 - accuracy: 0.5588 - val_loss: 1.2437 - val_accuracy: 0.5891\n",
      "Epoch 9/100\n",
      "146/146 [==============================] - 42s 286ms/step - loss: 0.9663 - accuracy: 0.6549 - val_loss: 1.1281 - val_accuracy: 0.5855\n",
      "Epoch 10/100\n",
      "146/146 [==============================] - 42s 287ms/step - loss: 0.7322 - accuracy: 0.7372 - val_loss: 1.2196 - val_accuracy: 0.5477\n",
      "Epoch 11/100\n",
      "146/146 [==============================] - 42s 284ms/step - loss: 0.6463 - accuracy: 0.7738 - val_loss: 1.2838 - val_accuracy: 0.5242\n",
      "Epoch 12/100\n",
      "146/146 [==============================] - 41s 283ms/step - loss: 0.5959 - accuracy: 0.7931 - val_loss: 1.1295 - val_accuracy: 0.5785\n",
      "Epoch 13/100\n",
      "146/146 [==============================] - 42s 286ms/step - loss: 0.5594 - accuracy: 0.8118 - val_loss: 1.8975 - val_accuracy: 0.2750\n",
      "Epoch 14/100\n",
      "146/146 [==============================] - 41s 282ms/step - loss: 0.5295 - accuracy: 0.8190 - val_loss: 1.3836 - val_accuracy: 0.4730\n",
      "Epoch 15/100\n",
      "146/146 [==============================] - 41s 281ms/step - loss: 0.5176 - accuracy: 0.8251 - val_loss: 0.6748 - val_accuracy: 0.7648\n",
      "Epoch 16/100\n",
      "146/146 [==============================] - 42s 287ms/step - loss: 0.4876 - accuracy: 0.8391 - val_loss: 0.5853 - val_accuracy: 0.7992\n",
      "Epoch 17/100\n",
      "146/146 [==============================] - 42s 289ms/step - loss: 0.4786 - accuracy: 0.8389 - val_loss: 0.5911 - val_accuracy: 0.8023\n",
      "Epoch 18/100\n",
      "146/146 [==============================] - 41s 284ms/step - loss: 0.4652 - accuracy: 0.8470 - val_loss: 0.6255 - val_accuracy: 0.7906\n",
      "Epoch 19/100\n",
      "146/146 [==============================] - 42s 287ms/step - loss: 0.4383 - accuracy: 0.8567 - val_loss: 0.5983 - val_accuracy: 0.8023\n",
      "Epoch 20/100\n",
      "146/146 [==============================] - 42s 287ms/step - loss: 0.4291 - accuracy: 0.8630 - val_loss: 0.6016 - val_accuracy: 0.7996\n",
      "Epoch 21/100\n",
      "146/146 [==============================] - 42s 286ms/step - loss: 0.4232 - accuracy: 0.8641 - val_loss: 0.5765 - val_accuracy: 0.8191\n",
      "Epoch 22/100\n",
      "146/146 [==============================] - 41s 278ms/step - loss: 0.4146 - accuracy: 0.8683 - val_loss: 0.6081 - val_accuracy: 0.8012\n",
      "Epoch 23/100\n",
      "146/146 [==============================] - 41s 284ms/step - loss: 0.4027 - accuracy: 0.8706 - val_loss: 0.5816 - val_accuracy: 0.8129\n",
      "Epoch 24/100\n",
      "146/146 [==============================] - 42s 285ms/step - loss: 0.4007 - accuracy: 0.8719 - val_loss: 0.5927 - val_accuracy: 0.8215\n",
      "Epoch 25/100\n",
      "146/146 [==============================] - 41s 284ms/step - loss: 0.3919 - accuracy: 0.8747 - val_loss: 0.6089 - val_accuracy: 0.8066\n",
      "Epoch 26/100\n",
      "146/146 [==============================] - 42s 285ms/step - loss: 0.3924 - accuracy: 0.8737 - val_loss: 0.6035 - val_accuracy: 0.8070\n",
      "Epoch 27/100\n",
      "146/146 [==============================] - 41s 284ms/step - loss: 0.3843 - accuracy: 0.8786 - val_loss: 0.6053 - val_accuracy: 0.7977\n",
      "Epoch 28/100\n",
      "146/146 [==============================] - 41s 284ms/step - loss: 0.3823 - accuracy: 0.8772 - val_loss: 0.6103 - val_accuracy: 0.8102\n",
      "Epoch 29/100\n",
      "146/146 [==============================] - 42s 287ms/step - loss: 0.3863 - accuracy: 0.8783 - val_loss: 0.6054 - val_accuracy: 0.8012\n",
      "Epoch 30/100\n",
      "146/146 [==============================] - 41s 284ms/step - loss: 0.3659 - accuracy: 0.8855 - val_loss: 0.5921 - val_accuracy: 0.8137\n",
      "Epoch 31/100\n",
      "146/146 [==============================] - 41s 283ms/step - loss: 0.3792 - accuracy: 0.8792 - val_loss: 0.6113 - val_accuracy: 0.8094\n",
      "Epoch 32/100\n",
      "146/146 [==============================] - 42s 285ms/step - loss: 0.3651 - accuracy: 0.8830 - val_loss: 0.6183 - val_accuracy: 0.8105\n",
      "Epoch 33/100\n",
      "146/146 [==============================] - 42s 288ms/step - loss: 0.3759 - accuracy: 0.8806 - val_loss: 0.5964 - val_accuracy: 0.8113\n",
      "Epoch 34/100\n",
      "146/146 [==============================] - 42s 285ms/step - loss: 0.3739 - accuracy: 0.8849 - val_loss: 0.5983 - val_accuracy: 0.8086\n",
      "INFO:tensorflow:Shutting down the TPU system: grpc://10.35.185.82:8470\n"
     ]
    },
    {
     "name": "stderr",
     "output_type": "stream",
     "text": [
      "INFO:tensorflow:Shutting down the TPU system: grpc://10.35.185.82:8470\n"
     ]
    },
    {
     "name": "stdout",
     "output_type": "stream",
     "text": [
      "INFO:tensorflow:Clearing out eager caches\n"
     ]
    },
    {
     "name": "stderr",
     "output_type": "stream",
     "text": [
      "INFO:tensorflow:Clearing out eager caches\n"
     ]
    },
    {
     "name": "stdout",
     "output_type": "stream",
     "text": [
      "INFO:tensorflow:Finished shutting down TPU system.\n"
     ]
    },
    {
     "name": "stderr",
     "output_type": "stream",
     "text": [
      "INFO:tensorflow:Finished shutting down TPU system.\n"
     ]
    },
    {
     "name": "stdout",
     "output_type": "stream",
     "text": [
      "INFO:tensorflow:Initializing the TPU system: grpc://10.35.185.82:8470\n"
     ]
    },
    {
     "name": "stderr",
     "output_type": "stream",
     "text": [
      "INFO:tensorflow:Initializing the TPU system: grpc://10.35.185.82:8470\n"
     ]
    },
    {
     "name": "stdout",
     "output_type": "stream",
     "text": [
      "INFO:tensorflow:Clearing out eager caches\n"
     ]
    },
    {
     "name": "stderr",
     "output_type": "stream",
     "text": [
      "INFO:tensorflow:Clearing out eager caches\n"
     ]
    },
    {
     "name": "stdout",
     "output_type": "stream",
     "text": [
      "INFO:tensorflow:Finished initializing TPU system.\n"
     ]
    },
    {
     "name": "stderr",
     "output_type": "stream",
     "text": [
      "INFO:tensorflow:Finished initializing TPU system.\n",
      "WARNING:absl:`tf.distribute.experimental.TPUStrategy` is deprecated, please use  the non experimental symbol `tf.distribute.TPUStrategy` instead.\n"
     ]
    },
    {
     "name": "stdout",
     "output_type": "stream",
     "text": [
      "INFO:tensorflow:Found TPU system:\n"
     ]
    },
    {
     "name": "stderr",
     "output_type": "stream",
     "text": [
      "INFO:tensorflow:Found TPU system:\n"
     ]
    },
    {
     "name": "stdout",
     "output_type": "stream",
     "text": [
      "INFO:tensorflow:*** Num TPU Cores: 8\n"
     ]
    },
    {
     "name": "stderr",
     "output_type": "stream",
     "text": [
      "INFO:tensorflow:*** Num TPU Cores: 8\n"
     ]
    },
    {
     "name": "stdout",
     "output_type": "stream",
     "text": [
      "INFO:tensorflow:*** Num TPU Workers: 1\n"
     ]
    },
    {
     "name": "stderr",
     "output_type": "stream",
     "text": [
      "INFO:tensorflow:*** Num TPU Workers: 1\n"
     ]
    },
    {
     "name": "stdout",
     "output_type": "stream",
     "text": [
      "INFO:tensorflow:*** Num TPU Cores Per Worker: 8\n"
     ]
    },
    {
     "name": "stderr",
     "output_type": "stream",
     "text": [
      "INFO:tensorflow:*** Num TPU Cores Per Worker: 8\n"
     ]
    },
    {
     "name": "stdout",
     "output_type": "stream",
     "text": [
      "INFO:tensorflow:*** Available Device: _DeviceAttributes(/job:localhost/replica:0/task:0/device:CPU:0, CPU, 0, 0)\n"
     ]
    },
    {
     "name": "stderr",
     "output_type": "stream",
     "text": [
      "INFO:tensorflow:*** Available Device: _DeviceAttributes(/job:localhost/replica:0/task:0/device:CPU:0, CPU, 0, 0)\n"
     ]
    },
    {
     "name": "stdout",
     "output_type": "stream",
     "text": [
      "INFO:tensorflow:*** Available Device: _DeviceAttributes(/job:worker/replica:0/task:0/device:CPU:0, CPU, 0, 0)\n"
     ]
    },
    {
     "name": "stderr",
     "output_type": "stream",
     "text": [
      "INFO:tensorflow:*** Available Device: _DeviceAttributes(/job:worker/replica:0/task:0/device:CPU:0, CPU, 0, 0)\n"
     ]
    },
    {
     "name": "stdout",
     "output_type": "stream",
     "text": [
      "INFO:tensorflow:*** Available Device: _DeviceAttributes(/job:worker/replica:0/task:0/device:TPU:0, TPU, 0, 0)\n"
     ]
    },
    {
     "name": "stderr",
     "output_type": "stream",
     "text": [
      "INFO:tensorflow:*** Available Device: _DeviceAttributes(/job:worker/replica:0/task:0/device:TPU:0, TPU, 0, 0)\n"
     ]
    },
    {
     "name": "stdout",
     "output_type": "stream",
     "text": [
      "INFO:tensorflow:*** Available Device: _DeviceAttributes(/job:worker/replica:0/task:0/device:TPU:1, TPU, 0, 0)\n"
     ]
    },
    {
     "name": "stderr",
     "output_type": "stream",
     "text": [
      "INFO:tensorflow:*** Available Device: _DeviceAttributes(/job:worker/replica:0/task:0/device:TPU:1, TPU, 0, 0)\n"
     ]
    },
    {
     "name": "stdout",
     "output_type": "stream",
     "text": [
      "INFO:tensorflow:*** Available Device: _DeviceAttributes(/job:worker/replica:0/task:0/device:TPU:2, TPU, 0, 0)\n"
     ]
    },
    {
     "name": "stderr",
     "output_type": "stream",
     "text": [
      "INFO:tensorflow:*** Available Device: _DeviceAttributes(/job:worker/replica:0/task:0/device:TPU:2, TPU, 0, 0)\n"
     ]
    },
    {
     "name": "stdout",
     "output_type": "stream",
     "text": [
      "INFO:tensorflow:*** Available Device: _DeviceAttributes(/job:worker/replica:0/task:0/device:TPU:3, TPU, 0, 0)\n"
     ]
    },
    {
     "name": "stderr",
     "output_type": "stream",
     "text": [
      "INFO:tensorflow:*** Available Device: _DeviceAttributes(/job:worker/replica:0/task:0/device:TPU:3, TPU, 0, 0)\n"
     ]
    },
    {
     "name": "stdout",
     "output_type": "stream",
     "text": [
      "INFO:tensorflow:*** Available Device: _DeviceAttributes(/job:worker/replica:0/task:0/device:TPU:4, TPU, 0, 0)\n"
     ]
    },
    {
     "name": "stderr",
     "output_type": "stream",
     "text": [
      "INFO:tensorflow:*** Available Device: _DeviceAttributes(/job:worker/replica:0/task:0/device:TPU:4, TPU, 0, 0)\n"
     ]
    },
    {
     "name": "stdout",
     "output_type": "stream",
     "text": [
      "INFO:tensorflow:*** Available Device: _DeviceAttributes(/job:worker/replica:0/task:0/device:TPU:5, TPU, 0, 0)\n"
     ]
    },
    {
     "name": "stderr",
     "output_type": "stream",
     "text": [
      "INFO:tensorflow:*** Available Device: _DeviceAttributes(/job:worker/replica:0/task:0/device:TPU:5, TPU, 0, 0)\n"
     ]
    },
    {
     "name": "stdout",
     "output_type": "stream",
     "text": [
      "INFO:tensorflow:*** Available Device: _DeviceAttributes(/job:worker/replica:0/task:0/device:TPU:6, TPU, 0, 0)\n"
     ]
    },
    {
     "name": "stderr",
     "output_type": "stream",
     "text": [
      "INFO:tensorflow:*** Available Device: _DeviceAttributes(/job:worker/replica:0/task:0/device:TPU:6, TPU, 0, 0)\n"
     ]
    },
    {
     "name": "stdout",
     "output_type": "stream",
     "text": [
      "INFO:tensorflow:*** Available Device: _DeviceAttributes(/job:worker/replica:0/task:0/device:TPU:7, TPU, 0, 0)\n"
     ]
    },
    {
     "name": "stderr",
     "output_type": "stream",
     "text": [
      "INFO:tensorflow:*** Available Device: _DeviceAttributes(/job:worker/replica:0/task:0/device:TPU:7, TPU, 0, 0)\n"
     ]
    },
    {
     "name": "stdout",
     "output_type": "stream",
     "text": [
      "INFO:tensorflow:*** Available Device: _DeviceAttributes(/job:worker/replica:0/task:0/device:TPU_SYSTEM:0, TPU_SYSTEM, 0, 0)\n"
     ]
    },
    {
     "name": "stderr",
     "output_type": "stream",
     "text": [
      "INFO:tensorflow:*** Available Device: _DeviceAttributes(/job:worker/replica:0/task:0/device:TPU_SYSTEM:0, TPU_SYSTEM, 0, 0)\n"
     ]
    },
    {
     "name": "stdout",
     "output_type": "stream",
     "text": [
      "INFO:tensorflow:*** Available Device: _DeviceAttributes(/job:worker/replica:0/task:0/device:XLA_CPU:0, XLA_CPU, 0, 0)\n"
     ]
    },
    {
     "name": "stderr",
     "output_type": "stream",
     "text": [
      "INFO:tensorflow:*** Available Device: _DeviceAttributes(/job:worker/replica:0/task:0/device:XLA_CPU:0, XLA_CPU, 0, 0)\n"
     ]
    },
    {
     "name": "stdout",
     "output_type": "stream",
     "text": [
      "Downloading data from https://storage.googleapis.com/keras-applications/efficientnetb2_notop.h5\n",
      "31793152/31790344 [==============================] - 0s 0us/step\n",
      "Model: \"model_1\"\n",
      "_________________________________________________________________\n",
      "Layer (type)                 Output Shape              Param #   \n",
      "=================================================================\n",
      "images_input (InputLayer)    [(None, 512, 512, 3)]     0         \n",
      "_________________________________________________________________\n",
      "resizing_1 (Resizing)        (None, 260, 260, 3)       0         \n",
      "_________________________________________________________________\n",
      "efficientnetb2 (Functional)  (None, 9, 9, 1408)        7768569   \n",
      "_________________________________________________________________\n",
      "global_average_pooling2d_1 ( (None, 1408)              0         \n",
      "_________________________________________________________________\n",
      "dense_2 (Dense)              (None, 8)                 11272     \n",
      "_________________________________________________________________\n",
      "dense_3 (Dense)              (None, 5)                 45        \n",
      "=================================================================\n",
      "Total params: 7,779,886\n",
      "Trainable params: 7,712,311\n",
      "Non-trainable params: 67,575\n",
      "_________________________________________________________________\n",
      "Epoch 1/100\n",
      "146/146 [==============================] - 115s 342ms/step - loss: 1.6521 - accuracy: 0.1705 - val_loss: 1.5205 - val_accuracy: 0.1195\n",
      "Epoch 2/100\n",
      "146/146 [==============================] - 43s 292ms/step - loss: 1.5879 - accuracy: 0.2387 - val_loss: 1.5367 - val_accuracy: 0.2637\n",
      "Epoch 3/100\n",
      "146/146 [==============================] - 42s 290ms/step - loss: 1.5297 - accuracy: 0.3289 - val_loss: 1.5125 - val_accuracy: 0.5051\n",
      "Epoch 4/100\n",
      "146/146 [==============================] - 43s 292ms/step - loss: 1.4676 - accuracy: 0.4241 - val_loss: 1.5549 - val_accuracy: 0.3273\n",
      "Epoch 5/100\n",
      "146/146 [==============================] - 43s 295ms/step - loss: 1.4185 - accuracy: 0.4857 - val_loss: 1.5100 - val_accuracy: 0.3969\n",
      "Epoch 6/100\n",
      "146/146 [==============================] - 43s 292ms/step - loss: 1.3562 - accuracy: 0.5493 - val_loss: 1.3639 - val_accuracy: 0.5586\n",
      "Epoch 7/100\n",
      "146/146 [==============================] - 43s 294ms/step - loss: 1.3058 - accuracy: 0.5761 - val_loss: 1.2618 - val_accuracy: 0.6090\n",
      "Epoch 8/100\n",
      "146/146 [==============================] - 42s 290ms/step - loss: 1.2560 - accuracy: 0.6033 - val_loss: 1.1945 - val_accuracy: 0.6332\n",
      "Epoch 9/100\n",
      "146/146 [==============================] - 43s 292ms/step - loss: 0.9635 - accuracy: 0.6704 - val_loss: 2.1071 - val_accuracy: 0.1309\n",
      "Epoch 10/100\n",
      "146/146 [==============================] - 43s 296ms/step - loss: 0.6840 - accuracy: 0.7612 - val_loss: 2.8460 - val_accuracy: 0.1172\n",
      "Epoch 11/100\n",
      "146/146 [==============================] - 43s 292ms/step - loss: 0.6087 - accuracy: 0.7855 - val_loss: 2.8454 - val_accuracy: 0.1352\n",
      "Epoch 12/100\n",
      "146/146 [==============================] - 42s 288ms/step - loss: 0.5579 - accuracy: 0.8083 - val_loss: 0.7937 - val_accuracy: 0.7180\n",
      "Epoch 13/100\n",
      "146/146 [==============================] - 43s 292ms/step - loss: 0.5244 - accuracy: 0.8228 - val_loss: 0.6949 - val_accuracy: 0.7664\n",
      "Epoch 14/100\n",
      "146/146 [==============================] - 43s 292ms/step - loss: 0.4943 - accuracy: 0.8375 - val_loss: 0.8525 - val_accuracy: 0.7195\n",
      "Epoch 15/100\n",
      "146/146 [==============================] - 42s 291ms/step - loss: 0.4564 - accuracy: 0.8523 - val_loss: 0.6097 - val_accuracy: 0.8063\n",
      "Epoch 16/100\n",
      "146/146 [==============================] - 42s 289ms/step - loss: 0.4341 - accuracy: 0.8565 - val_loss: 0.6264 - val_accuracy: 0.7992\n",
      "Epoch 17/100\n",
      "146/146 [==============================] - 43s 297ms/step - loss: 0.4169 - accuracy: 0.8694 - val_loss: 0.6895 - val_accuracy: 0.7797\n",
      "Epoch 18/100\n",
      "146/146 [==============================] - 42s 291ms/step - loss: 0.4078 - accuracy: 0.8698 - val_loss: 0.6288 - val_accuracy: 0.8020\n",
      "Epoch 19/100\n",
      "146/146 [==============================] - 42s 290ms/step - loss: 0.4054 - accuracy: 0.8710 - val_loss: 0.5910 - val_accuracy: 0.8152\n",
      "Epoch 20/100\n",
      "146/146 [==============================] - 43s 292ms/step - loss: 0.3810 - accuracy: 0.8787 - val_loss: 0.5912 - val_accuracy: 0.8199\n",
      "Epoch 21/100\n",
      "146/146 [==============================] - 42s 289ms/step - loss: 0.3696 - accuracy: 0.8847 - val_loss: 0.6144 - val_accuracy: 0.8137\n",
      "Epoch 22/100\n",
      "146/146 [==============================] - 43s 293ms/step - loss: 0.3571 - accuracy: 0.8907 - val_loss: 0.6100 - val_accuracy: 0.8152\n",
      "Epoch 23/100\n",
      "146/146 [==============================] - 42s 290ms/step - loss: 0.3648 - accuracy: 0.8887 - val_loss: 1.0071 - val_accuracy: 0.6902\n",
      "Epoch 24/100\n",
      "146/146 [==============================] - 44s 301ms/step - loss: 0.3509 - accuracy: 0.8903 - val_loss: 0.7393 - val_accuracy: 0.7746\n",
      "Epoch 25/100\n",
      "146/146 [==============================] - 43s 292ms/step - loss: 0.3379 - accuracy: 0.8990 - val_loss: 0.6240 - val_accuracy: 0.8098\n",
      "Epoch 26/100\n",
      "146/146 [==============================] - 43s 292ms/step - loss: 0.3318 - accuracy: 0.9001 - val_loss: 0.5901 - val_accuracy: 0.8223\n",
      "Epoch 27/100\n",
      "146/146 [==============================] - 43s 293ms/step - loss: 0.3290 - accuracy: 0.8999 - val_loss: 0.6166 - val_accuracy: 0.8121\n",
      "Epoch 28/100\n",
      "146/146 [==============================] - 43s 292ms/step - loss: 0.3276 - accuracy: 0.9001 - val_loss: 0.6008 - val_accuracy: 0.8125\n",
      "Epoch 29/100\n",
      "146/146 [==============================] - 42s 290ms/step - loss: 0.3266 - accuracy: 0.9009 - val_loss: 0.5923 - val_accuracy: 0.8184\n",
      "Epoch 30/100\n",
      "146/146 [==============================] - 43s 293ms/step - loss: 0.3248 - accuracy: 0.9025 - val_loss: 0.5918 - val_accuracy: 0.8234\n",
      "Epoch 31/100\n",
      "146/146 [==============================] - 42s 290ms/step - loss: 0.3193 - accuracy: 0.9065 - val_loss: 0.6077 - val_accuracy: 0.8176\n",
      "Epoch 32/100\n",
      "146/146 [==============================] - 43s 293ms/step - loss: 0.3198 - accuracy: 0.9020 - val_loss: 0.6448 - val_accuracy: 0.8074\n",
      "Epoch 33/100\n",
      "146/146 [==============================] - 43s 293ms/step - loss: 0.3126 - accuracy: 0.9072 - val_loss: 0.6200 - val_accuracy: 0.8125\n",
      "Epoch 34/100\n",
      "146/146 [==============================] - 42s 291ms/step - loss: 0.3031 - accuracy: 0.9104 - val_loss: 0.6706 - val_accuracy: 0.8012\n",
      "Epoch 35/100\n",
      "146/146 [==============================] - 43s 297ms/step - loss: 0.3114 - accuracy: 0.9071 - val_loss: 0.6210 - val_accuracy: 0.8148\n",
      "Epoch 36/100\n",
      "146/146 [==============================] - 43s 296ms/step - loss: 0.3089 - accuracy: 0.9093 - val_loss: 0.6171 - val_accuracy: 0.8168\n",
      "Epoch 37/100\n",
      "146/146 [==============================] - 42s 290ms/step - loss: 0.3089 - accuracy: 0.9092 - val_loss: 0.6057 - val_accuracy: 0.8160\n",
      "Epoch 38/100\n",
      "146/146 [==============================] - 43s 295ms/step - loss: 0.3126 - accuracy: 0.9092 - val_loss: 0.6882 - val_accuracy: 0.8035\n",
      "Epoch 39/100\n",
      "146/146 [==============================] - 43s 295ms/step - loss: 0.3046 - accuracy: 0.9081 - val_loss: 0.6101 - val_accuracy: 0.8188\n",
      "Epoch 40/100\n",
      "146/146 [==============================] - 43s 295ms/step - loss: 0.3030 - accuracy: 0.9098 - val_loss: 0.6153 - val_accuracy: 0.8188\n",
      "INFO:tensorflow:Shutting down the TPU system: grpc://10.35.185.82:8470\n"
     ]
    },
    {
     "name": "stderr",
     "output_type": "stream",
     "text": [
      "INFO:tensorflow:Shutting down the TPU system: grpc://10.35.185.82:8470\n"
     ]
    },
    {
     "name": "stdout",
     "output_type": "stream",
     "text": [
      "INFO:tensorflow:Clearing out eager caches\n"
     ]
    },
    {
     "name": "stderr",
     "output_type": "stream",
     "text": [
      "INFO:tensorflow:Clearing out eager caches\n"
     ]
    },
    {
     "name": "stdout",
     "output_type": "stream",
     "text": [
      "INFO:tensorflow:Finished shutting down TPU system.\n"
     ]
    },
    {
     "name": "stderr",
     "output_type": "stream",
     "text": [
      "INFO:tensorflow:Finished shutting down TPU system.\n"
     ]
    },
    {
     "name": "stdout",
     "output_type": "stream",
     "text": [
      "INFO:tensorflow:Initializing the TPU system: grpc://10.35.185.82:8470\n"
     ]
    },
    {
     "name": "stderr",
     "output_type": "stream",
     "text": [
      "INFO:tensorflow:Initializing the TPU system: grpc://10.35.185.82:8470\n"
     ]
    },
    {
     "name": "stdout",
     "output_type": "stream",
     "text": [
      "INFO:tensorflow:Clearing out eager caches\n"
     ]
    },
    {
     "name": "stderr",
     "output_type": "stream",
     "text": [
      "INFO:tensorflow:Clearing out eager caches\n"
     ]
    },
    {
     "name": "stdout",
     "output_type": "stream",
     "text": [
      "INFO:tensorflow:Finished initializing TPU system.\n"
     ]
    },
    {
     "name": "stderr",
     "output_type": "stream",
     "text": [
      "INFO:tensorflow:Finished initializing TPU system.\n",
      "WARNING:absl:`tf.distribute.experimental.TPUStrategy` is deprecated, please use  the non experimental symbol `tf.distribute.TPUStrategy` instead.\n"
     ]
    },
    {
     "name": "stdout",
     "output_type": "stream",
     "text": [
      "INFO:tensorflow:Found TPU system:\n"
     ]
    },
    {
     "name": "stderr",
     "output_type": "stream",
     "text": [
      "INFO:tensorflow:Found TPU system:\n"
     ]
    },
    {
     "name": "stdout",
     "output_type": "stream",
     "text": [
      "INFO:tensorflow:*** Num TPU Cores: 8\n"
     ]
    },
    {
     "name": "stderr",
     "output_type": "stream",
     "text": [
      "INFO:tensorflow:*** Num TPU Cores: 8\n"
     ]
    },
    {
     "name": "stdout",
     "output_type": "stream",
     "text": [
      "INFO:tensorflow:*** Num TPU Workers: 1\n"
     ]
    },
    {
     "name": "stderr",
     "output_type": "stream",
     "text": [
      "INFO:tensorflow:*** Num TPU Workers: 1\n"
     ]
    },
    {
     "name": "stdout",
     "output_type": "stream",
     "text": [
      "INFO:tensorflow:*** Num TPU Cores Per Worker: 8\n"
     ]
    },
    {
     "name": "stderr",
     "output_type": "stream",
     "text": [
      "INFO:tensorflow:*** Num TPU Cores Per Worker: 8\n"
     ]
    },
    {
     "name": "stdout",
     "output_type": "stream",
     "text": [
      "INFO:tensorflow:*** Available Device: _DeviceAttributes(/job:localhost/replica:0/task:0/device:CPU:0, CPU, 0, 0)\n"
     ]
    },
    {
     "name": "stderr",
     "output_type": "stream",
     "text": [
      "INFO:tensorflow:*** Available Device: _DeviceAttributes(/job:localhost/replica:0/task:0/device:CPU:0, CPU, 0, 0)\n"
     ]
    },
    {
     "name": "stdout",
     "output_type": "stream",
     "text": [
      "INFO:tensorflow:*** Available Device: _DeviceAttributes(/job:worker/replica:0/task:0/device:CPU:0, CPU, 0, 0)\n"
     ]
    },
    {
     "name": "stderr",
     "output_type": "stream",
     "text": [
      "INFO:tensorflow:*** Available Device: _DeviceAttributes(/job:worker/replica:0/task:0/device:CPU:0, CPU, 0, 0)\n"
     ]
    },
    {
     "name": "stdout",
     "output_type": "stream",
     "text": [
      "INFO:tensorflow:*** Available Device: _DeviceAttributes(/job:worker/replica:0/task:0/device:TPU:0, TPU, 0, 0)\n"
     ]
    },
    {
     "name": "stderr",
     "output_type": "stream",
     "text": [
      "INFO:tensorflow:*** Available Device: _DeviceAttributes(/job:worker/replica:0/task:0/device:TPU:0, TPU, 0, 0)\n"
     ]
    },
    {
     "name": "stdout",
     "output_type": "stream",
     "text": [
      "INFO:tensorflow:*** Available Device: _DeviceAttributes(/job:worker/replica:0/task:0/device:TPU:1, TPU, 0, 0)\n"
     ]
    },
    {
     "name": "stderr",
     "output_type": "stream",
     "text": [
      "INFO:tensorflow:*** Available Device: _DeviceAttributes(/job:worker/replica:0/task:0/device:TPU:1, TPU, 0, 0)\n"
     ]
    },
    {
     "name": "stdout",
     "output_type": "stream",
     "text": [
      "INFO:tensorflow:*** Available Device: _DeviceAttributes(/job:worker/replica:0/task:0/device:TPU:2, TPU, 0, 0)\n"
     ]
    },
    {
     "name": "stderr",
     "output_type": "stream",
     "text": [
      "INFO:tensorflow:*** Available Device: _DeviceAttributes(/job:worker/replica:0/task:0/device:TPU:2, TPU, 0, 0)\n"
     ]
    },
    {
     "name": "stdout",
     "output_type": "stream",
     "text": [
      "INFO:tensorflow:*** Available Device: _DeviceAttributes(/job:worker/replica:0/task:0/device:TPU:3, TPU, 0, 0)\n"
     ]
    },
    {
     "name": "stderr",
     "output_type": "stream",
     "text": [
      "INFO:tensorflow:*** Available Device: _DeviceAttributes(/job:worker/replica:0/task:0/device:TPU:3, TPU, 0, 0)\n"
     ]
    },
    {
     "name": "stdout",
     "output_type": "stream",
     "text": [
      "INFO:tensorflow:*** Available Device: _DeviceAttributes(/job:worker/replica:0/task:0/device:TPU:4, TPU, 0, 0)\n"
     ]
    },
    {
     "name": "stderr",
     "output_type": "stream",
     "text": [
      "INFO:tensorflow:*** Available Device: _DeviceAttributes(/job:worker/replica:0/task:0/device:TPU:4, TPU, 0, 0)\n"
     ]
    },
    {
     "name": "stdout",
     "output_type": "stream",
     "text": [
      "INFO:tensorflow:*** Available Device: _DeviceAttributes(/job:worker/replica:0/task:0/device:TPU:5, TPU, 0, 0)\n"
     ]
    },
    {
     "name": "stderr",
     "output_type": "stream",
     "text": [
      "INFO:tensorflow:*** Available Device: _DeviceAttributes(/job:worker/replica:0/task:0/device:TPU:5, TPU, 0, 0)\n"
     ]
    },
    {
     "name": "stdout",
     "output_type": "stream",
     "text": [
      "INFO:tensorflow:*** Available Device: _DeviceAttributes(/job:worker/replica:0/task:0/device:TPU:6, TPU, 0, 0)\n"
     ]
    },
    {
     "name": "stderr",
     "output_type": "stream",
     "text": [
      "INFO:tensorflow:*** Available Device: _DeviceAttributes(/job:worker/replica:0/task:0/device:TPU:6, TPU, 0, 0)\n"
     ]
    },
    {
     "name": "stdout",
     "output_type": "stream",
     "text": [
      "INFO:tensorflow:*** Available Device: _DeviceAttributes(/job:worker/replica:0/task:0/device:TPU:7, TPU, 0, 0)\n"
     ]
    },
    {
     "name": "stderr",
     "output_type": "stream",
     "text": [
      "INFO:tensorflow:*** Available Device: _DeviceAttributes(/job:worker/replica:0/task:0/device:TPU:7, TPU, 0, 0)\n"
     ]
    },
    {
     "name": "stdout",
     "output_type": "stream",
     "text": [
      "INFO:tensorflow:*** Available Device: _DeviceAttributes(/job:worker/replica:0/task:0/device:TPU_SYSTEM:0, TPU_SYSTEM, 0, 0)\n"
     ]
    },
    {
     "name": "stderr",
     "output_type": "stream",
     "text": [
      "INFO:tensorflow:*** Available Device: _DeviceAttributes(/job:worker/replica:0/task:0/device:TPU_SYSTEM:0, TPU_SYSTEM, 0, 0)\n"
     ]
    },
    {
     "name": "stdout",
     "output_type": "stream",
     "text": [
      "INFO:tensorflow:*** Available Device: _DeviceAttributes(/job:worker/replica:0/task:0/device:XLA_CPU:0, XLA_CPU, 0, 0)\n"
     ]
    },
    {
     "name": "stderr",
     "output_type": "stream",
     "text": [
      "INFO:tensorflow:*** Available Device: _DeviceAttributes(/job:worker/replica:0/task:0/device:XLA_CPU:0, XLA_CPU, 0, 0)\n"
     ]
    },
    {
     "name": "stdout",
     "output_type": "stream",
     "text": [
      "Downloading data from https://storage.googleapis.com/keras-applications/efficientnetb3_notop.h5\n",
      "43941888/43941136 [==============================] - 0s 0us/step\n",
      "Model: \"model_2\"\n",
      "_________________________________________________________________\n",
      "Layer (type)                 Output Shape              Param #   \n",
      "=================================================================\n",
      "images_input (InputLayer)    [(None, 512, 512, 3)]     0         \n",
      "_________________________________________________________________\n",
      "resizing_2 (Resizing)        (None, 300, 300, 3)       0         \n",
      "_________________________________________________________________\n",
      "efficientnetb3 (Functional)  (None, 10, 10, 1536)      10783535  \n",
      "_________________________________________________________________\n",
      "global_average_pooling2d_2 ( (None, 1536)              0         \n",
      "_________________________________________________________________\n",
      "dense_4 (Dense)              (None, 8)                 12296     \n",
      "_________________________________________________________________\n",
      "dense_5 (Dense)              (None, 5)                 45        \n",
      "=================================================================\n",
      "Total params: 10,795,876\n",
      "Trainable params: 10,708,573\n",
      "Non-trainable params: 87,303\n",
      "_________________________________________________________________\n",
      "Epoch 1/100\n",
      "146/146 [==============================] - 135s 407ms/step - loss: 1.5684 - accuracy: 0.2443 - val_loss: 1.5308 - val_accuracy: 0.2832\n",
      "Epoch 2/100\n",
      "146/146 [==============================] - 52s 358ms/step - loss: 1.4933 - accuracy: 0.3531 - val_loss: 1.5124 - val_accuracy: 0.3359\n",
      "Epoch 3/100\n",
      "146/146 [==============================] - 52s 357ms/step - loss: 1.4232 - accuracy: 0.4514 - val_loss: 1.5849 - val_accuracy: 0.2336\n",
      "Epoch 4/100\n",
      "146/146 [==============================] - 52s 357ms/step - loss: 1.3572 - accuracy: 0.5255 - val_loss: 1.5594 - val_accuracy: 0.2812\n",
      "Epoch 5/100\n",
      "146/146 [==============================] - 52s 359ms/step - loss: 1.2968 - accuracy: 0.5742 - val_loss: 1.3737 - val_accuracy: 0.5340\n",
      "Epoch 6/100\n",
      "146/146 [==============================] - 52s 358ms/step - loss: 1.2394 - accuracy: 0.6045 - val_loss: 1.2418 - val_accuracy: 0.6199\n",
      "Epoch 7/100\n",
      "146/146 [==============================] - 52s 358ms/step - loss: 1.1946 - accuracy: 0.6128 - val_loss: 1.1479 - val_accuracy: 0.6332\n",
      "Epoch 8/100\n",
      "146/146 [==============================] - 53s 364ms/step - loss: 1.1420 - accuracy: 0.6323 - val_loss: 1.0862 - val_accuracy: 0.6516\n",
      "Epoch 9/100\n",
      "146/146 [==============================] - 52s 358ms/step - loss: 0.8892 - accuracy: 0.6784 - val_loss: 1.5673 - val_accuracy: 0.3184\n",
      "Epoch 10/100\n",
      "146/146 [==============================] - 52s 358ms/step - loss: 0.6292 - accuracy: 0.7808 - val_loss: 1.1157 - val_accuracy: 0.5703\n",
      "Epoch 11/100\n",
      "146/146 [==============================] - 51s 352ms/step - loss: 0.5495 - accuracy: 0.8157 - val_loss: 1.2019 - val_accuracy: 0.5387\n",
      "Epoch 12/100\n",
      "146/146 [==============================] - 52s 359ms/step - loss: 0.4898 - accuracy: 0.8356 - val_loss: 0.6884 - val_accuracy: 0.7555\n",
      "Epoch 13/100\n",
      "146/146 [==============================] - 53s 362ms/step - loss: 0.4562 - accuracy: 0.8486 - val_loss: 0.6193 - val_accuracy: 0.7895\n",
      "Epoch 14/100\n",
      "146/146 [==============================] - 53s 360ms/step - loss: 0.4170 - accuracy: 0.8684 - val_loss: 0.7174 - val_accuracy: 0.7738\n",
      "Epoch 15/100\n",
      "146/146 [==============================] - 52s 358ms/step - loss: 0.3823 - accuracy: 0.8789 - val_loss: 0.7187 - val_accuracy: 0.7727\n",
      "Epoch 16/100\n",
      "146/146 [==============================] - 52s 359ms/step - loss: 0.3591 - accuracy: 0.8901 - val_loss: 0.5977 - val_accuracy: 0.8215\n",
      "Epoch 17/100\n",
      "146/146 [==============================] - 52s 357ms/step - loss: 0.3370 - accuracy: 0.8965 - val_loss: 0.6057 - val_accuracy: 0.8176\n",
      "Epoch 18/100\n",
      "146/146 [==============================] - 52s 357ms/step - loss: 0.3190 - accuracy: 0.9085 - val_loss: 0.5897 - val_accuracy: 0.8234\n",
      "Epoch 19/100\n",
      "146/146 [==============================] - 52s 356ms/step - loss: 0.3024 - accuracy: 0.9116 - val_loss: 0.5900 - val_accuracy: 0.8293\n",
      "Epoch 20/100\n",
      "146/146 [==============================] - 52s 356ms/step - loss: 0.2911 - accuracy: 0.9162 - val_loss: 0.6381 - val_accuracy: 0.8184\n",
      "Epoch 21/100\n",
      "146/146 [==============================] - 52s 355ms/step - loss: 0.2665 - accuracy: 0.9264 - val_loss: 0.7086 - val_accuracy: 0.7914\n",
      "Epoch 22/100\n",
      "146/146 [==============================] - 52s 357ms/step - loss: 0.2626 - accuracy: 0.9272 - val_loss: 0.7033 - val_accuracy: 0.7910\n",
      "Epoch 23/100\n",
      "146/146 [==============================] - 52s 357ms/step - loss: 0.2560 - accuracy: 0.9312 - val_loss: 0.6105 - val_accuracy: 0.8168\n",
      "Epoch 24/100\n",
      "146/146 [==============================] - 52s 356ms/step - loss: 0.2535 - accuracy: 0.9315 - val_loss: 0.6259 - val_accuracy: 0.8223\n",
      "Epoch 25/100\n",
      "146/146 [==============================] - 52s 355ms/step - loss: 0.2444 - accuracy: 0.9348 - val_loss: 0.6870 - val_accuracy: 0.8043\n",
      "Epoch 26/100\n",
      "146/146 [==============================] - 52s 357ms/step - loss: 0.2303 - accuracy: 0.9378 - val_loss: 0.6823 - val_accuracy: 0.8055\n",
      "Epoch 27/100\n",
      "146/146 [==============================] - 52s 359ms/step - loss: 0.2351 - accuracy: 0.9368 - val_loss: 0.5828 - val_accuracy: 0.8313\n",
      "Epoch 28/100\n",
      "146/146 [==============================] - 52s 357ms/step - loss: 0.2291 - accuracy: 0.9371 - val_loss: 0.6195 - val_accuracy: 0.8285\n",
      "Epoch 29/100\n",
      "146/146 [==============================] - 52s 355ms/step - loss: 0.2352 - accuracy: 0.9366 - val_loss: 0.6266 - val_accuracy: 0.8227\n",
      "Epoch 30/100\n",
      "146/146 [==============================] - 52s 354ms/step - loss: 0.2278 - accuracy: 0.9394 - val_loss: 0.6090 - val_accuracy: 0.8320\n",
      "Epoch 31/100\n",
      "146/146 [==============================] - 52s 356ms/step - loss: 0.2175 - accuracy: 0.9455 - val_loss: 0.6184 - val_accuracy: 0.8301\n",
      "Epoch 32/100\n",
      "146/146 [==============================] - 52s 357ms/step - loss: 0.2299 - accuracy: 0.9403 - val_loss: 0.6302 - val_accuracy: 0.8285\n",
      "Epoch 33/100\n",
      "146/146 [==============================] - 52s 359ms/step - loss: 0.2220 - accuracy: 0.9427 - val_loss: 0.6268 - val_accuracy: 0.8281\n",
      "Epoch 34/100\n",
      "146/146 [==============================] - 52s 359ms/step - loss: 0.2133 - accuracy: 0.9466 - val_loss: 0.6148 - val_accuracy: 0.8246\n",
      "Epoch 35/100\n",
      "146/146 [==============================] - 52s 357ms/step - loss: 0.2138 - accuracy: 0.9479 - val_loss: 0.6397 - val_accuracy: 0.8262\n",
      "Epoch 36/100\n",
      "146/146 [==============================] - 52s 354ms/step - loss: 0.2110 - accuracy: 0.9508 - val_loss: 0.6368 - val_accuracy: 0.8199\n",
      "Epoch 37/100\n",
      "146/146 [==============================] - 52s 359ms/step - loss: 0.2121 - accuracy: 0.9447 - val_loss: 0.6269 - val_accuracy: 0.8242\n",
      "Epoch 38/100\n",
      "146/146 [==============================] - 52s 358ms/step - loss: 0.2071 - accuracy: 0.9507 - val_loss: 0.6195 - val_accuracy: 0.8313\n",
      "Epoch 39/100\n",
      "146/146 [==============================] - 52s 353ms/step - loss: 0.2137 - accuracy: 0.9489 - val_loss: 0.6222 - val_accuracy: 0.8266\n",
      "Epoch 40/100\n",
      "146/146 [==============================] - 53s 361ms/step - loss: 0.2106 - accuracy: 0.9443 - val_loss: 0.6310 - val_accuracy: 0.8258\n",
      "INFO:tensorflow:Shutting down the TPU system: grpc://10.35.185.82:8470\n"
     ]
    },
    {
     "name": "stderr",
     "output_type": "stream",
     "text": [
      "INFO:tensorflow:Shutting down the TPU system: grpc://10.35.185.82:8470\n"
     ]
    },
    {
     "name": "stdout",
     "output_type": "stream",
     "text": [
      "INFO:tensorflow:Clearing out eager caches\n"
     ]
    },
    {
     "name": "stderr",
     "output_type": "stream",
     "text": [
      "INFO:tensorflow:Clearing out eager caches\n"
     ]
    },
    {
     "name": "stdout",
     "output_type": "stream",
     "text": [
      "INFO:tensorflow:Finished shutting down TPU system.\n"
     ]
    },
    {
     "name": "stderr",
     "output_type": "stream",
     "text": [
      "INFO:tensorflow:Finished shutting down TPU system.\n"
     ]
    },
    {
     "name": "stdout",
     "output_type": "stream",
     "text": [
      "INFO:tensorflow:Initializing the TPU system: grpc://10.35.185.82:8470\n"
     ]
    },
    {
     "name": "stderr",
     "output_type": "stream",
     "text": [
      "INFO:tensorflow:Initializing the TPU system: grpc://10.35.185.82:8470\n"
     ]
    },
    {
     "name": "stdout",
     "output_type": "stream",
     "text": [
      "INFO:tensorflow:Clearing out eager caches\n"
     ]
    },
    {
     "name": "stderr",
     "output_type": "stream",
     "text": [
      "INFO:tensorflow:Clearing out eager caches\n"
     ]
    },
    {
     "name": "stdout",
     "output_type": "stream",
     "text": [
      "INFO:tensorflow:Finished initializing TPU system.\n"
     ]
    },
    {
     "name": "stderr",
     "output_type": "stream",
     "text": [
      "INFO:tensorflow:Finished initializing TPU system.\n",
      "WARNING:absl:`tf.distribute.experimental.TPUStrategy` is deprecated, please use  the non experimental symbol `tf.distribute.TPUStrategy` instead.\n"
     ]
    },
    {
     "name": "stdout",
     "output_type": "stream",
     "text": [
      "INFO:tensorflow:Found TPU system:\n"
     ]
    },
    {
     "name": "stderr",
     "output_type": "stream",
     "text": [
      "INFO:tensorflow:Found TPU system:\n"
     ]
    },
    {
     "name": "stdout",
     "output_type": "stream",
     "text": [
      "INFO:tensorflow:*** Num TPU Cores: 8\n"
     ]
    },
    {
     "name": "stderr",
     "output_type": "stream",
     "text": [
      "INFO:tensorflow:*** Num TPU Cores: 8\n"
     ]
    },
    {
     "name": "stdout",
     "output_type": "stream",
     "text": [
      "INFO:tensorflow:*** Num TPU Workers: 1\n"
     ]
    },
    {
     "name": "stderr",
     "output_type": "stream",
     "text": [
      "INFO:tensorflow:*** Num TPU Workers: 1\n"
     ]
    },
    {
     "name": "stdout",
     "output_type": "stream",
     "text": [
      "INFO:tensorflow:*** Num TPU Cores Per Worker: 8\n"
     ]
    },
    {
     "name": "stderr",
     "output_type": "stream",
     "text": [
      "INFO:tensorflow:*** Num TPU Cores Per Worker: 8\n"
     ]
    },
    {
     "name": "stdout",
     "output_type": "stream",
     "text": [
      "INFO:tensorflow:*** Available Device: _DeviceAttributes(/job:localhost/replica:0/task:0/device:CPU:0, CPU, 0, 0)\n"
     ]
    },
    {
     "name": "stderr",
     "output_type": "stream",
     "text": [
      "INFO:tensorflow:*** Available Device: _DeviceAttributes(/job:localhost/replica:0/task:0/device:CPU:0, CPU, 0, 0)\n"
     ]
    },
    {
     "name": "stdout",
     "output_type": "stream",
     "text": [
      "INFO:tensorflow:*** Available Device: _DeviceAttributes(/job:worker/replica:0/task:0/device:CPU:0, CPU, 0, 0)\n"
     ]
    },
    {
     "name": "stderr",
     "output_type": "stream",
     "text": [
      "INFO:tensorflow:*** Available Device: _DeviceAttributes(/job:worker/replica:0/task:0/device:CPU:0, CPU, 0, 0)\n"
     ]
    },
    {
     "name": "stdout",
     "output_type": "stream",
     "text": [
      "INFO:tensorflow:*** Available Device: _DeviceAttributes(/job:worker/replica:0/task:0/device:TPU:0, TPU, 0, 0)\n"
     ]
    },
    {
     "name": "stderr",
     "output_type": "stream",
     "text": [
      "INFO:tensorflow:*** Available Device: _DeviceAttributes(/job:worker/replica:0/task:0/device:TPU:0, TPU, 0, 0)\n"
     ]
    },
    {
     "name": "stdout",
     "output_type": "stream",
     "text": [
      "INFO:tensorflow:*** Available Device: _DeviceAttributes(/job:worker/replica:0/task:0/device:TPU:1, TPU, 0, 0)\n"
     ]
    },
    {
     "name": "stderr",
     "output_type": "stream",
     "text": [
      "INFO:tensorflow:*** Available Device: _DeviceAttributes(/job:worker/replica:0/task:0/device:TPU:1, TPU, 0, 0)\n"
     ]
    },
    {
     "name": "stdout",
     "output_type": "stream",
     "text": [
      "INFO:tensorflow:*** Available Device: _DeviceAttributes(/job:worker/replica:0/task:0/device:TPU:2, TPU, 0, 0)\n"
     ]
    },
    {
     "name": "stderr",
     "output_type": "stream",
     "text": [
      "INFO:tensorflow:*** Available Device: _DeviceAttributes(/job:worker/replica:0/task:0/device:TPU:2, TPU, 0, 0)\n"
     ]
    },
    {
     "name": "stdout",
     "output_type": "stream",
     "text": [
      "INFO:tensorflow:*** Available Device: _DeviceAttributes(/job:worker/replica:0/task:0/device:TPU:3, TPU, 0, 0)\n"
     ]
    },
    {
     "name": "stderr",
     "output_type": "stream",
     "text": [
      "INFO:tensorflow:*** Available Device: _DeviceAttributes(/job:worker/replica:0/task:0/device:TPU:3, TPU, 0, 0)\n"
     ]
    },
    {
     "name": "stdout",
     "output_type": "stream",
     "text": [
      "INFO:tensorflow:*** Available Device: _DeviceAttributes(/job:worker/replica:0/task:0/device:TPU:4, TPU, 0, 0)\n"
     ]
    },
    {
     "name": "stderr",
     "output_type": "stream",
     "text": [
      "INFO:tensorflow:*** Available Device: _DeviceAttributes(/job:worker/replica:0/task:0/device:TPU:4, TPU, 0, 0)\n"
     ]
    },
    {
     "name": "stdout",
     "output_type": "stream",
     "text": [
      "INFO:tensorflow:*** Available Device: _DeviceAttributes(/job:worker/replica:0/task:0/device:TPU:5, TPU, 0, 0)\n"
     ]
    },
    {
     "name": "stderr",
     "output_type": "stream",
     "text": [
      "INFO:tensorflow:*** Available Device: _DeviceAttributes(/job:worker/replica:0/task:0/device:TPU:5, TPU, 0, 0)\n"
     ]
    },
    {
     "name": "stdout",
     "output_type": "stream",
     "text": [
      "INFO:tensorflow:*** Available Device: _DeviceAttributes(/job:worker/replica:0/task:0/device:TPU:6, TPU, 0, 0)\n"
     ]
    },
    {
     "name": "stderr",
     "output_type": "stream",
     "text": [
      "INFO:tensorflow:*** Available Device: _DeviceAttributes(/job:worker/replica:0/task:0/device:TPU:6, TPU, 0, 0)\n"
     ]
    },
    {
     "name": "stdout",
     "output_type": "stream",
     "text": [
      "INFO:tensorflow:*** Available Device: _DeviceAttributes(/job:worker/replica:0/task:0/device:TPU:7, TPU, 0, 0)\n"
     ]
    },
    {
     "name": "stderr",
     "output_type": "stream",
     "text": [
      "INFO:tensorflow:*** Available Device: _DeviceAttributes(/job:worker/replica:0/task:0/device:TPU:7, TPU, 0, 0)\n"
     ]
    },
    {
     "name": "stdout",
     "output_type": "stream",
     "text": [
      "INFO:tensorflow:*** Available Device: _DeviceAttributes(/job:worker/replica:0/task:0/device:TPU_SYSTEM:0, TPU_SYSTEM, 0, 0)\n"
     ]
    },
    {
     "name": "stderr",
     "output_type": "stream",
     "text": [
      "INFO:tensorflow:*** Available Device: _DeviceAttributes(/job:worker/replica:0/task:0/device:TPU_SYSTEM:0, TPU_SYSTEM, 0, 0)\n"
     ]
    },
    {
     "name": "stdout",
     "output_type": "stream",
     "text": [
      "INFO:tensorflow:*** Available Device: _DeviceAttributes(/job:worker/replica:0/task:0/device:XLA_CPU:0, XLA_CPU, 0, 0)\n"
     ]
    },
    {
     "name": "stderr",
     "output_type": "stream",
     "text": [
      "INFO:tensorflow:*** Available Device: _DeviceAttributes(/job:worker/replica:0/task:0/device:XLA_CPU:0, XLA_CPU, 0, 0)\n"
     ]
    },
    {
     "name": "stdout",
     "output_type": "stream",
     "text": [
      "Downloading data from https://storage.googleapis.com/keras-applications/efficientnetb4_notop.h5\n",
      "71688192/71686520 [==============================] - 1s 0us/step\n",
      "Model: \"model_3\"\n",
      "_________________________________________________________________\n",
      "Layer (type)                 Output Shape              Param #   \n",
      "=================================================================\n",
      "images_input (InputLayer)    [(None, 512, 512, 3)]     0         \n",
      "_________________________________________________________________\n",
      "resizing_3 (Resizing)        (None, 380, 380, 3)       0         \n",
      "_________________________________________________________________\n",
      "efficientnetb4 (Functional)  (None, 12, 12, 1792)      17673823  \n",
      "_________________________________________________________________\n",
      "global_average_pooling2d_3 ( (None, 1792)              0         \n",
      "_________________________________________________________________\n",
      "dense_6 (Dense)              (None, 8)                 14344     \n",
      "_________________________________________________________________\n",
      "dense_7 (Dense)              (None, 5)                 45        \n",
      "=================================================================\n",
      "Total params: 17,688,212\n",
      "Trainable params: 17,563,005\n",
      "Non-trainable params: 125,207\n",
      "_________________________________________________________________\n",
      "Epoch 1/100\n",
      "146/146 [==============================] - 176s 557ms/step - loss: 1.6791 - accuracy: 0.1931 - val_loss: 1.6545 - val_accuracy: 0.0711\n",
      "Epoch 2/100\n",
      "146/146 [==============================] - 70s 479ms/step - loss: 1.5798 - accuracy: 0.3029 - val_loss: 1.4832 - val_accuracy: 0.5219\n",
      "Epoch 3/100\n",
      "146/146 [==============================] - 70s 480ms/step - loss: 1.4881 - accuracy: 0.4272 - val_loss: 1.3611 - val_accuracy: 0.6172\n",
      "Epoch 4/100\n",
      "146/146 [==============================] - 70s 479ms/step - loss: 1.4016 - accuracy: 0.5131 - val_loss: 1.3180 - val_accuracy: 0.6172\n",
      "Epoch 5/100\n",
      "146/146 [==============================] - 70s 479ms/step - loss: 1.3190 - accuracy: 0.5693 - val_loss: 1.2020 - val_accuracy: 0.6379\n",
      "Epoch 6/100\n",
      "146/146 [==============================] - 69s 474ms/step - loss: 1.2301 - accuracy: 0.6038 - val_loss: 1.1257 - val_accuracy: 0.6492\n",
      "Epoch 7/100\n",
      "146/146 [==============================] - 70s 480ms/step - loss: 1.1597 - accuracy: 0.6247 - val_loss: 1.0788 - val_accuracy: 0.6449\n",
      "Epoch 8/100\n",
      "146/146 [==============================] - 70s 476ms/step - loss: 1.1012 - accuracy: 0.6299 - val_loss: 1.0243 - val_accuracy: 0.6574\n",
      "Epoch 9/100\n",
      "146/146 [==============================] - 70s 482ms/step - loss: 0.8346 - accuracy: 0.7013 - val_loss: 1.1216 - val_accuracy: 0.5922\n",
      "Epoch 10/100\n",
      "146/146 [==============================] - 70s 481ms/step - loss: 0.5873 - accuracy: 0.7976 - val_loss: 0.6625 - val_accuracy: 0.7695\n",
      "Epoch 11/100\n",
      "146/146 [==============================] - 70s 480ms/step - loss: 0.5020 - accuracy: 0.8318 - val_loss: 0.5164 - val_accuracy: 0.8289\n",
      "Epoch 12/100\n",
      "146/146 [==============================] - 70s 478ms/step - loss: 0.4448 - accuracy: 0.8550 - val_loss: 0.5332 - val_accuracy: 0.8293\n",
      "Epoch 13/100\n",
      "146/146 [==============================] - 70s 481ms/step - loss: 0.4068 - accuracy: 0.8711 - val_loss: 0.5735 - val_accuracy: 0.8172\n",
      "Epoch 14/100\n",
      "146/146 [==============================] - 70s 476ms/step - loss: 0.3621 - accuracy: 0.8887 - val_loss: 0.5696 - val_accuracy: 0.8207\n",
      "Epoch 15/100\n",
      "146/146 [==============================] - 70s 478ms/step - loss: 0.3247 - accuracy: 0.9045 - val_loss: 0.5417 - val_accuracy: 0.8309\n",
      "Epoch 16/100\n",
      "146/146 [==============================] - 70s 479ms/step - loss: 0.2942 - accuracy: 0.9140 - val_loss: 0.6042 - val_accuracy: 0.8172\n",
      "Epoch 17/100\n",
      "146/146 [==============================] - 70s 480ms/step - loss: 0.2739 - accuracy: 0.9225 - val_loss: 0.6544 - val_accuracy: 0.8086\n",
      "Epoch 18/100\n",
      "146/146 [==============================] - 70s 479ms/step - loss: 0.2548 - accuracy: 0.9311 - val_loss: 0.6592 - val_accuracy: 0.8023\n",
      "Epoch 19/100\n",
      "146/146 [==============================] - 70s 480ms/step - loss: 0.2419 - accuracy: 0.9358 - val_loss: 0.8066 - val_accuracy: 0.7688\n",
      "Epoch 20/100\n",
      "146/146 [==============================] - 70s 478ms/step - loss: 0.2213 - accuracy: 0.9455 - val_loss: 0.5796 - val_accuracy: 0.8430\n",
      "Epoch 21/100\n",
      "146/146 [==============================] - 70s 483ms/step - loss: 0.2093 - accuracy: 0.9495 - val_loss: 0.6190 - val_accuracy: 0.8352\n",
      "Epoch 22/100\n",
      "146/146 [==============================] - 70s 478ms/step - loss: 0.2034 - accuracy: 0.9482 - val_loss: 0.6207 - val_accuracy: 0.8305\n",
      "Epoch 23/100\n",
      "146/146 [==============================] - 70s 479ms/step - loss: 0.1934 - accuracy: 0.9546 - val_loss: 0.6093 - val_accuracy: 0.8324\n",
      "Epoch 24/100\n",
      "146/146 [==============================] - 70s 479ms/step - loss: 0.1772 - accuracy: 0.9619 - val_loss: 0.6129 - val_accuracy: 0.8348\n",
      "Epoch 25/100\n",
      "146/146 [==============================] - 72s 490ms/step - loss: 0.1816 - accuracy: 0.9578 - val_loss: 0.6151 - val_accuracy: 0.8344\n",
      "Epoch 26/100\n",
      "146/146 [==============================] - 70s 479ms/step - loss: 0.1808 - accuracy: 0.9588 - val_loss: 0.6428 - val_accuracy: 0.8273\n",
      "Epoch 27/100\n",
      "146/146 [==============================] - 70s 478ms/step - loss: 0.1730 - accuracy: 0.9648 - val_loss: 0.6379 - val_accuracy: 0.8324\n",
      "Epoch 28/100\n",
      "146/146 [==============================] - 70s 480ms/step - loss: 0.1770 - accuracy: 0.9594 - val_loss: 0.6372 - val_accuracy: 0.8348\n",
      "Epoch 29/100\n",
      "146/146 [==============================] - 70s 479ms/step - loss: 0.1637 - accuracy: 0.9667 - val_loss: 0.6475 - val_accuracy: 0.8246\n",
      "Epoch 30/100\n",
      "146/146 [==============================] - 70s 483ms/step - loss: 0.1713 - accuracy: 0.9623 - val_loss: 0.6304 - val_accuracy: 0.8324\n",
      "INFO:tensorflow:Shutting down the TPU system: grpc://10.35.185.82:8470\n"
     ]
    },
    {
     "name": "stderr",
     "output_type": "stream",
     "text": [
      "INFO:tensorflow:Shutting down the TPU system: grpc://10.35.185.82:8470\n"
     ]
    },
    {
     "name": "stdout",
     "output_type": "stream",
     "text": [
      "INFO:tensorflow:Clearing out eager caches\n"
     ]
    },
    {
     "name": "stderr",
     "output_type": "stream",
     "text": [
      "INFO:tensorflow:Clearing out eager caches\n"
     ]
    },
    {
     "name": "stdout",
     "output_type": "stream",
     "text": [
      "INFO:tensorflow:Finished shutting down TPU system.\n"
     ]
    },
    {
     "name": "stderr",
     "output_type": "stream",
     "text": [
      "INFO:tensorflow:Finished shutting down TPU system.\n"
     ]
    },
    {
     "name": "stdout",
     "output_type": "stream",
     "text": [
      "INFO:tensorflow:Initializing the TPU system: grpc://10.35.185.82:8470\n"
     ]
    },
    {
     "name": "stderr",
     "output_type": "stream",
     "text": [
      "INFO:tensorflow:Initializing the TPU system: grpc://10.35.185.82:8470\n"
     ]
    },
    {
     "name": "stdout",
     "output_type": "stream",
     "text": [
      "INFO:tensorflow:Clearing out eager caches\n"
     ]
    },
    {
     "name": "stderr",
     "output_type": "stream",
     "text": [
      "INFO:tensorflow:Clearing out eager caches\n"
     ]
    },
    {
     "name": "stdout",
     "output_type": "stream",
     "text": [
      "INFO:tensorflow:Finished initializing TPU system.\n"
     ]
    },
    {
     "name": "stderr",
     "output_type": "stream",
     "text": [
      "INFO:tensorflow:Finished initializing TPU system.\n",
      "WARNING:absl:`tf.distribute.experimental.TPUStrategy` is deprecated, please use  the non experimental symbol `tf.distribute.TPUStrategy` instead.\n"
     ]
    },
    {
     "name": "stdout",
     "output_type": "stream",
     "text": [
      "INFO:tensorflow:Found TPU system:\n"
     ]
    },
    {
     "name": "stderr",
     "output_type": "stream",
     "text": [
      "INFO:tensorflow:Found TPU system:\n"
     ]
    },
    {
     "name": "stdout",
     "output_type": "stream",
     "text": [
      "INFO:tensorflow:*** Num TPU Cores: 8\n"
     ]
    },
    {
     "name": "stderr",
     "output_type": "stream",
     "text": [
      "INFO:tensorflow:*** Num TPU Cores: 8\n"
     ]
    },
    {
     "name": "stdout",
     "output_type": "stream",
     "text": [
      "INFO:tensorflow:*** Num TPU Workers: 1\n"
     ]
    },
    {
     "name": "stderr",
     "output_type": "stream",
     "text": [
      "INFO:tensorflow:*** Num TPU Workers: 1\n"
     ]
    },
    {
     "name": "stdout",
     "output_type": "stream",
     "text": [
      "INFO:tensorflow:*** Num TPU Cores Per Worker: 8\n"
     ]
    },
    {
     "name": "stderr",
     "output_type": "stream",
     "text": [
      "INFO:tensorflow:*** Num TPU Cores Per Worker: 8\n"
     ]
    },
    {
     "name": "stdout",
     "output_type": "stream",
     "text": [
      "INFO:tensorflow:*** Available Device: _DeviceAttributes(/job:localhost/replica:0/task:0/device:CPU:0, CPU, 0, 0)\n"
     ]
    },
    {
     "name": "stderr",
     "output_type": "stream",
     "text": [
      "INFO:tensorflow:*** Available Device: _DeviceAttributes(/job:localhost/replica:0/task:0/device:CPU:0, CPU, 0, 0)\n"
     ]
    },
    {
     "name": "stdout",
     "output_type": "stream",
     "text": [
      "INFO:tensorflow:*** Available Device: _DeviceAttributes(/job:worker/replica:0/task:0/device:CPU:0, CPU, 0, 0)\n"
     ]
    },
    {
     "name": "stderr",
     "output_type": "stream",
     "text": [
      "INFO:tensorflow:*** Available Device: _DeviceAttributes(/job:worker/replica:0/task:0/device:CPU:0, CPU, 0, 0)\n"
     ]
    },
    {
     "name": "stdout",
     "output_type": "stream",
     "text": [
      "INFO:tensorflow:*** Available Device: _DeviceAttributes(/job:worker/replica:0/task:0/device:TPU:0, TPU, 0, 0)\n"
     ]
    },
    {
     "name": "stderr",
     "output_type": "stream",
     "text": [
      "INFO:tensorflow:*** Available Device: _DeviceAttributes(/job:worker/replica:0/task:0/device:TPU:0, TPU, 0, 0)\n"
     ]
    },
    {
     "name": "stdout",
     "output_type": "stream",
     "text": [
      "INFO:tensorflow:*** Available Device: _DeviceAttributes(/job:worker/replica:0/task:0/device:TPU:1, TPU, 0, 0)\n"
     ]
    },
    {
     "name": "stderr",
     "output_type": "stream",
     "text": [
      "INFO:tensorflow:*** Available Device: _DeviceAttributes(/job:worker/replica:0/task:0/device:TPU:1, TPU, 0, 0)\n"
     ]
    },
    {
     "name": "stdout",
     "output_type": "stream",
     "text": [
      "INFO:tensorflow:*** Available Device: _DeviceAttributes(/job:worker/replica:0/task:0/device:TPU:2, TPU, 0, 0)\n"
     ]
    },
    {
     "name": "stderr",
     "output_type": "stream",
     "text": [
      "INFO:tensorflow:*** Available Device: _DeviceAttributes(/job:worker/replica:0/task:0/device:TPU:2, TPU, 0, 0)\n"
     ]
    },
    {
     "name": "stdout",
     "output_type": "stream",
     "text": [
      "INFO:tensorflow:*** Available Device: _DeviceAttributes(/job:worker/replica:0/task:0/device:TPU:3, TPU, 0, 0)\n"
     ]
    },
    {
     "name": "stderr",
     "output_type": "stream",
     "text": [
      "INFO:tensorflow:*** Available Device: _DeviceAttributes(/job:worker/replica:0/task:0/device:TPU:3, TPU, 0, 0)\n"
     ]
    },
    {
     "name": "stdout",
     "output_type": "stream",
     "text": [
      "INFO:tensorflow:*** Available Device: _DeviceAttributes(/job:worker/replica:0/task:0/device:TPU:4, TPU, 0, 0)\n"
     ]
    },
    {
     "name": "stderr",
     "output_type": "stream",
     "text": [
      "INFO:tensorflow:*** Available Device: _DeviceAttributes(/job:worker/replica:0/task:0/device:TPU:4, TPU, 0, 0)\n"
     ]
    },
    {
     "name": "stdout",
     "output_type": "stream",
     "text": [
      "INFO:tensorflow:*** Available Device: _DeviceAttributes(/job:worker/replica:0/task:0/device:TPU:5, TPU, 0, 0)\n"
     ]
    },
    {
     "name": "stderr",
     "output_type": "stream",
     "text": [
      "INFO:tensorflow:*** Available Device: _DeviceAttributes(/job:worker/replica:0/task:0/device:TPU:5, TPU, 0, 0)\n"
     ]
    },
    {
     "name": "stdout",
     "output_type": "stream",
     "text": [
      "INFO:tensorflow:*** Available Device: _DeviceAttributes(/job:worker/replica:0/task:0/device:TPU:6, TPU, 0, 0)\n"
     ]
    },
    {
     "name": "stderr",
     "output_type": "stream",
     "text": [
      "INFO:tensorflow:*** Available Device: _DeviceAttributes(/job:worker/replica:0/task:0/device:TPU:6, TPU, 0, 0)\n"
     ]
    },
    {
     "name": "stdout",
     "output_type": "stream",
     "text": [
      "INFO:tensorflow:*** Available Device: _DeviceAttributes(/job:worker/replica:0/task:0/device:TPU:7, TPU, 0, 0)\n"
     ]
    },
    {
     "name": "stderr",
     "output_type": "stream",
     "text": [
      "INFO:tensorflow:*** Available Device: _DeviceAttributes(/job:worker/replica:0/task:0/device:TPU:7, TPU, 0, 0)\n"
     ]
    },
    {
     "name": "stdout",
     "output_type": "stream",
     "text": [
      "INFO:tensorflow:*** Available Device: _DeviceAttributes(/job:worker/replica:0/task:0/device:TPU_SYSTEM:0, TPU_SYSTEM, 0, 0)\n"
     ]
    },
    {
     "name": "stderr",
     "output_type": "stream",
     "text": [
      "INFO:tensorflow:*** Available Device: _DeviceAttributes(/job:worker/replica:0/task:0/device:TPU_SYSTEM:0, TPU_SYSTEM, 0, 0)\n"
     ]
    },
    {
     "name": "stdout",
     "output_type": "stream",
     "text": [
      "INFO:tensorflow:*** Available Device: _DeviceAttributes(/job:worker/replica:0/task:0/device:XLA_CPU:0, XLA_CPU, 0, 0)\n"
     ]
    },
    {
     "name": "stderr",
     "output_type": "stream",
     "text": [
      "INFO:tensorflow:*** Available Device: _DeviceAttributes(/job:worker/replica:0/task:0/device:XLA_CPU:0, XLA_CPU, 0, 0)\n"
     ]
    },
    {
     "name": "stdout",
     "output_type": "stream",
     "text": [
      "Downloading data from https://storage.googleapis.com/keras-applications/efficientnetb5_notop.h5\n",
      "115269632/115263384 [==============================] - 1s 0us/step\n",
      "Model: \"model_4\"\n",
      "_________________________________________________________________\n",
      "Layer (type)                 Output Shape              Param #   \n",
      "=================================================================\n",
      "images_input (InputLayer)    [(None, 512, 512, 3)]     0         \n",
      "_________________________________________________________________\n",
      "resizing_4 (Resizing)        (None, 456, 456, 3)       0         \n",
      "_________________________________________________________________\n",
      "efficientnetb5 (Functional)  (None, 15, 15, 2048)      28513527  \n",
      "_________________________________________________________________\n",
      "global_average_pooling2d_4 ( (None, 2048)              0         \n",
      "_________________________________________________________________\n",
      "dense_8 (Dense)              (None, 8)                 16392     \n",
      "_________________________________________________________________\n",
      "dense_9 (Dense)              (None, 5)                 45        \n",
      "=================================================================\n",
      "Total params: 28,529,964\n",
      "Trainable params: 28,357,221\n",
      "Non-trainable params: 172,743\n",
      "_________________________________________________________________\n",
      "Epoch 1/100\n",
      "146/146 [==============================] - 262s 848ms/step - loss: 1.5885 - accuracy: 0.2817 - val_loss: 1.3985 - val_accuracy: 0.6289\n",
      "Epoch 2/100\n",
      "146/146 [==============================] - 110s 757ms/step - loss: 1.4853 - accuracy: 0.4427 - val_loss: 1.4212 - val_accuracy: 0.6258\n",
      "Epoch 3/100\n",
      "146/146 [==============================] - 111s 758ms/step - loss: 1.3875 - accuracy: 0.5501 - val_loss: 1.6394 - val_accuracy: 0.1574\n",
      "Epoch 4/100\n",
      "146/146 [==============================] - 111s 759ms/step - loss: 1.2971 - accuracy: 0.5891 - val_loss: 1.6533 - val_accuracy: 0.2078\n",
      "Epoch 5/100\n",
      "146/146 [==============================] - 111s 761ms/step - loss: 1.2202 - accuracy: 0.6193 - val_loss: 1.3590 - val_accuracy: 0.5449\n",
      "Epoch 6/100\n",
      "146/146 [==============================] - 111s 760ms/step - loss: 1.1500 - accuracy: 0.6306 - val_loss: 1.1446 - val_accuracy: 0.6414\n",
      "Epoch 7/100\n",
      "146/146 [==============================] - 111s 761ms/step - loss: 1.0928 - accuracy: 0.6393 - val_loss: 1.0775 - val_accuracy: 0.6680\n",
      "Epoch 8/100\n",
      "146/146 [==============================] - 111s 759ms/step - loss: 1.0368 - accuracy: 0.6509 - val_loss: 1.0203 - val_accuracy: 0.6785\n",
      "Epoch 9/100\n",
      "146/146 [==============================] - 111s 760ms/step - loss: 0.7962 - accuracy: 0.7172 - val_loss: 0.5848 - val_accuracy: 0.7969\n",
      "Epoch 10/100\n",
      "146/146 [==============================] - 111s 760ms/step - loss: 0.5390 - accuracy: 0.8188 - val_loss: 0.7801 - val_accuracy: 0.7375\n",
      "Epoch 11/100\n",
      "146/146 [==============================] - 110s 757ms/step - loss: 0.4445 - accuracy: 0.8576 - val_loss: 0.6811 - val_accuracy: 0.7664\n",
      "Epoch 12/100\n",
      "146/146 [==============================] - 111s 762ms/step - loss: 0.3958 - accuracy: 0.8752 - val_loss: 0.5190 - val_accuracy: 0.8391\n",
      "Epoch 13/100\n",
      "146/146 [==============================] - 112s 765ms/step - loss: 0.3449 - accuracy: 0.8925 - val_loss: 0.5123 - val_accuracy: 0.8352\n",
      "Epoch 14/100\n",
      "146/146 [==============================] - 111s 763ms/step - loss: 0.2835 - accuracy: 0.9184 - val_loss: 0.5443 - val_accuracy: 0.8242\n",
      "Epoch 15/100\n",
      "146/146 [==============================] - 110s 756ms/step - loss: 0.2484 - accuracy: 0.9335 - val_loss: 0.5799 - val_accuracy: 0.8309\n",
      "Epoch 16/100\n",
      "146/146 [==============================] - 111s 762ms/step - loss: 0.2186 - accuracy: 0.9432 - val_loss: 0.5889 - val_accuracy: 0.8348\n",
      "Epoch 17/100\n",
      "146/146 [==============================] - 111s 762ms/step - loss: 0.1970 - accuracy: 0.9527 - val_loss: 0.5828 - val_accuracy: 0.8391\n",
      "Epoch 18/100\n",
      "146/146 [==============================] - 111s 762ms/step - loss: 0.1775 - accuracy: 0.9603 - val_loss: 0.5995 - val_accuracy: 0.8281\n",
      "Epoch 19/100\n",
      "146/146 [==============================] - 111s 760ms/step - loss: 0.1625 - accuracy: 0.9654 - val_loss: 0.5824 - val_accuracy: 0.8418\n",
      "Epoch 20/100\n",
      "146/146 [==============================] - 111s 762ms/step - loss: 0.1585 - accuracy: 0.9689 - val_loss: 0.5794 - val_accuracy: 0.8371\n",
      "Epoch 21/100\n",
      "146/146 [==============================] - 111s 760ms/step - loss: 0.1440 - accuracy: 0.9729 - val_loss: 0.6171 - val_accuracy: 0.8359\n",
      "Epoch 22/100\n",
      "146/146 [==============================] - 111s 761ms/step - loss: 0.1388 - accuracy: 0.9743 - val_loss: 0.6160 - val_accuracy: 0.8375\n",
      "Epoch 23/100\n",
      "146/146 [==============================] - 110s 756ms/step - loss: 0.1315 - accuracy: 0.9800 - val_loss: 0.6038 - val_accuracy: 0.8340\n",
      "Epoch 24/100\n",
      "146/146 [==============================] - 111s 761ms/step - loss: 0.1237 - accuracy: 0.9825 - val_loss: 0.6299 - val_accuracy: 0.8332\n",
      "Epoch 25/100\n",
      "146/146 [==============================] - 111s 759ms/step - loss: 0.1221 - accuracy: 0.9830 - val_loss: 0.6361 - val_accuracy: 0.8301\n",
      "Epoch 26/100\n",
      "146/146 [==============================] - 111s 759ms/step - loss: 0.1222 - accuracy: 0.9822 - val_loss: 0.6370 - val_accuracy: 0.8316\n",
      "Epoch 27/100\n",
      "146/146 [==============================] - 111s 760ms/step - loss: 0.1170 - accuracy: 0.9837 - val_loss: 0.6133 - val_accuracy: 0.8328\n",
      "Epoch 28/100\n",
      "146/146 [==============================] - 111s 760ms/step - loss: 0.1163 - accuracy: 0.9845 - val_loss: 0.6265 - val_accuracy: 0.8418\n",
      "Epoch 29/100\n",
      "146/146 [==============================] - 111s 760ms/step - loss: 0.1152 - accuracy: 0.9848 - val_loss: 0.6122 - val_accuracy: 0.8398\n",
      "INFO:tensorflow:Shutting down the TPU system: grpc://10.35.185.82:8470\n"
     ]
    },
    {
     "name": "stderr",
     "output_type": "stream",
     "text": [
      "INFO:tensorflow:Shutting down the TPU system: grpc://10.35.185.82:8470\n"
     ]
    },
    {
     "name": "stdout",
     "output_type": "stream",
     "text": [
      "INFO:tensorflow:Clearing out eager caches\n"
     ]
    },
    {
     "name": "stderr",
     "output_type": "stream",
     "text": [
      "INFO:tensorflow:Clearing out eager caches\n"
     ]
    },
    {
     "name": "stdout",
     "output_type": "stream",
     "text": [
      "INFO:tensorflow:Finished shutting down TPU system.\n"
     ]
    },
    {
     "name": "stderr",
     "output_type": "stream",
     "text": [
      "INFO:tensorflow:Finished shutting down TPU system.\n"
     ]
    },
    {
     "name": "stdout",
     "output_type": "stream",
     "text": [
      "INFO:tensorflow:Initializing the TPU system: grpc://10.35.185.82:8470\n"
     ]
    },
    {
     "name": "stderr",
     "output_type": "stream",
     "text": [
      "INFO:tensorflow:Initializing the TPU system: grpc://10.35.185.82:8470\n"
     ]
    },
    {
     "name": "stdout",
     "output_type": "stream",
     "text": [
      "INFO:tensorflow:Clearing out eager caches\n"
     ]
    },
    {
     "name": "stderr",
     "output_type": "stream",
     "text": [
      "INFO:tensorflow:Clearing out eager caches\n"
     ]
    },
    {
     "name": "stdout",
     "output_type": "stream",
     "text": [
      "INFO:tensorflow:Finished initializing TPU system.\n"
     ]
    },
    {
     "name": "stderr",
     "output_type": "stream",
     "text": [
      "INFO:tensorflow:Finished initializing TPU system.\n",
      "WARNING:absl:`tf.distribute.experimental.TPUStrategy` is deprecated, please use  the non experimental symbol `tf.distribute.TPUStrategy` instead.\n"
     ]
    },
    {
     "name": "stdout",
     "output_type": "stream",
     "text": [
      "INFO:tensorflow:Found TPU system:\n"
     ]
    },
    {
     "name": "stderr",
     "output_type": "stream",
     "text": [
      "INFO:tensorflow:Found TPU system:\n"
     ]
    },
    {
     "name": "stdout",
     "output_type": "stream",
     "text": [
      "INFO:tensorflow:*** Num TPU Cores: 8\n"
     ]
    },
    {
     "name": "stderr",
     "output_type": "stream",
     "text": [
      "INFO:tensorflow:*** Num TPU Cores: 8\n"
     ]
    },
    {
     "name": "stdout",
     "output_type": "stream",
     "text": [
      "INFO:tensorflow:*** Num TPU Workers: 1\n"
     ]
    },
    {
     "name": "stderr",
     "output_type": "stream",
     "text": [
      "INFO:tensorflow:*** Num TPU Workers: 1\n"
     ]
    },
    {
     "name": "stdout",
     "output_type": "stream",
     "text": [
      "INFO:tensorflow:*** Num TPU Cores Per Worker: 8\n"
     ]
    },
    {
     "name": "stderr",
     "output_type": "stream",
     "text": [
      "INFO:tensorflow:*** Num TPU Cores Per Worker: 8\n"
     ]
    },
    {
     "name": "stdout",
     "output_type": "stream",
     "text": [
      "INFO:tensorflow:*** Available Device: _DeviceAttributes(/job:localhost/replica:0/task:0/device:CPU:0, CPU, 0, 0)\n"
     ]
    },
    {
     "name": "stderr",
     "output_type": "stream",
     "text": [
      "INFO:tensorflow:*** Available Device: _DeviceAttributes(/job:localhost/replica:0/task:0/device:CPU:0, CPU, 0, 0)\n"
     ]
    },
    {
     "name": "stdout",
     "output_type": "stream",
     "text": [
      "INFO:tensorflow:*** Available Device: _DeviceAttributes(/job:worker/replica:0/task:0/device:CPU:0, CPU, 0, 0)\n"
     ]
    },
    {
     "name": "stderr",
     "output_type": "stream",
     "text": [
      "INFO:tensorflow:*** Available Device: _DeviceAttributes(/job:worker/replica:0/task:0/device:CPU:0, CPU, 0, 0)\n"
     ]
    },
    {
     "name": "stdout",
     "output_type": "stream",
     "text": [
      "INFO:tensorflow:*** Available Device: _DeviceAttributes(/job:worker/replica:0/task:0/device:TPU:0, TPU, 0, 0)\n"
     ]
    },
    {
     "name": "stderr",
     "output_type": "stream",
     "text": [
      "INFO:tensorflow:*** Available Device: _DeviceAttributes(/job:worker/replica:0/task:0/device:TPU:0, TPU, 0, 0)\n"
     ]
    },
    {
     "name": "stdout",
     "output_type": "stream",
     "text": [
      "INFO:tensorflow:*** Available Device: _DeviceAttributes(/job:worker/replica:0/task:0/device:TPU:1, TPU, 0, 0)\n"
     ]
    },
    {
     "name": "stderr",
     "output_type": "stream",
     "text": [
      "INFO:tensorflow:*** Available Device: _DeviceAttributes(/job:worker/replica:0/task:0/device:TPU:1, TPU, 0, 0)\n"
     ]
    },
    {
     "name": "stdout",
     "output_type": "stream",
     "text": [
      "INFO:tensorflow:*** Available Device: _DeviceAttributes(/job:worker/replica:0/task:0/device:TPU:2, TPU, 0, 0)\n"
     ]
    },
    {
     "name": "stderr",
     "output_type": "stream",
     "text": [
      "INFO:tensorflow:*** Available Device: _DeviceAttributes(/job:worker/replica:0/task:0/device:TPU:2, TPU, 0, 0)\n"
     ]
    },
    {
     "name": "stdout",
     "output_type": "stream",
     "text": [
      "INFO:tensorflow:*** Available Device: _DeviceAttributes(/job:worker/replica:0/task:0/device:TPU:3, TPU, 0, 0)\n"
     ]
    },
    {
     "name": "stderr",
     "output_type": "stream",
     "text": [
      "INFO:tensorflow:*** Available Device: _DeviceAttributes(/job:worker/replica:0/task:0/device:TPU:3, TPU, 0, 0)\n"
     ]
    },
    {
     "name": "stdout",
     "output_type": "stream",
     "text": [
      "INFO:tensorflow:*** Available Device: _DeviceAttributes(/job:worker/replica:0/task:0/device:TPU:4, TPU, 0, 0)\n"
     ]
    },
    {
     "name": "stderr",
     "output_type": "stream",
     "text": [
      "INFO:tensorflow:*** Available Device: _DeviceAttributes(/job:worker/replica:0/task:0/device:TPU:4, TPU, 0, 0)\n"
     ]
    },
    {
     "name": "stdout",
     "output_type": "stream",
     "text": [
      "INFO:tensorflow:*** Available Device: _DeviceAttributes(/job:worker/replica:0/task:0/device:TPU:5, TPU, 0, 0)\n"
     ]
    },
    {
     "name": "stderr",
     "output_type": "stream",
     "text": [
      "INFO:tensorflow:*** Available Device: _DeviceAttributes(/job:worker/replica:0/task:0/device:TPU:5, TPU, 0, 0)\n"
     ]
    },
    {
     "name": "stdout",
     "output_type": "stream",
     "text": [
      "INFO:tensorflow:*** Available Device: _DeviceAttributes(/job:worker/replica:0/task:0/device:TPU:6, TPU, 0, 0)\n"
     ]
    },
    {
     "name": "stderr",
     "output_type": "stream",
     "text": [
      "INFO:tensorflow:*** Available Device: _DeviceAttributes(/job:worker/replica:0/task:0/device:TPU:6, TPU, 0, 0)\n"
     ]
    },
    {
     "name": "stdout",
     "output_type": "stream",
     "text": [
      "INFO:tensorflow:*** Available Device: _DeviceAttributes(/job:worker/replica:0/task:0/device:TPU:7, TPU, 0, 0)\n"
     ]
    },
    {
     "name": "stderr",
     "output_type": "stream",
     "text": [
      "INFO:tensorflow:*** Available Device: _DeviceAttributes(/job:worker/replica:0/task:0/device:TPU:7, TPU, 0, 0)\n"
     ]
    },
    {
     "name": "stdout",
     "output_type": "stream",
     "text": [
      "INFO:tensorflow:*** Available Device: _DeviceAttributes(/job:worker/replica:0/task:0/device:TPU_SYSTEM:0, TPU_SYSTEM, 0, 0)\n"
     ]
    },
    {
     "name": "stderr",
     "output_type": "stream",
     "text": [
      "INFO:tensorflow:*** Available Device: _DeviceAttributes(/job:worker/replica:0/task:0/device:TPU_SYSTEM:0, TPU_SYSTEM, 0, 0)\n"
     ]
    },
    {
     "name": "stdout",
     "output_type": "stream",
     "text": [
      "INFO:tensorflow:*** Available Device: _DeviceAttributes(/job:worker/replica:0/task:0/device:XLA_CPU:0, XLA_CPU, 0, 0)\n"
     ]
    },
    {
     "name": "stderr",
     "output_type": "stream",
     "text": [
      "INFO:tensorflow:*** Available Device: _DeviceAttributes(/job:worker/replica:0/task:0/device:XLA_CPU:0, XLA_CPU, 0, 0)\n"
     ]
    },
    {
     "name": "stdout",
     "output_type": "stream",
     "text": [
      "Downloading data from https://storage.googleapis.com/keras-applications/efficientnetb6_notop.h5\n",
      "165240832/165234480 [==============================] - 2s 0us/step\n",
      "Model: \"model_5\"\n",
      "_________________________________________________________________\n",
      "Layer (type)                 Output Shape              Param #   \n",
      "=================================================================\n",
      "images_input (InputLayer)    [(None, 512, 512, 3)]     0         \n",
      "_________________________________________________________________\n",
      "resizing_5 (Resizing)        (None, 528, 528, 3)       0         \n",
      "_________________________________________________________________\n",
      "efficientnetb6 (Functional)  (None, 17, 17, 2304)      40960143  \n",
      "_________________________________________________________________\n",
      "global_average_pooling2d_5 ( (None, 2304)              0         \n",
      "_________________________________________________________________\n",
      "dense_10 (Dense)             (None, 8)                 18440     \n",
      "_________________________________________________________________\n",
      "dense_11 (Dense)             (None, 5)                 45        \n",
      "=================================================================\n",
      "Total params: 40,978,628\n",
      "Trainable params: 40,754,189\n",
      "Non-trainable params: 224,439\n",
      "_________________________________________________________________\n",
      "Epoch 1/100\n",
      "146/146 [==============================] - 355s 1s/step - loss: 1.6170 - accuracy: 0.2238 - val_loss: 1.5797 - val_accuracy: 0.2832\n",
      "Epoch 2/100\n",
      "146/146 [==============================] - 173s 1s/step - loss: 1.5242 - accuracy: 0.3715 - val_loss: 1.5353 - val_accuracy: 0.2918\n",
      "Epoch 3/100\n",
      "146/146 [==============================] - 174s 1s/step - loss: 1.4292 - accuracy: 0.4900 - val_loss: 1.5412 - val_accuracy: 0.4516\n",
      "Epoch 4/100\n",
      "146/146 [==============================] - 173s 1s/step - loss: 1.3313 - accuracy: 0.5527 - val_loss: 1.6681 - val_accuracy: 0.1375\n",
      "Epoch 5/100\n",
      "146/146 [==============================] - 174s 1s/step - loss: 1.2397 - accuracy: 0.5798 - val_loss: 1.6578 - val_accuracy: 0.2500\n",
      "Epoch 6/100\n",
      "146/146 [==============================] - 174s 1s/step - loss: 1.1572 - accuracy: 0.6082 - val_loss: 1.2117 - val_accuracy: 0.6000\n",
      "Epoch 7/100\n",
      "146/146 [==============================] - 174s 1s/step - loss: 1.0979 - accuracy: 0.6219 - val_loss: 1.0444 - val_accuracy: 0.6562\n",
      "Epoch 8/100\n",
      "146/146 [==============================] - 174s 1s/step - loss: 1.0352 - accuracy: 0.6380 - val_loss: 1.0043 - val_accuracy: 0.6687\n",
      "Epoch 9/100\n",
      "146/146 [==============================] - 173s 1s/step - loss: 0.7544 - accuracy: 0.7278 - val_loss: 0.6859 - val_accuracy: 0.7504\n",
      "Epoch 10/100\n",
      "146/146 [==============================] - 174s 1s/step - loss: 0.5098 - accuracy: 0.8324 - val_loss: 0.5738 - val_accuracy: 0.8016\n",
      "Epoch 11/100\n",
      "146/146 [==============================] - 174s 1s/step - loss: 0.4238 - accuracy: 0.8634 - val_loss: 0.5801 - val_accuracy: 0.7996\n",
      "Epoch 12/100\n",
      "146/146 [==============================] - 174s 1s/step - loss: 0.3653 - accuracy: 0.8883 - val_loss: 0.5137 - val_accuracy: 0.8363\n",
      "Epoch 13/100\n",
      "146/146 [==============================] - 174s 1s/step - loss: 0.3116 - accuracy: 0.9093 - val_loss: 0.5125 - val_accuracy: 0.8438\n",
      "Epoch 14/100\n",
      "146/146 [==============================] - 174s 1s/step - loss: 0.2601 - accuracy: 0.9305 - val_loss: 0.5445 - val_accuracy: 0.8375\n",
      "Epoch 15/100\n",
      "146/146 [==============================] - 174s 1s/step - loss: 0.2216 - accuracy: 0.9446 - val_loss: 0.5124 - val_accuracy: 0.8574\n",
      "Epoch 16/100\n",
      "146/146 [==============================] - 174s 1s/step - loss: 0.1958 - accuracy: 0.9538 - val_loss: 0.5352 - val_accuracy: 0.8543\n",
      "Epoch 17/100\n",
      "146/146 [==============================] - 174s 1s/step - loss: 0.1748 - accuracy: 0.9615 - val_loss: 0.5365 - val_accuracy: 0.8543\n",
      "Epoch 18/100\n",
      "146/146 [==============================] - 173s 1s/step - loss: 0.1553 - accuracy: 0.9684 - val_loss: 0.5464 - val_accuracy: 0.8543\n",
      "Epoch 19/100\n",
      "146/146 [==============================] - 174s 1s/step - loss: 0.1364 - accuracy: 0.9766 - val_loss: 0.5483 - val_accuracy: 0.8547\n",
      "Epoch 20/100\n",
      "146/146 [==============================] - 174s 1s/step - loss: 0.1301 - accuracy: 0.9792 - val_loss: 0.5442 - val_accuracy: 0.8527\n",
      "Epoch 21/100\n",
      "146/146 [==============================] - 174s 1s/step - loss: 0.1264 - accuracy: 0.9807 - val_loss: 0.5473 - val_accuracy: 0.8523\n",
      "Epoch 22/100\n",
      "146/146 [==============================] - 173s 1s/step - loss: 0.1208 - accuracy: 0.9823 - val_loss: 0.5269 - val_accuracy: 0.8582\n",
      "Epoch 23/100\n",
      "146/146 [==============================] - 173s 1s/step - loss: 0.1135 - accuracy: 0.9868 - val_loss: 0.5595 - val_accuracy: 0.8551\n",
      "Epoch 24/100\n",
      "146/146 [==============================] - 173s 1s/step - loss: 0.1076 - accuracy: 0.9866 - val_loss: 0.5772 - val_accuracy: 0.8480\n",
      "Epoch 25/100\n",
      "146/146 [==============================] - 174s 1s/step - loss: 0.1073 - accuracy: 0.9881 - val_loss: 0.5827 - val_accuracy: 0.8477\n",
      "Epoch 26/100\n",
      "146/146 [==============================] - 174s 1s/step - loss: 0.1060 - accuracy: 0.9877 - val_loss: 0.5638 - val_accuracy: 0.8539\n",
      "Epoch 27/100\n",
      "146/146 [==============================] - 173s 1s/step - loss: 0.1043 - accuracy: 0.9881 - val_loss: 0.5578 - val_accuracy: 0.8559\n",
      "Epoch 28/100\n",
      "146/146 [==============================] - 174s 1s/step - loss: 0.0971 - accuracy: 0.9919 - val_loss: 0.5897 - val_accuracy: 0.8539\n",
      "Epoch 29/100\n",
      "146/146 [==============================] - 174s 1s/step - loss: 0.0998 - accuracy: 0.9908 - val_loss: 0.5640 - val_accuracy: 0.8516\n",
      "Epoch 30/100\n",
      "146/146 [==============================] - 173s 1s/step - loss: 0.0977 - accuracy: 0.9900 - val_loss: 0.5678 - val_accuracy: 0.8512\n",
      "Epoch 31/100\n",
      "146/146 [==============================] - 174s 1s/step - loss: 0.0984 - accuracy: 0.9907 - val_loss: 0.5693 - val_accuracy: 0.8516\n",
      "Epoch 32/100\n",
      "146/146 [==============================] - 174s 1s/step - loss: 0.0958 - accuracy: 0.9915 - val_loss: 0.5806 - val_accuracy: 0.8527\n",
      "INFO:tensorflow:Shutting down the TPU system: grpc://10.35.185.82:8470\n"
     ]
    },
    {
     "name": "stderr",
     "output_type": "stream",
     "text": [
      "INFO:tensorflow:Shutting down the TPU system: grpc://10.35.185.82:8470\n"
     ]
    },
    {
     "name": "stdout",
     "output_type": "stream",
     "text": [
      "INFO:tensorflow:Clearing out eager caches\n"
     ]
    },
    {
     "name": "stderr",
     "output_type": "stream",
     "text": [
      "INFO:tensorflow:Clearing out eager caches\n"
     ]
    },
    {
     "name": "stdout",
     "output_type": "stream",
     "text": [
      "INFO:tensorflow:Finished shutting down TPU system.\n"
     ]
    },
    {
     "name": "stderr",
     "output_type": "stream",
     "text": [
      "INFO:tensorflow:Finished shutting down TPU system.\n"
     ]
    },
    {
     "name": "stdout",
     "output_type": "stream",
     "text": [
      "INFO:tensorflow:Initializing the TPU system: grpc://10.35.185.82:8470\n"
     ]
    },
    {
     "name": "stderr",
     "output_type": "stream",
     "text": [
      "INFO:tensorflow:Initializing the TPU system: grpc://10.35.185.82:8470\n"
     ]
    },
    {
     "name": "stdout",
     "output_type": "stream",
     "text": [
      "INFO:tensorflow:Clearing out eager caches\n"
     ]
    },
    {
     "name": "stderr",
     "output_type": "stream",
     "text": [
      "INFO:tensorflow:Clearing out eager caches\n"
     ]
    },
    {
     "name": "stdout",
     "output_type": "stream",
     "text": [
      "INFO:tensorflow:Finished initializing TPU system.\n"
     ]
    },
    {
     "name": "stderr",
     "output_type": "stream",
     "text": [
      "INFO:tensorflow:Finished initializing TPU system.\n",
      "WARNING:absl:`tf.distribute.experimental.TPUStrategy` is deprecated, please use  the non experimental symbol `tf.distribute.TPUStrategy` instead.\n"
     ]
    },
    {
     "name": "stdout",
     "output_type": "stream",
     "text": [
      "INFO:tensorflow:Found TPU system:\n"
     ]
    },
    {
     "name": "stderr",
     "output_type": "stream",
     "text": [
      "INFO:tensorflow:Found TPU system:\n"
     ]
    },
    {
     "name": "stdout",
     "output_type": "stream",
     "text": [
      "INFO:tensorflow:*** Num TPU Cores: 8\n"
     ]
    },
    {
     "name": "stderr",
     "output_type": "stream",
     "text": [
      "INFO:tensorflow:*** Num TPU Cores: 8\n"
     ]
    },
    {
     "name": "stdout",
     "output_type": "stream",
     "text": [
      "INFO:tensorflow:*** Num TPU Workers: 1\n"
     ]
    },
    {
     "name": "stderr",
     "output_type": "stream",
     "text": [
      "INFO:tensorflow:*** Num TPU Workers: 1\n"
     ]
    },
    {
     "name": "stdout",
     "output_type": "stream",
     "text": [
      "INFO:tensorflow:*** Num TPU Cores Per Worker: 8\n"
     ]
    },
    {
     "name": "stderr",
     "output_type": "stream",
     "text": [
      "INFO:tensorflow:*** Num TPU Cores Per Worker: 8\n"
     ]
    },
    {
     "name": "stdout",
     "output_type": "stream",
     "text": [
      "INFO:tensorflow:*** Available Device: _DeviceAttributes(/job:localhost/replica:0/task:0/device:CPU:0, CPU, 0, 0)\n"
     ]
    },
    {
     "name": "stderr",
     "output_type": "stream",
     "text": [
      "INFO:tensorflow:*** Available Device: _DeviceAttributes(/job:localhost/replica:0/task:0/device:CPU:0, CPU, 0, 0)\n"
     ]
    },
    {
     "name": "stdout",
     "output_type": "stream",
     "text": [
      "INFO:tensorflow:*** Available Device: _DeviceAttributes(/job:worker/replica:0/task:0/device:CPU:0, CPU, 0, 0)\n"
     ]
    },
    {
     "name": "stderr",
     "output_type": "stream",
     "text": [
      "INFO:tensorflow:*** Available Device: _DeviceAttributes(/job:worker/replica:0/task:0/device:CPU:0, CPU, 0, 0)\n"
     ]
    },
    {
     "name": "stdout",
     "output_type": "stream",
     "text": [
      "INFO:tensorflow:*** Available Device: _DeviceAttributes(/job:worker/replica:0/task:0/device:TPU:0, TPU, 0, 0)\n"
     ]
    },
    {
     "name": "stderr",
     "output_type": "stream",
     "text": [
      "INFO:tensorflow:*** Available Device: _DeviceAttributes(/job:worker/replica:0/task:0/device:TPU:0, TPU, 0, 0)\n"
     ]
    },
    {
     "name": "stdout",
     "output_type": "stream",
     "text": [
      "INFO:tensorflow:*** Available Device: _DeviceAttributes(/job:worker/replica:0/task:0/device:TPU:1, TPU, 0, 0)\n"
     ]
    },
    {
     "name": "stderr",
     "output_type": "stream",
     "text": [
      "INFO:tensorflow:*** Available Device: _DeviceAttributes(/job:worker/replica:0/task:0/device:TPU:1, TPU, 0, 0)\n"
     ]
    },
    {
     "name": "stdout",
     "output_type": "stream",
     "text": [
      "INFO:tensorflow:*** Available Device: _DeviceAttributes(/job:worker/replica:0/task:0/device:TPU:2, TPU, 0, 0)\n"
     ]
    },
    {
     "name": "stderr",
     "output_type": "stream",
     "text": [
      "INFO:tensorflow:*** Available Device: _DeviceAttributes(/job:worker/replica:0/task:0/device:TPU:2, TPU, 0, 0)\n"
     ]
    },
    {
     "name": "stdout",
     "output_type": "stream",
     "text": [
      "INFO:tensorflow:*** Available Device: _DeviceAttributes(/job:worker/replica:0/task:0/device:TPU:3, TPU, 0, 0)\n"
     ]
    },
    {
     "name": "stderr",
     "output_type": "stream",
     "text": [
      "INFO:tensorflow:*** Available Device: _DeviceAttributes(/job:worker/replica:0/task:0/device:TPU:3, TPU, 0, 0)\n"
     ]
    },
    {
     "name": "stdout",
     "output_type": "stream",
     "text": [
      "INFO:tensorflow:*** Available Device: _DeviceAttributes(/job:worker/replica:0/task:0/device:TPU:4, TPU, 0, 0)\n"
     ]
    },
    {
     "name": "stderr",
     "output_type": "stream",
     "text": [
      "INFO:tensorflow:*** Available Device: _DeviceAttributes(/job:worker/replica:0/task:0/device:TPU:4, TPU, 0, 0)\n"
     ]
    },
    {
     "name": "stdout",
     "output_type": "stream",
     "text": [
      "INFO:tensorflow:*** Available Device: _DeviceAttributes(/job:worker/replica:0/task:0/device:TPU:5, TPU, 0, 0)\n"
     ]
    },
    {
     "name": "stderr",
     "output_type": "stream",
     "text": [
      "INFO:tensorflow:*** Available Device: _DeviceAttributes(/job:worker/replica:0/task:0/device:TPU:5, TPU, 0, 0)\n"
     ]
    },
    {
     "name": "stdout",
     "output_type": "stream",
     "text": [
      "INFO:tensorflow:*** Available Device: _DeviceAttributes(/job:worker/replica:0/task:0/device:TPU:6, TPU, 0, 0)\n"
     ]
    },
    {
     "name": "stderr",
     "output_type": "stream",
     "text": [
      "INFO:tensorflow:*** Available Device: _DeviceAttributes(/job:worker/replica:0/task:0/device:TPU:6, TPU, 0, 0)\n"
     ]
    },
    {
     "name": "stdout",
     "output_type": "stream",
     "text": [
      "INFO:tensorflow:*** Available Device: _DeviceAttributes(/job:worker/replica:0/task:0/device:TPU:7, TPU, 0, 0)\n"
     ]
    },
    {
     "name": "stderr",
     "output_type": "stream",
     "text": [
      "INFO:tensorflow:*** Available Device: _DeviceAttributes(/job:worker/replica:0/task:0/device:TPU:7, TPU, 0, 0)\n"
     ]
    },
    {
     "name": "stdout",
     "output_type": "stream",
     "text": [
      "INFO:tensorflow:*** Available Device: _DeviceAttributes(/job:worker/replica:0/task:0/device:TPU_SYSTEM:0, TPU_SYSTEM, 0, 0)\n"
     ]
    },
    {
     "name": "stderr",
     "output_type": "stream",
     "text": [
      "INFO:tensorflow:*** Available Device: _DeviceAttributes(/job:worker/replica:0/task:0/device:TPU_SYSTEM:0, TPU_SYSTEM, 0, 0)\n"
     ]
    },
    {
     "name": "stdout",
     "output_type": "stream",
     "text": [
      "INFO:tensorflow:*** Available Device: _DeviceAttributes(/job:worker/replica:0/task:0/device:XLA_CPU:0, XLA_CPU, 0, 0)\n"
     ]
    },
    {
     "name": "stderr",
     "output_type": "stream",
     "text": [
      "INFO:tensorflow:*** Available Device: _DeviceAttributes(/job:worker/replica:0/task:0/device:XLA_CPU:0, XLA_CPU, 0, 0)\n"
     ]
    }
   ],
   "source": [
    "transfer_modeels = [tl.EfficientNetB1, tl.EfficientNetB2, tl.EfficientNetB3, #removed: tl.EfficientNetB0\n",
    "                   tl.EfficientNetB4, tl.EfficientNetB5, tl.EfficientNetB6,]\n",
    "input_sizes = [240, 260, 300, 380, 456, 528,] #removed: 224\n",
    "# input_sizes = [456, 528, 600]\n",
    "# transfer_modeels = [tl.EfficientNetB5, tl.EfficientNetB6, tl.EfficientNetB7]\n",
    "\n",
    "transfer_models_sizes = zip(transfer_modeels, input_sizes)\n",
    "# with strategy.scope():\n",
    "model_dict = dict()\n",
    "count = 0\n",
    "for mdl, size in transfer_models_sizes:\n",
    "    model_dict[count] = dict()\n",
    "    with strategy.scope():\n",
    "        model_dict[count]['model'] = create_model(pretrained_model=mdl,\n",
    "                                                  pretrained_input_size=size)\n",
    "    #     model_dict[count]['model'].summary()\n",
    "    #     model_dict[count]['histor_'] = model_dict[count]['model'].fit(train_ds,\n",
    "    #                                                                   epochs=params['epochs'],\n",
    "    #                                                                   steps_per_epoch=epoch_steps,\n",
    "    #                                                                   validation_data=valid_ds,\n",
    "    #                                                                   validation_steps=valid_steps,\n",
    "    # #                                                                       class_weights=class_weights,\n",
    "    #                                                           callbacks=[early_stopping, lr_schedule_],\n",
    "    #                                                           verbose=1)\n",
    "    #     # model_dict[count]['untrainable_history'] = training_procedure(model_dict[count]['model'], schedule=lr_schedule_)\n",
    "    #     model_dict[count]['model'].trainable = True\n",
    "        model_dict[count]['model'].summary()\n",
    "        model_dict[count]['history'] = model_dict[count]['model'].fit(train_ds,\n",
    "                                                                      epochs=params['epochs'],\n",
    "                                                                      steps_per_epoch=epoch_steps,\n",
    "                                                                      validation_data=valid_ds,\n",
    "                                                                      validation_steps=valid_steps,\n",
    "    #                                                                       class_weights=class_weights,\n",
    "                                                              callbacks=[early_stopping, lr_schedule],\n",
    "                                                              verbose=1)\n",
    "        # model_dict[count]['history'] = training_procedure(model_dict[count]['model'])\n",
    "    model_path = 'model{}.h5'.format(count,)\n",
    "    model_dict[count]['model'].save(model_path)\n",
    "    model_dict[count]['max_accuracy'] = max(model_dict[count]['history'].history['val_accuracy'])\n",
    "    tf.tpu.experimental.shutdown_tpu_system()\n",
    "    start_tpu()\n",
    "    strategy = tf.distribute.experimental.TPUStrategy(tpu)\n",
    "\n",
    "    count +=1"
   ]
  },
  {
   "cell_type": "code",
   "execution_count": 22,
   "id": "starting-landscape",
   "metadata": {
    "id": "starting-landscape"
   },
   "outputs": [],
   "source": [
    "def remove_last_model_layer(model, make_untrainable=False):\n",
    "    '''\n",
    "    removes last layer from a model, and optionally makes\n",
    "    entire model untrainable\n",
    "    '''\n",
    "    input_layer = model.input\n",
    "    output_layer = model.layers[-2].output\n",
    "    # if make_untrainable == True:\n",
    "    #     for layer in model.layers:\n",
    "    #         layer.trainable = False\n",
    "    new_model = keras.Model(input_layer, output_layer)\n",
    "    new_model.trainable = False\n",
    "    return new_model\n"
   ]
  },
  {
   "cell_type": "code",
   "execution_count": 23,
   "id": "ordered-breed",
   "metadata": {
    "id": "ordered-breed"
   },
   "outputs": [],
   "source": [
    "for model in model_dict:\n",
    "    model_path = 'model{}.h5'.format(model,)\n",
    "    with strategy.scope():\n",
    "        model_dict[model]['saved_model'] = tf.keras.models.load_model(model_path)\n",
    "        model_dict[model]['model_no_last_layer'] = remove_last_model_layer(model_dict[model]['saved_model'])"
   ]
  },
  {
   "cell_type": "code",
   "execution_count": 24,
   "id": "proud-daniel",
   "metadata": {
    "colab": {
     "base_uri": "https://localhost:8080/"
    },
    "id": "proud-daniel",
    "outputId": "6b04adbd-3c9b-4302-fdaf-a4abefd04a82"
   },
   "outputs": [
    {
     "data": {
      "text/plain": [
       "{0: {'history': <tensorflow.python.keras.callbacks.History at 0x7f8c41ef8080>,\n",
       "  'max_accuracy': 0.821484386920929,\n",
       "  'model': <tensorflow.python.keras.engine.functional.Functional at 0x7f8c41f35e80>,\n",
       "  'model_no_last_layer': <tensorflow.python.keras.engine.functional.Functional at 0x7f8c104345f8>,\n",
       "  'saved_model': <tensorflow.python.keras.engine.functional.Functional at 0x7f8c07c3ff60>},\n",
       " 1: {'history': <tensorflow.python.keras.callbacks.History at 0x7f8c38c21860>,\n",
       "  'max_accuracy': 0.823437511920929,\n",
       "  'model': <tensorflow.python.keras.engine.functional.Functional at 0x7f8c38cd26d8>,\n",
       "  'model_no_last_layer': <tensorflow.python.keras.engine.functional.Functional at 0x7f8c07739748>,\n",
       "  'saved_model': <tensorflow.python.keras.engine.functional.Functional at 0x7f8c07090f98>},\n",
       " 2: {'history': <tensorflow.python.keras.callbacks.History at 0x7f8c312d8748>,\n",
       "  'max_accuracy': 0.83203125,\n",
       "  'model': <tensorflow.python.keras.engine.functional.Functional at 0x7f8c30b35588>,\n",
       "  'model_no_last_layer': <tensorflow.python.keras.engine.functional.Functional at 0x7f8c10434470>,\n",
       "  'saved_model': <tensorflow.python.keras.engine.functional.Functional at 0x7f8c03856550>},\n",
       " 3: {'history': <tensorflow.python.keras.callbacks.History at 0x7f8c27111ac8>,\n",
       "  'max_accuracy': 0.842968761920929,\n",
       "  'model': <tensorflow.python.keras.engine.functional.Functional at 0x7f8c2715d860>,\n",
       "  'model_no_last_layer': <tensorflow.python.keras.engine.functional.Functional at 0x7f8c017f6630>,\n",
       "  'saved_model': <tensorflow.python.keras.engine.functional.Functional at 0x7f8c01e64be0>},\n",
       " 4: {'history': <tensorflow.python.keras.callbacks.History at 0x7f8c1d683e48>,\n",
       "  'max_accuracy': 0.841796875,\n",
       "  'model': <tensorflow.python.keras.engine.functional.Functional at 0x7f8c1d66fef0>,\n",
       "  'model_no_last_layer': <tensorflow.python.keras.engine.functional.Functional at 0x7f8bff73c438>,\n",
       "  'saved_model': <tensorflow.python.keras.engine.functional.Functional at 0x7f8bff544f60>},\n",
       " 5: {'history': <tensorflow.python.keras.callbacks.History at 0x7f8c104a0c88>,\n",
       "  'max_accuracy': 0.858203113079071,\n",
       "  'model': <tensorflow.python.keras.engine.functional.Functional at 0x7f8c104f3be0>,\n",
       "  'model_no_last_layer': <tensorflow.python.keras.engine.functional.Functional at 0x7f8bfcf4e1d0>,\n",
       "  'saved_model': <tensorflow.python.keras.engine.functional.Functional at 0x7f8bfcdc1278>}}"
      ]
     },
     "execution_count": 24,
     "metadata": {
      "tags": []
     },
     "output_type": "execute_result"
    }
   ],
   "source": [
    "model_dict"
   ]
  },
  {
   "cell_type": "code",
   "execution_count": 26,
   "id": "N88EcZw4ZqO7",
   "metadata": {
    "id": "N88EcZw4ZqO7"
   },
   "outputs": [],
   "source": [
    "with strategy.scope():\n",
    "    input_layer = layers.Input((*params['img_size'],3))\n",
    "    layers_to_concatenate = list()\n",
    "    for model in model_dict:\n",
    "        model_dict[model]['model_path'] = model_dict[model]['model_no_last_layer']((input_layer))\n",
    "        model_dict[model]['model_path'] = layers.Dropout(0.3)(model_dict[model]['model_path'])\n",
    "        layers_to_concatenate.append(model_dict[model]['model_path'])\n",
    "    x = layers.Concatenate()(layers_to_concatenate)\n",
    "    x = layers.Dense(128, activation='tanh')(x)\n",
    "    x = layers.Dense(5, activation='softmax')(x)\n",
    "    combined_model = keras.Model([input_layer], x)\n",
    "    metrics = [\n",
    "        keras.metrics.CategoricalAccuracy(name='accuracy'),]\n",
    "    combined_model.compile(\n",
    "        optimizer=tf.keras.optimizers.Adam(),\n",
    "        loss = tf.keras.losses.CategoricalCrossentropy(label_smoothing = 0.01),\n",
    "        metrics=metrics)\n",
    "    "
   ]
  },
  {
   "cell_type": "code",
   "execution_count": 27,
   "id": "ancient-singapore",
   "metadata": {
    "colab": {
     "base_uri": "https://localhost:8080/"
    },
    "id": "ancient-singapore",
    "outputId": "f9df922a-8977-4f7e-ab2a-3aad2ce9c949"
   },
   "outputs": [
    {
     "name": "stdout",
     "output_type": "stream",
     "text": [
      "Model: \"model_12\"\n",
      "__________________________________________________________________________________________________\n",
      "Layer (type)                    Output Shape         Param #     Connected to                     \n",
      "==================================================================================================\n",
      "input_8 (InputLayer)            [(None, 512, 512, 3) 0                                            \n",
      "__________________________________________________________________________________________________\n",
      "model_6 (Functional)            (None, 8)            6585487     input_8[0][0]                    \n",
      "__________________________________________________________________________________________________\n",
      "model_7 (Functional)            (None, 8)            7779841     input_8[0][0]                    \n",
      "__________________________________________________________________________________________________\n",
      "model_8 (Functional)            (None, 8)            10795831    input_8[0][0]                    \n",
      "__________________________________________________________________________________________________\n",
      "model_9 (Functional)            (None, 8)            17688167    input_8[0][0]                    \n",
      "__________________________________________________________________________________________________\n",
      "model_10 (Functional)           (None, 8)            28529919    input_8[0][0]                    \n",
      "__________________________________________________________________________________________________\n",
      "model_11 (Functional)           (None, 8)            40978583    input_8[0][0]                    \n",
      "__________________________________________________________________________________________________\n",
      "dropout_6 (Dropout)             (None, 8)            0           model_6[1][0]                    \n",
      "__________________________________________________________________________________________________\n",
      "dropout_7 (Dropout)             (None, 8)            0           model_7[1][0]                    \n",
      "__________________________________________________________________________________________________\n",
      "dropout_8 (Dropout)             (None, 8)            0           model_8[1][0]                    \n",
      "__________________________________________________________________________________________________\n",
      "dropout_9 (Dropout)             (None, 8)            0           model_9[1][0]                    \n",
      "__________________________________________________________________________________________________\n",
      "dropout_10 (Dropout)            (None, 8)            0           model_10[1][0]                   \n",
      "__________________________________________________________________________________________________\n",
      "dropout_11 (Dropout)            (None, 8)            0           model_11[1][0]                   \n",
      "__________________________________________________________________________________________________\n",
      "concatenate_1 (Concatenate)     (None, 48)           0           dropout_6[0][0]                  \n",
      "                                                                 dropout_7[0][0]                  \n",
      "                                                                 dropout_8[0][0]                  \n",
      "                                                                 dropout_9[0][0]                  \n",
      "                                                                 dropout_10[0][0]                 \n",
      "                                                                 dropout_11[0][0]                 \n",
      "__________________________________________________________________________________________________\n",
      "dense_14 (Dense)                (None, 128)          6272        concatenate_1[0][0]              \n",
      "__________________________________________________________________________________________________\n",
      "dense_15 (Dense)                (None, 5)            645         dense_14[0][0]                   \n",
      "==================================================================================================\n",
      "Total params: 112,364,745\n",
      "Trainable params: 6,917\n",
      "Non-trainable params: 112,357,828\n",
      "__________________________________________________________________________________________________\n"
     ]
    }
   ],
   "source": [
    "combined_model.summary()"
   ]
  },
  {
   "cell_type": "code",
   "execution_count": 28,
   "id": "convenient-virus",
   "metadata": {
    "colab": {
     "base_uri": "https://localhost:8080/"
    },
    "id": "convenient-virus",
    "outputId": "9df351ec-989b-421f-d80d-8a3fbd1cbb0e"
   },
   "outputs": [
    {
     "name": "stdout",
     "output_type": "stream",
     "text": [
      "Epoch 1/100\n",
      "146/146 [==============================] - 331s 1s/step - loss: 1.8162 - accuracy: 0.2276 - val_loss: 1.6727 - val_accuracy: 0.1945\n",
      "Epoch 2/100\n",
      "146/146 [==============================] - 111s 757ms/step - loss: 1.7686 - accuracy: 0.2426 - val_loss: 1.6271 - val_accuracy: 0.2324\n",
      "Epoch 3/100\n",
      "146/146 [==============================] - 111s 758ms/step - loss: 1.7257 - accuracy: 0.2664 - val_loss: 1.5739 - val_accuracy: 0.2785\n",
      "Epoch 4/100\n",
      "146/146 [==============================] - 111s 761ms/step - loss: 1.6717 - accuracy: 0.2814 - val_loss: 1.5282 - val_accuracy: 0.2980\n",
      "Epoch 5/100\n",
      "146/146 [==============================] - 111s 759ms/step - loss: 1.6310 - accuracy: 0.3071 - val_loss: 1.4801 - val_accuracy: 0.3391\n",
      "Epoch 6/100\n",
      "146/146 [==============================] - 111s 759ms/step - loss: 1.5891 - accuracy: 0.3343 - val_loss: 1.4583 - val_accuracy: 0.3883\n",
      "Epoch 7/100\n",
      "146/146 [==============================] - 111s 759ms/step - loss: 1.5663 - accuracy: 0.3425 - val_loss: 1.4080 - val_accuracy: 0.4266\n",
      "Epoch 8/100\n",
      "146/146 [==============================] - 111s 759ms/step - loss: 1.5345 - accuracy: 0.3589 - val_loss: 1.3697 - val_accuracy: 0.4602\n",
      "Epoch 9/100\n",
      "146/146 [==============================] - 111s 759ms/step - loss: 0.9887 - accuracy: 0.6447 - val_loss: 0.5157 - val_accuracy: 0.8328\n",
      "Epoch 10/100\n",
      "146/146 [==============================] - 113s 772ms/step - loss: 0.3494 - accuracy: 0.9164 - val_loss: 0.4905 - val_accuracy: 0.8504\n",
      "Epoch 11/100\n",
      "146/146 [==============================] - 111s 760ms/step - loss: 0.2293 - accuracy: 0.9587 - val_loss: 0.4672 - val_accuracy: 0.8598\n",
      "Epoch 12/100\n",
      "146/146 [==============================] - 111s 759ms/step - loss: 0.1902 - accuracy: 0.9680 - val_loss: 0.4983 - val_accuracy: 0.8543\n",
      "Epoch 13/100\n",
      "146/146 [==============================] - 111s 759ms/step - loss: 0.1657 - accuracy: 0.9746 - val_loss: 0.4948 - val_accuracy: 0.8586\n",
      "Epoch 14/100\n",
      "146/146 [==============================] - 111s 759ms/step - loss: 0.1541 - accuracy: 0.9778 - val_loss: 0.5020 - val_accuracy: 0.8586\n",
      "Epoch 15/100\n",
      "146/146 [==============================] - 111s 762ms/step - loss: 0.1454 - accuracy: 0.9792 - val_loss: 0.5036 - val_accuracy: 0.8621\n",
      "Epoch 16/100\n",
      "146/146 [==============================] - 111s 760ms/step - loss: 0.1377 - accuracy: 0.9810 - val_loss: 0.5188 - val_accuracy: 0.8609\n",
      "Epoch 17/100\n",
      "146/146 [==============================] - 111s 761ms/step - loss: 0.1344 - accuracy: 0.9831 - val_loss: 0.5330 - val_accuracy: 0.8602\n",
      "Epoch 18/100\n",
      "146/146 [==============================] - 111s 760ms/step - loss: 0.1277 - accuracy: 0.9852 - val_loss: 0.5221 - val_accuracy: 0.8633\n",
      "Epoch 19/100\n",
      "146/146 [==============================] - 111s 758ms/step - loss: 0.1243 - accuracy: 0.9858 - val_loss: 0.5432 - val_accuracy: 0.8598\n",
      "Epoch 20/100\n",
      "146/146 [==============================] - 111s 759ms/step - loss: 0.1250 - accuracy: 0.9833 - val_loss: 0.5483 - val_accuracy: 0.8566\n",
      "Epoch 21/100\n",
      "146/146 [==============================] - 111s 759ms/step - loss: 0.1192 - accuracy: 0.9846 - val_loss: 0.5315 - val_accuracy: 0.8648\n",
      "Epoch 22/100\n",
      "146/146 [==============================] - 111s 759ms/step - loss: 0.1204 - accuracy: 0.9837 - val_loss: 0.5661 - val_accuracy: 0.8539\n",
      "Epoch 23/100\n",
      "146/146 [==============================] - 111s 758ms/step - loss: 0.1199 - accuracy: 0.9854 - val_loss: 0.5624 - val_accuracy: 0.8594\n",
      "Epoch 24/100\n",
      "146/146 [==============================] - 111s 758ms/step - loss: 0.1197 - accuracy: 0.9844 - val_loss: 0.5302 - val_accuracy: 0.8637\n",
      "Epoch 25/100\n",
      "146/146 [==============================] - 111s 759ms/step - loss: 0.1171 - accuracy: 0.9859 - val_loss: 0.5389 - val_accuracy: 0.8648\n",
      "Epoch 26/100\n",
      "146/146 [==============================] - 111s 759ms/step - loss: 0.1146 - accuracy: 0.9878 - val_loss: 0.5603 - val_accuracy: 0.8602\n",
      "Epoch 27/100\n",
      "146/146 [==============================] - 110s 757ms/step - loss: 0.1161 - accuracy: 0.9872 - val_loss: 0.5584 - val_accuracy: 0.8637\n",
      "Epoch 28/100\n",
      "146/146 [==============================] - 111s 758ms/step - loss: 0.1142 - accuracy: 0.9872 - val_loss: 0.5758 - val_accuracy: 0.8578\n",
      "Epoch 29/100\n",
      "146/146 [==============================] - 111s 759ms/step - loss: 0.1162 - accuracy: 0.9861 - val_loss: 0.5629 - val_accuracy: 0.8582\n",
      "Epoch 30/100\n",
      "146/146 [==============================] - 111s 759ms/step - loss: 0.1111 - accuracy: 0.9875 - val_loss: 0.5566 - val_accuracy: 0.8648\n",
      "Epoch 31/100\n",
      "146/146 [==============================] - 111s 758ms/step - loss: 0.1181 - accuracy: 0.9846 - val_loss: 0.5622 - val_accuracy: 0.8598\n"
     ]
    }
   ],
   "source": [
    "history = combined_model.fit(train_ds,\n",
    "                            epochs=params['epochs'],\n",
    "                            steps_per_epoch=epoch_steps,\n",
    "                            validation_data=valid_ds,\n",
    "                            validation_steps=valid_steps,\n",
    "                            callbacks=[early_stopping, lr_schedule],\n",
    "                             #consdier adding class weights\n",
    "                            verbose=1)"
   ]
  },
  {
   "cell_type": "code",
   "execution_count": 29,
   "id": "valuable-halloween",
   "metadata": {
    "id": "valuable-halloween"
   },
   "outputs": [],
   "source": [
    "def plot_metric(history, metric1, metric2, ylabel):\n",
    "    plt.plot(history.history[metric1], label=metric1)\n",
    "    plt.plot(history.history[metric2], label=metric2)\n",
    "    plt.ylabel(ylabel)\n",
    "    plt.xlabel('epoch')\n",
    "    plt.legend()\n",
    "    plt.show()\n"
   ]
  },
  {
   "cell_type": "code",
   "execution_count": 30,
   "id": "found-emperor",
   "metadata": {
    "colab": {
     "base_uri": "https://localhost:8080/",
     "height": 541
    },
    "id": "found-emperor",
    "outputId": "4da1d160-7042-4d70-f0f2-a0128ef8194f"
   },
   "outputs": [
    {
     "data": {
      "image/png": "[encoded data removed]",
      "text/plain": [
       "<Figure size 432x288 with 1 Axes>"
      ]
     },
     "metadata": {
      "needs_background": "light",
      "tags": []
     },
     "output_type": "display_data"
    },
    {
     "data": {
      "image/png": "[encoded data removed]",
      "text/plain": [
       "<Figure size 432x288 with 1 Axes>"
      ]
     },
     "metadata": {
      "needs_background": "light",
      "tags": []
     },
     "output_type": "display_data"
    }
   ],
   "source": [
    "plot_metric(history, 'loss', 'val_loss', 'loss')\n",
    "plot_metric(history, 'accuracy', 'val_accuracy', 'accuracy')"
   ]
  },
  {
   "cell_type": "code",
   "execution_count": 31,
   "id": "35ir37vciiCC",
   "metadata": {
    "id": "35ir37vciiCC"
   },
   "outputs": [],
   "source": [
    "combined_model.save('final_model.h5')"
   ]
  },
  {
   "cell_type": "code",
   "execution_count": 34,
   "id": "wuBxXkum-vZc",
   "metadata": {
    "id": "wuBxXkum-vZc"
   },
   "outputs": [],
   "source": [
    "combined_model.save_weights('final_weights')"
   ]
  },
  {
   "cell_type": "code",
   "execution_count": null,
   "id": "2mUrwgeL_AZo",
   "metadata": {
    "id": "2mUrwgeL_AZo"
   },
   "outputs": [],
   "source": [
    ""
   ]
  }
 ],
 "metadata": {
  "accelerator": "TPU",
  "colab": {
   "name": "leaf_disease_classification (4).ipynb",
   "provenance": []
  },
  "kernelspec": {
   "display_name": "Python 3",
   "language": "python",
   "name": "python3"
  },
  "language_info": {
   "codemirror_mode": {
    "name": "ipython",
    "version": 3
   },
   "file_extension": ".py",
   "mimetype": "text/x-python",
   "name": "python",
   "nbconvert_exporter": "python",
   "pygments_lexer": "ipython3",
   "version": "3.8.3"
  }
 },
 "nbformat": 4,
 "nbformat_minor": 5
}
